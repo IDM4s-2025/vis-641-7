{
  "cells": [
    {
      "cell_type": "markdown",
      "metadata": {
        "id": "_XyqjffyjVOC"
      },
      "source": [
        " # Life_Expectancy\n",
        " ## Santiago Nava Figueroa, A01174557\n",
        " ## Paulina Leal Mosqueda, A01659576\n",
        " ## Daniela Robles Estrada, A01659074"
      ]
    },
    {
      "cell_type": "code",
      "execution_count": 1,
      "metadata": {
        "id": "vC7gRMqAq65V"
      },
      "outputs": [],
      "source": [
        "import pandas as pd\n",
        "import requests\n",
        "import sys\n",
        "assert sys.version_info >= (3, 7)\n",
        "from packaging import version\n",
        "import sklearn\n",
        "assert version.parse(sklearn.__version__) >= version.parse(\"1.0.1\")\n",
        "import plotly.express as px\n"
      ]
    },
    {
      "cell_type": "code",
      "execution_count": 2,
      "metadata": {
        "colab": {
          "base_uri": "https://localhost:8080/",
          "height": 423
        },
        "id": "v_OEUGhfrAd2",
        "outputId": "c4811292-eb25-467a-89ab-3e11fd2cf45b"
      },
      "outputs": [
        {
          "data": {
            "text/html": [
              "<div>\n",
              "<style scoped>\n",
              "    .dataframe tbody tr th:only-of-type {\n",
              "        vertical-align: middle;\n",
              "    }\n",
              "\n",
              "    .dataframe tbody tr th {\n",
              "        vertical-align: top;\n",
              "    }\n",
              "\n",
              "    .dataframe thead th {\n",
              "        text-align: right;\n",
              "    }\n",
              "</style>\n",
              "<table border=\"1\" class=\"dataframe\">\n",
              "  <thead>\n",
              "    <tr style=\"text-align: right;\">\n",
              "      <th></th>\n",
              "      <th>Entity</th>\n",
              "      <th>Code</th>\n",
              "      <th>Year</th>\n",
              "      <th>ny_gdp_pcap_pp_kd</th>\n",
              "    </tr>\n",
              "  </thead>\n",
              "  <tbody>\n",
              "    <tr>\n",
              "      <th>0</th>\n",
              "      <td>Afghanistan</td>\n",
              "      <td>AFG</td>\n",
              "      <td>2000</td>\n",
              "      <td>1617.8264</td>\n",
              "    </tr>\n",
              "    <tr>\n",
              "      <th>1</th>\n",
              "      <td>Afghanistan</td>\n",
              "      <td>AFG</td>\n",
              "      <td>2001</td>\n",
              "      <td>1454.1108</td>\n",
              "    </tr>\n",
              "    <tr>\n",
              "      <th>2</th>\n",
              "      <td>Afghanistan</td>\n",
              "      <td>AFG</td>\n",
              "      <td>2002</td>\n",
              "      <td>1774.3087</td>\n",
              "    </tr>\n",
              "    <tr>\n",
              "      <th>3</th>\n",
              "      <td>Afghanistan</td>\n",
              "      <td>AFG</td>\n",
              "      <td>2003</td>\n",
              "      <td>1815.9282</td>\n",
              "    </tr>\n",
              "    <tr>\n",
              "      <th>4</th>\n",
              "      <td>Afghanistan</td>\n",
              "      <td>AFG</td>\n",
              "      <td>2004</td>\n",
              "      <td>1776.9182</td>\n",
              "    </tr>\n",
              "    <tr>\n",
              "      <th>...</th>\n",
              "      <td>...</td>\n",
              "      <td>...</td>\n",
              "      <td>...</td>\n",
              "      <td>...</td>\n",
              "    </tr>\n",
              "    <tr>\n",
              "      <th>7058</th>\n",
              "      <td>Zimbabwe</td>\n",
              "      <td>ZWE</td>\n",
              "      <td>2019</td>\n",
              "      <td>3294.8062</td>\n",
              "    </tr>\n",
              "    <tr>\n",
              "      <th>7059</th>\n",
              "      <td>Zimbabwe</td>\n",
              "      <td>ZWE</td>\n",
              "      <td>2020</td>\n",
              "      <td>2987.2698</td>\n",
              "    </tr>\n",
              "    <tr>\n",
              "      <th>7060</th>\n",
              "      <td>Zimbabwe</td>\n",
              "      <td>ZWE</td>\n",
              "      <td>2021</td>\n",
              "      <td>3184.7854</td>\n",
              "    </tr>\n",
              "    <tr>\n",
              "      <th>7061</th>\n",
              "      <td>Zimbabwe</td>\n",
              "      <td>ZWE</td>\n",
              "      <td>2022</td>\n",
              "      <td>3323.1218</td>\n",
              "    </tr>\n",
              "    <tr>\n",
              "      <th>7062</th>\n",
              "      <td>Zimbabwe</td>\n",
              "      <td>ZWE</td>\n",
              "      <td>2023</td>\n",
              "      <td>3442.2512</td>\n",
              "    </tr>\n",
              "  </tbody>\n",
              "</table>\n",
              "<p>7063 rows × 4 columns</p>\n",
              "</div>"
            ],
            "text/plain": [
              "           Entity Code  Year  ny_gdp_pcap_pp_kd\n",
              "0     Afghanistan  AFG  2000          1617.8264\n",
              "1     Afghanistan  AFG  2001          1454.1108\n",
              "2     Afghanistan  AFG  2002          1774.3087\n",
              "3     Afghanistan  AFG  2003          1815.9282\n",
              "4     Afghanistan  AFG  2004          1776.9182\n",
              "...           ...  ...   ...                ...\n",
              "7058     Zimbabwe  ZWE  2019          3294.8062\n",
              "7059     Zimbabwe  ZWE  2020          2987.2698\n",
              "7060     Zimbabwe  ZWE  2021          3184.7854\n",
              "7061     Zimbabwe  ZWE  2022          3323.1218\n",
              "7062     Zimbabwe  ZWE  2023          3442.2512\n",
              "\n",
              "[7063 rows x 4 columns]"
            ]
          },
          "execution_count": 2,
          "metadata": {},
          "output_type": "execute_result"
        }
      ],
      "source": [
        "# Fetch the data.\n",
        "df = pd.read_csv(\"https://ourworldindata.org/grapher/gdp-per-capita-worldbank.csv?v=1&csvType=full&useColumnShortNames=true\", storage_options = {'User-Agent': 'Our World In Data data fetch/1.0'})\n",
        "\n",
        "# Fetch the metadata\n",
        "metadata = requests.get(\"https://ourworldindata.org/grapher/gdp-per-capita-worldbank.metadata.json?v=1&csvType=full&useColumnShortNames=true\").json()\n",
        "\n",
        "df"
      ]
    },
    {
      "cell_type": "code",
      "execution_count": 3,
      "metadata": {
        "colab": {
          "base_uri": "https://localhost:8080/",
          "height": 423
        },
        "id": "78Z5FdvMrG5U",
        "outputId": "93b27d90-3da3-4264-f047-8f1c30361ed9"
      },
      "outputs": [
        {
          "data": {
            "text/html": [
              "<div>\n",
              "<style scoped>\n",
              "    .dataframe tbody tr th:only-of-type {\n",
              "        vertical-align: middle;\n",
              "    }\n",
              "\n",
              "    .dataframe tbody tr th {\n",
              "        vertical-align: top;\n",
              "    }\n",
              "\n",
              "    .dataframe thead th {\n",
              "        text-align: right;\n",
              "    }\n",
              "</style>\n",
              "<table border=\"1\" class=\"dataframe\">\n",
              "  <thead>\n",
              "    <tr style=\"text-align: right;\">\n",
              "      <th></th>\n",
              "      <th>Entity</th>\n",
              "      <th>LOCATION</th>\n",
              "      <th>Year</th>\n",
              "      <th>ny_gdp_pcap_pp_kd</th>\n",
              "    </tr>\n",
              "  </thead>\n",
              "  <tbody>\n",
              "    <tr>\n",
              "      <th>23</th>\n",
              "      <td>Afghanistan</td>\n",
              "      <td>AFG</td>\n",
              "      <td>2023</td>\n",
              "      <td>1992.4244</td>\n",
              "    </tr>\n",
              "    <tr>\n",
              "      <th>57</th>\n",
              "      <td>Albania</td>\n",
              "      <td>ALB</td>\n",
              "      <td>2023</td>\n",
              "      <td>18244.2930</td>\n",
              "    </tr>\n",
              "    <tr>\n",
              "      <th>91</th>\n",
              "      <td>Algeria</td>\n",
              "      <td>DZA</td>\n",
              "      <td>2023</td>\n",
              "      <td>15159.3240</td>\n",
              "    </tr>\n",
              "    <tr>\n",
              "      <th>125</th>\n",
              "      <td>Andorra</td>\n",
              "      <td>AND</td>\n",
              "      <td>2023</td>\n",
              "      <td>64631.2970</td>\n",
              "    </tr>\n",
              "    <tr>\n",
              "      <th>159</th>\n",
              "      <td>Angola</td>\n",
              "      <td>AGO</td>\n",
              "      <td>2023</td>\n",
              "      <td>7244.8930</td>\n",
              "    </tr>\n",
              "    <tr>\n",
              "      <th>...</th>\n",
              "      <td>...</td>\n",
              "      <td>...</td>\n",
              "      <td>...</td>\n",
              "      <td>...</td>\n",
              "    </tr>\n",
              "    <tr>\n",
              "      <th>6926</th>\n",
              "      <td>Vanuatu</td>\n",
              "      <td>VUT</td>\n",
              "      <td>2023</td>\n",
              "      <td>3118.3960</td>\n",
              "    </tr>\n",
              "    <tr>\n",
              "      <th>6960</th>\n",
              "      <td>Vietnam</td>\n",
              "      <td>VNM</td>\n",
              "      <td>2023</td>\n",
              "      <td>13491.8800</td>\n",
              "    </tr>\n",
              "    <tr>\n",
              "      <th>6994</th>\n",
              "      <td>World</td>\n",
              "      <td>OWID_WRL</td>\n",
              "      <td>2023</td>\n",
              "      <td>20670.9410</td>\n",
              "    </tr>\n",
              "    <tr>\n",
              "      <th>7028</th>\n",
              "      <td>Zambia</td>\n",
              "      <td>ZMB</td>\n",
              "      <td>2023</td>\n",
              "      <td>3673.4841</td>\n",
              "    </tr>\n",
              "    <tr>\n",
              "      <th>7062</th>\n",
              "      <td>Zimbabwe</td>\n",
              "      <td>ZWE</td>\n",
              "      <td>2023</td>\n",
              "      <td>3442.2512</td>\n",
              "    </tr>\n",
              "  </tbody>\n",
              "</table>\n",
              "<p>206 rows × 4 columns</p>\n",
              "</div>"
            ],
            "text/plain": [
              "           Entity  LOCATION  Year  ny_gdp_pcap_pp_kd\n",
              "23    Afghanistan       AFG  2023          1992.4244\n",
              "57        Albania       ALB  2023         18244.2930\n",
              "91        Algeria       DZA  2023         15159.3240\n",
              "125       Andorra       AND  2023         64631.2970\n",
              "159        Angola       AGO  2023          7244.8930\n",
              "...           ...       ...   ...                ...\n",
              "6926      Vanuatu       VUT  2023          3118.3960\n",
              "6960      Vietnam       VNM  2023         13491.8800\n",
              "6994        World  OWID_WRL  2023         20670.9410\n",
              "7028       Zambia       ZMB  2023          3673.4841\n",
              "7062     Zimbabwe       ZWE  2023          3442.2512\n",
              "\n",
              "[206 rows x 4 columns]"
            ]
          },
          "execution_count": 3,
          "metadata": {},
          "output_type": "execute_result"
        }
      ],
      "source": [
        "xd =df.loc[df.Year == 2023]\n",
        "xd\n",
        "gdp = xd.rename(columns = {\"Entity\":\"Country\"})\n",
        "gdp = xd.rename(columns = {\"Code\":\"LOCATION\"})\n",
        "gdp"
      ]
    },
    {
      "cell_type": "code",
      "execution_count": 4,
      "metadata": {
        "colab": {
          "base_uri": "https://localhost:8080/",
          "height": 738
        },
        "id": "FgCHcyehrOwP",
        "outputId": "db5ad7b4-a982-49da-9d9f-cedee5fdbbef"
      },
      "outputs": [
        {
          "data": {
            "text/html": [
              "<div>\n",
              "<style scoped>\n",
              "    .dataframe tbody tr th:only-of-type {\n",
              "        vertical-align: middle;\n",
              "    }\n",
              "\n",
              "    .dataframe tbody tr th {\n",
              "        vertical-align: top;\n",
              "    }\n",
              "\n",
              "    .dataframe thead th {\n",
              "        text-align: right;\n",
              "    }\n",
              "</style>\n",
              "<table border=\"1\" class=\"dataframe\">\n",
              "  <thead>\n",
              "    <tr style=\"text-align: right;\">\n",
              "      <th></th>\n",
              "      <th>STRUCTURE</th>\n",
              "      <th>STRUCTURE_ID</th>\n",
              "      <th>STRUCTURE_NAME</th>\n",
              "      <th>ACTION</th>\n",
              "      <th>LOCATION</th>\n",
              "      <th>Country</th>\n",
              "      <th>INDICATOR</th>\n",
              "      <th>Indicator</th>\n",
              "      <th>MEASURE</th>\n",
              "      <th>Measure</th>\n",
              "      <th>...</th>\n",
              "      <th>OBS_VALUE</th>\n",
              "      <th>Observation Value</th>\n",
              "      <th>OBS_STATUS</th>\n",
              "      <th>Observation Status</th>\n",
              "      <th>UNIT_MEASURE</th>\n",
              "      <th>Unit of Measures</th>\n",
              "      <th>UNIT_MULT</th>\n",
              "      <th>Multiplier</th>\n",
              "      <th>BASE_PER</th>\n",
              "      <th>Base reference period</th>\n",
              "    </tr>\n",
              "  </thead>\n",
              "  <tbody>\n",
              "    <tr>\n",
              "      <th>0</th>\n",
              "      <td>DATAFLOW</td>\n",
              "      <td>OECD:DF_BLI(1.0)</td>\n",
              "      <td>Better Life Index</td>\n",
              "      <td>I</td>\n",
              "      <td>AUT</td>\n",
              "      <td>Austria</td>\n",
              "      <td>JE_LMIS</td>\n",
              "      <td>Labour market insecurity</td>\n",
              "      <td>L</td>\n",
              "      <td>Value</td>\n",
              "      <td>...</td>\n",
              "      <td>2.3</td>\n",
              "      <td>NaN</td>\n",
              "      <td>A</td>\n",
              "      <td>NaN</td>\n",
              "      <td>PC</td>\n",
              "      <td>Percentage</td>\n",
              "      <td>0</td>\n",
              "      <td>Units</td>\n",
              "      <td>NaN</td>\n",
              "      <td>NaN</td>\n",
              "    </tr>\n",
              "    <tr>\n",
              "      <th>1</th>\n",
              "      <td>DATAFLOW</td>\n",
              "      <td>OECD:DF_BLI(1.0)</td>\n",
              "      <td>Better Life Index</td>\n",
              "      <td>I</td>\n",
              "      <td>BEL</td>\n",
              "      <td>Belgium</td>\n",
              "      <td>JE_LMIS</td>\n",
              "      <td>Labour market insecurity</td>\n",
              "      <td>L</td>\n",
              "      <td>Value</td>\n",
              "      <td>...</td>\n",
              "      <td>2.4</td>\n",
              "      <td>NaN</td>\n",
              "      <td>A</td>\n",
              "      <td>NaN</td>\n",
              "      <td>PC</td>\n",
              "      <td>Percentage</td>\n",
              "      <td>0</td>\n",
              "      <td>Units</td>\n",
              "      <td>NaN</td>\n",
              "      <td>NaN</td>\n",
              "    </tr>\n",
              "    <tr>\n",
              "      <th>2</th>\n",
              "      <td>DATAFLOW</td>\n",
              "      <td>OECD:DF_BLI(1.0)</td>\n",
              "      <td>Better Life Index</td>\n",
              "      <td>I</td>\n",
              "      <td>CAN</td>\n",
              "      <td>Canada</td>\n",
              "      <td>JE_LMIS</td>\n",
              "      <td>Labour market insecurity</td>\n",
              "      <td>L</td>\n",
              "      <td>Value</td>\n",
              "      <td>...</td>\n",
              "      <td>3.8</td>\n",
              "      <td>NaN</td>\n",
              "      <td>A</td>\n",
              "      <td>NaN</td>\n",
              "      <td>PC</td>\n",
              "      <td>Percentage</td>\n",
              "      <td>0</td>\n",
              "      <td>Units</td>\n",
              "      <td>NaN</td>\n",
              "      <td>NaN</td>\n",
              "    </tr>\n",
              "    <tr>\n",
              "      <th>3</th>\n",
              "      <td>DATAFLOW</td>\n",
              "      <td>OECD:DF_BLI(1.0)</td>\n",
              "      <td>Better Life Index</td>\n",
              "      <td>I</td>\n",
              "      <td>CZE</td>\n",
              "      <td>Czechia</td>\n",
              "      <td>JE_LMIS</td>\n",
              "      <td>Labour market insecurity</td>\n",
              "      <td>L</td>\n",
              "      <td>Value</td>\n",
              "      <td>...</td>\n",
              "      <td>2.3</td>\n",
              "      <td>NaN</td>\n",
              "      <td>A</td>\n",
              "      <td>NaN</td>\n",
              "      <td>PC</td>\n",
              "      <td>Percentage</td>\n",
              "      <td>0</td>\n",
              "      <td>Units</td>\n",
              "      <td>NaN</td>\n",
              "      <td>NaN</td>\n",
              "    </tr>\n",
              "    <tr>\n",
              "      <th>4</th>\n",
              "      <td>DATAFLOW</td>\n",
              "      <td>OECD:DF_BLI(1.0)</td>\n",
              "      <td>Better Life Index</td>\n",
              "      <td>I</td>\n",
              "      <td>DNK</td>\n",
              "      <td>Denmark</td>\n",
              "      <td>JE_LMIS</td>\n",
              "      <td>Labour market insecurity</td>\n",
              "      <td>L</td>\n",
              "      <td>Value</td>\n",
              "      <td>...</td>\n",
              "      <td>4.5</td>\n",
              "      <td>NaN</td>\n",
              "      <td>A</td>\n",
              "      <td>NaN</td>\n",
              "      <td>PC</td>\n",
              "      <td>Percentage</td>\n",
              "      <td>0</td>\n",
              "      <td>Units</td>\n",
              "      <td>NaN</td>\n",
              "      <td>NaN</td>\n",
              "    </tr>\n",
              "    <tr>\n",
              "      <th>...</th>\n",
              "      <td>...</td>\n",
              "      <td>...</td>\n",
              "      <td>...</td>\n",
              "      <td>...</td>\n",
              "      <td>...</td>\n",
              "      <td>...</td>\n",
              "      <td>...</td>\n",
              "      <td>...</td>\n",
              "      <td>...</td>\n",
              "      <td>...</td>\n",
              "      <td>...</td>\n",
              "      <td>...</td>\n",
              "      <td>...</td>\n",
              "      <td>...</td>\n",
              "      <td>...</td>\n",
              "      <td>...</td>\n",
              "      <td>...</td>\n",
              "      <td>...</td>\n",
              "      <td>...</td>\n",
              "      <td>...</td>\n",
              "      <td>...</td>\n",
              "    </tr>\n",
              "    <tr>\n",
              "      <th>2364</th>\n",
              "      <td>DATAFLOW</td>\n",
              "      <td>OECD:DF_BLI(1.0)</td>\n",
              "      <td>Better Life Index</td>\n",
              "      <td>I</td>\n",
              "      <td>CRI</td>\n",
              "      <td>Costa Rica</td>\n",
              "      <td>HS_LEB</td>\n",
              "      <td>Life expectancy</td>\n",
              "      <td>L</td>\n",
              "      <td>Value</td>\n",
              "      <td>...</td>\n",
              "      <td>77.9</td>\n",
              "      <td>NaN</td>\n",
              "      <td>A</td>\n",
              "      <td>NaN</td>\n",
              "      <td>YR</td>\n",
              "      <td>Years</td>\n",
              "      <td>0</td>\n",
              "      <td>Units</td>\n",
              "      <td>NaN</td>\n",
              "      <td>NaN</td>\n",
              "    </tr>\n",
              "    <tr>\n",
              "      <th>2365</th>\n",
              "      <td>DATAFLOW</td>\n",
              "      <td>OECD:DF_BLI(1.0)</td>\n",
              "      <td>Better Life Index</td>\n",
              "      <td>I</td>\n",
              "      <td>CRI</td>\n",
              "      <td>Costa Rica</td>\n",
              "      <td>HS_LEB</td>\n",
              "      <td>Life expectancy</td>\n",
              "      <td>L</td>\n",
              "      <td>Value</td>\n",
              "      <td>...</td>\n",
              "      <td>83.0</td>\n",
              "      <td>NaN</td>\n",
              "      <td>A</td>\n",
              "      <td>NaN</td>\n",
              "      <td>YR</td>\n",
              "      <td>Years</td>\n",
              "      <td>0</td>\n",
              "      <td>Units</td>\n",
              "      <td>NaN</td>\n",
              "      <td>NaN</td>\n",
              "    </tr>\n",
              "    <tr>\n",
              "      <th>2366</th>\n",
              "      <td>DATAFLOW</td>\n",
              "      <td>OECD:DF_BLI(1.0)</td>\n",
              "      <td>Better Life Index</td>\n",
              "      <td>I</td>\n",
              "      <td>CRI</td>\n",
              "      <td>Costa Rica</td>\n",
              "      <td>PS_REPH</td>\n",
              "      <td>Homicide rate</td>\n",
              "      <td>L</td>\n",
              "      <td>Value</td>\n",
              "      <td>...</td>\n",
              "      <td>10.0</td>\n",
              "      <td>NaN</td>\n",
              "      <td>A</td>\n",
              "      <td>NaN</td>\n",
              "      <td>RATIO</td>\n",
              "      <td>Ratio</td>\n",
              "      <td>0</td>\n",
              "      <td>Units</td>\n",
              "      <td>NaN</td>\n",
              "      <td>NaN</td>\n",
              "    </tr>\n",
              "    <tr>\n",
              "      <th>2367</th>\n",
              "      <td>DATAFLOW</td>\n",
              "      <td>OECD:DF_BLI(1.0)</td>\n",
              "      <td>Better Life Index</td>\n",
              "      <td>I</td>\n",
              "      <td>CRI</td>\n",
              "      <td>Costa Rica</td>\n",
              "      <td>PS_REPH</td>\n",
              "      <td>Homicide rate</td>\n",
              "      <td>L</td>\n",
              "      <td>Value</td>\n",
              "      <td>...</td>\n",
              "      <td>18.2</td>\n",
              "      <td>NaN</td>\n",
              "      <td>A</td>\n",
              "      <td>NaN</td>\n",
              "      <td>RATIO</td>\n",
              "      <td>Ratio</td>\n",
              "      <td>0</td>\n",
              "      <td>Units</td>\n",
              "      <td>NaN</td>\n",
              "      <td>NaN</td>\n",
              "    </tr>\n",
              "    <tr>\n",
              "      <th>2368</th>\n",
              "      <td>DATAFLOW</td>\n",
              "      <td>OECD:DF_BLI(1.0)</td>\n",
              "      <td>Better Life Index</td>\n",
              "      <td>I</td>\n",
              "      <td>CRI</td>\n",
              "      <td>Costa Rica</td>\n",
              "      <td>PS_REPH</td>\n",
              "      <td>Homicide rate</td>\n",
              "      <td>L</td>\n",
              "      <td>Value</td>\n",
              "      <td>...</td>\n",
              "      <td>1.8</td>\n",
              "      <td>NaN</td>\n",
              "      <td>A</td>\n",
              "      <td>NaN</td>\n",
              "      <td>RATIO</td>\n",
              "      <td>Ratio</td>\n",
              "      <td>0</td>\n",
              "      <td>Units</td>\n",
              "      <td>NaN</td>\n",
              "      <td>NaN</td>\n",
              "    </tr>\n",
              "  </tbody>\n",
              "</table>\n",
              "<p>2369 rows × 22 columns</p>\n",
              "</div>"
            ],
            "text/plain": [
              "     STRUCTURE      STRUCTURE_ID     STRUCTURE_NAME ACTION LOCATION  \\\n",
              "0     DATAFLOW  OECD:DF_BLI(1.0)  Better Life Index      I      AUT   \n",
              "1     DATAFLOW  OECD:DF_BLI(1.0)  Better Life Index      I      BEL   \n",
              "2     DATAFLOW  OECD:DF_BLI(1.0)  Better Life Index      I      CAN   \n",
              "3     DATAFLOW  OECD:DF_BLI(1.0)  Better Life Index      I      CZE   \n",
              "4     DATAFLOW  OECD:DF_BLI(1.0)  Better Life Index      I      DNK   \n",
              "...        ...               ...                ...    ...      ...   \n",
              "2364  DATAFLOW  OECD:DF_BLI(1.0)  Better Life Index      I      CRI   \n",
              "2365  DATAFLOW  OECD:DF_BLI(1.0)  Better Life Index      I      CRI   \n",
              "2366  DATAFLOW  OECD:DF_BLI(1.0)  Better Life Index      I      CRI   \n",
              "2367  DATAFLOW  OECD:DF_BLI(1.0)  Better Life Index      I      CRI   \n",
              "2368  DATAFLOW  OECD:DF_BLI(1.0)  Better Life Index      I      CRI   \n",
              "\n",
              "         Country INDICATOR                 Indicator MEASURE Measure  ...  \\\n",
              "0        Austria   JE_LMIS  Labour market insecurity       L   Value  ...   \n",
              "1        Belgium   JE_LMIS  Labour market insecurity       L   Value  ...   \n",
              "2         Canada   JE_LMIS  Labour market insecurity       L   Value  ...   \n",
              "3        Czechia   JE_LMIS  Labour market insecurity       L   Value  ...   \n",
              "4        Denmark   JE_LMIS  Labour market insecurity       L   Value  ...   \n",
              "...          ...       ...                       ...     ...     ...  ...   \n",
              "2364  Costa Rica    HS_LEB           Life expectancy       L   Value  ...   \n",
              "2365  Costa Rica    HS_LEB           Life expectancy       L   Value  ...   \n",
              "2366  Costa Rica   PS_REPH             Homicide rate       L   Value  ...   \n",
              "2367  Costa Rica   PS_REPH             Homicide rate       L   Value  ...   \n",
              "2368  Costa Rica   PS_REPH             Homicide rate       L   Value  ...   \n",
              "\n",
              "     OBS_VALUE  Observation Value  OBS_STATUS  Observation Status  \\\n",
              "0          2.3                NaN           A                 NaN   \n",
              "1          2.4                NaN           A                 NaN   \n",
              "2          3.8                NaN           A                 NaN   \n",
              "3          2.3                NaN           A                 NaN   \n",
              "4          4.5                NaN           A                 NaN   \n",
              "...        ...                ...         ...                 ...   \n",
              "2364      77.9                NaN           A                 NaN   \n",
              "2365      83.0                NaN           A                 NaN   \n",
              "2366      10.0                NaN           A                 NaN   \n",
              "2367      18.2                NaN           A                 NaN   \n",
              "2368       1.8                NaN           A                 NaN   \n",
              "\n",
              "     UNIT_MEASURE  Unit of Measures UNIT_MULT Multiplier  BASE_PER  \\\n",
              "0              PC        Percentage         0      Units       NaN   \n",
              "1              PC        Percentage         0      Units       NaN   \n",
              "2              PC        Percentage         0      Units       NaN   \n",
              "3              PC        Percentage         0      Units       NaN   \n",
              "4              PC        Percentage         0      Units       NaN   \n",
              "...           ...               ...       ...        ...       ...   \n",
              "2364           YR             Years         0      Units       NaN   \n",
              "2365           YR             Years         0      Units       NaN   \n",
              "2366        RATIO             Ratio         0      Units       NaN   \n",
              "2367        RATIO             Ratio         0      Units       NaN   \n",
              "2368        RATIO             Ratio         0      Units       NaN   \n",
              "\n",
              "     Base reference period  \n",
              "0                      NaN  \n",
              "1                      NaN  \n",
              "2                      NaN  \n",
              "3                      NaN  \n",
              "4                      NaN  \n",
              "...                    ...  \n",
              "2364                   NaN  \n",
              "2365                   NaN  \n",
              "2366                   NaN  \n",
              "2367                   NaN  \n",
              "2368                   NaN  \n",
              "\n",
              "[2369 rows x 22 columns]"
            ]
          },
          "execution_count": 4,
          "metadata": {},
          "output_type": "execute_result"
        }
      ],
      "source": [
        "life = pd.read_csv(\"OECD,DF_BLI,+all (2).csv\")\n",
        "life"
      ]
    },
    {
      "cell_type": "code",
      "execution_count": 5,
      "metadata": {
        "colab": {
          "base_uri": "https://localhost:8080/"
        },
        "id": "cpb6o-H95C8I",
        "outputId": "c7959a15-0da7-47f7-8f34-8f2686ac6f9e"
      },
      "outputs": [
        {
          "data": {
            "text/plain": [
              "array(['TOT', 'WMN', 'MN', 'LW', 'HGH'], dtype=object)"
            ]
          },
          "execution_count": 5,
          "metadata": {},
          "output_type": "execute_result"
        }
      ],
      "source": [
        "#Buscar inequality\n",
        "pd.unique(life['INEQUALITY'])"
      ]
    },
    {
      "cell_type": "code",
      "execution_count": 6,
      "metadata": {
        "colab": {
          "base_uri": "https://localhost:8080/",
          "height": 808
        },
        "id": "vuLHA7GQ5Kdp",
        "outputId": "fd88f68e-d85f-4f62-eb59-559ce0d3e6ac"
      },
      "outputs": [
        {
          "data": {
            "text/html": [
              "<div>\n",
              "<style scoped>\n",
              "    .dataframe tbody tr th:only-of-type {\n",
              "        vertical-align: middle;\n",
              "    }\n",
              "\n",
              "    .dataframe tbody tr th {\n",
              "        vertical-align: top;\n",
              "    }\n",
              "\n",
              "    .dataframe thead th {\n",
              "        text-align: right;\n",
              "    }\n",
              "</style>\n",
              "<table border=\"1\" class=\"dataframe\">\n",
              "  <thead>\n",
              "    <tr style=\"text-align: right;\">\n",
              "      <th></th>\n",
              "      <th>STRUCTURE</th>\n",
              "      <th>STRUCTURE_ID</th>\n",
              "      <th>STRUCTURE_NAME</th>\n",
              "      <th>ACTION</th>\n",
              "      <th>LOCATION</th>\n",
              "      <th>Country</th>\n",
              "      <th>INDICATOR</th>\n",
              "      <th>Indicator</th>\n",
              "      <th>MEASURE</th>\n",
              "      <th>Measure</th>\n",
              "      <th>...</th>\n",
              "      <th>OBS_VALUE</th>\n",
              "      <th>Observation Value</th>\n",
              "      <th>OBS_STATUS</th>\n",
              "      <th>Observation Status</th>\n",
              "      <th>UNIT_MEASURE</th>\n",
              "      <th>Unit of Measures</th>\n",
              "      <th>UNIT_MULT</th>\n",
              "      <th>Multiplier</th>\n",
              "      <th>BASE_PER</th>\n",
              "      <th>Base reference period</th>\n",
              "    </tr>\n",
              "  </thead>\n",
              "  <tbody>\n",
              "    <tr>\n",
              "      <th>0</th>\n",
              "      <td>DATAFLOW</td>\n",
              "      <td>OECD:DF_BLI(1.0)</td>\n",
              "      <td>Better Life Index</td>\n",
              "      <td>I</td>\n",
              "      <td>AUT</td>\n",
              "      <td>Austria</td>\n",
              "      <td>JE_LMIS</td>\n",
              "      <td>Labour market insecurity</td>\n",
              "      <td>L</td>\n",
              "      <td>Value</td>\n",
              "      <td>...</td>\n",
              "      <td>2.3</td>\n",
              "      <td>NaN</td>\n",
              "      <td>A</td>\n",
              "      <td>NaN</td>\n",
              "      <td>PC</td>\n",
              "      <td>Percentage</td>\n",
              "      <td>0</td>\n",
              "      <td>Units</td>\n",
              "      <td>NaN</td>\n",
              "      <td>NaN</td>\n",
              "    </tr>\n",
              "    <tr>\n",
              "      <th>1</th>\n",
              "      <td>DATAFLOW</td>\n",
              "      <td>OECD:DF_BLI(1.0)</td>\n",
              "      <td>Better Life Index</td>\n",
              "      <td>I</td>\n",
              "      <td>BEL</td>\n",
              "      <td>Belgium</td>\n",
              "      <td>JE_LMIS</td>\n",
              "      <td>Labour market insecurity</td>\n",
              "      <td>L</td>\n",
              "      <td>Value</td>\n",
              "      <td>...</td>\n",
              "      <td>2.4</td>\n",
              "      <td>NaN</td>\n",
              "      <td>A</td>\n",
              "      <td>NaN</td>\n",
              "      <td>PC</td>\n",
              "      <td>Percentage</td>\n",
              "      <td>0</td>\n",
              "      <td>Units</td>\n",
              "      <td>NaN</td>\n",
              "      <td>NaN</td>\n",
              "    </tr>\n",
              "    <tr>\n",
              "      <th>2</th>\n",
              "      <td>DATAFLOW</td>\n",
              "      <td>OECD:DF_BLI(1.0)</td>\n",
              "      <td>Better Life Index</td>\n",
              "      <td>I</td>\n",
              "      <td>CAN</td>\n",
              "      <td>Canada</td>\n",
              "      <td>JE_LMIS</td>\n",
              "      <td>Labour market insecurity</td>\n",
              "      <td>L</td>\n",
              "      <td>Value</td>\n",
              "      <td>...</td>\n",
              "      <td>3.8</td>\n",
              "      <td>NaN</td>\n",
              "      <td>A</td>\n",
              "      <td>NaN</td>\n",
              "      <td>PC</td>\n",
              "      <td>Percentage</td>\n",
              "      <td>0</td>\n",
              "      <td>Units</td>\n",
              "      <td>NaN</td>\n",
              "      <td>NaN</td>\n",
              "    </tr>\n",
              "    <tr>\n",
              "      <th>3</th>\n",
              "      <td>DATAFLOW</td>\n",
              "      <td>OECD:DF_BLI(1.0)</td>\n",
              "      <td>Better Life Index</td>\n",
              "      <td>I</td>\n",
              "      <td>CZE</td>\n",
              "      <td>Czechia</td>\n",
              "      <td>JE_LMIS</td>\n",
              "      <td>Labour market insecurity</td>\n",
              "      <td>L</td>\n",
              "      <td>Value</td>\n",
              "      <td>...</td>\n",
              "      <td>2.3</td>\n",
              "      <td>NaN</td>\n",
              "      <td>A</td>\n",
              "      <td>NaN</td>\n",
              "      <td>PC</td>\n",
              "      <td>Percentage</td>\n",
              "      <td>0</td>\n",
              "      <td>Units</td>\n",
              "      <td>NaN</td>\n",
              "      <td>NaN</td>\n",
              "    </tr>\n",
              "    <tr>\n",
              "      <th>4</th>\n",
              "      <td>DATAFLOW</td>\n",
              "      <td>OECD:DF_BLI(1.0)</td>\n",
              "      <td>Better Life Index</td>\n",
              "      <td>I</td>\n",
              "      <td>DNK</td>\n",
              "      <td>Denmark</td>\n",
              "      <td>JE_LMIS</td>\n",
              "      <td>Labour market insecurity</td>\n",
              "      <td>L</td>\n",
              "      <td>Value</td>\n",
              "      <td>...</td>\n",
              "      <td>4.5</td>\n",
              "      <td>NaN</td>\n",
              "      <td>A</td>\n",
              "      <td>NaN</td>\n",
              "      <td>PC</td>\n",
              "      <td>Percentage</td>\n",
              "      <td>0</td>\n",
              "      <td>Units</td>\n",
              "      <td>NaN</td>\n",
              "      <td>NaN</td>\n",
              "    </tr>\n",
              "    <tr>\n",
              "      <th>...</th>\n",
              "      <td>...</td>\n",
              "      <td>...</td>\n",
              "      <td>...</td>\n",
              "      <td>...</td>\n",
              "      <td>...</td>\n",
              "      <td>...</td>\n",
              "      <td>...</td>\n",
              "      <td>...</td>\n",
              "      <td>...</td>\n",
              "      <td>...</td>\n",
              "      <td>...</td>\n",
              "      <td>...</td>\n",
              "      <td>...</td>\n",
              "      <td>...</td>\n",
              "      <td>...</td>\n",
              "      <td>...</td>\n",
              "      <td>...</td>\n",
              "      <td>...</td>\n",
              "      <td>...</td>\n",
              "      <td>...</td>\n",
              "      <td>...</td>\n",
              "    </tr>\n",
              "    <tr>\n",
              "      <th>2360</th>\n",
              "      <td>DATAFLOW</td>\n",
              "      <td>OECD:DF_BLI(1.0)</td>\n",
              "      <td>Better Life Index</td>\n",
              "      <td>I</td>\n",
              "      <td>CRI</td>\n",
              "      <td>Costa Rica</td>\n",
              "      <td>HO_NUMR</td>\n",
              "      <td>Rooms per person</td>\n",
              "      <td>L</td>\n",
              "      <td>Value</td>\n",
              "      <td>...</td>\n",
              "      <td>1.2</td>\n",
              "      <td>NaN</td>\n",
              "      <td>A</td>\n",
              "      <td>NaN</td>\n",
              "      <td>RATIO</td>\n",
              "      <td>Ratio</td>\n",
              "      <td>0</td>\n",
              "      <td>Units</td>\n",
              "      <td>NaN</td>\n",
              "      <td>NaN</td>\n",
              "    </tr>\n",
              "    <tr>\n",
              "      <th>2361</th>\n",
              "      <td>DATAFLOW</td>\n",
              "      <td>OECD:DF_BLI(1.0)</td>\n",
              "      <td>Better Life Index</td>\n",
              "      <td>I</td>\n",
              "      <td>CRI</td>\n",
              "      <td>Costa Rica</td>\n",
              "      <td>IW_HADI</td>\n",
              "      <td>Household net adjusted disposable income</td>\n",
              "      <td>L</td>\n",
              "      <td>Value</td>\n",
              "      <td>...</td>\n",
              "      <td>16517.0</td>\n",
              "      <td>NaN</td>\n",
              "      <td>A</td>\n",
              "      <td>NaN</td>\n",
              "      <td>USD</td>\n",
              "      <td>US Dollar</td>\n",
              "      <td>0</td>\n",
              "      <td>Units</td>\n",
              "      <td>NaN</td>\n",
              "      <td>NaN</td>\n",
              "    </tr>\n",
              "    <tr>\n",
              "      <th>2362</th>\n",
              "      <td>DATAFLOW</td>\n",
              "      <td>OECD:DF_BLI(1.0)</td>\n",
              "      <td>Better Life Index</td>\n",
              "      <td>I</td>\n",
              "      <td>CRI</td>\n",
              "      <td>Costa Rica</td>\n",
              "      <td>EQ_AIRP</td>\n",
              "      <td>Air pollution</td>\n",
              "      <td>L</td>\n",
              "      <td>Value</td>\n",
              "      <td>...</td>\n",
              "      <td>17.5</td>\n",
              "      <td>NaN</td>\n",
              "      <td>A</td>\n",
              "      <td>NaN</td>\n",
              "      <td>MICRO_M3</td>\n",
              "      <td>Micrograms per cubic metre</td>\n",
              "      <td>0</td>\n",
              "      <td>Units</td>\n",
              "      <td>NaN</td>\n",
              "      <td>NaN</td>\n",
              "    </tr>\n",
              "    <tr>\n",
              "      <th>2363</th>\n",
              "      <td>DATAFLOW</td>\n",
              "      <td>OECD:DF_BLI(1.0)</td>\n",
              "      <td>Better Life Index</td>\n",
              "      <td>I</td>\n",
              "      <td>CRI</td>\n",
              "      <td>Costa Rica</td>\n",
              "      <td>HS_LEB</td>\n",
              "      <td>Life expectancy</td>\n",
              "      <td>L</td>\n",
              "      <td>Value</td>\n",
              "      <td>...</td>\n",
              "      <td>80.5</td>\n",
              "      <td>NaN</td>\n",
              "      <td>A</td>\n",
              "      <td>NaN</td>\n",
              "      <td>YR</td>\n",
              "      <td>Years</td>\n",
              "      <td>0</td>\n",
              "      <td>Units</td>\n",
              "      <td>NaN</td>\n",
              "      <td>NaN</td>\n",
              "    </tr>\n",
              "    <tr>\n",
              "      <th>2366</th>\n",
              "      <td>DATAFLOW</td>\n",
              "      <td>OECD:DF_BLI(1.0)</td>\n",
              "      <td>Better Life Index</td>\n",
              "      <td>I</td>\n",
              "      <td>CRI</td>\n",
              "      <td>Costa Rica</td>\n",
              "      <td>PS_REPH</td>\n",
              "      <td>Homicide rate</td>\n",
              "      <td>L</td>\n",
              "      <td>Value</td>\n",
              "      <td>...</td>\n",
              "      <td>10.0</td>\n",
              "      <td>NaN</td>\n",
              "      <td>A</td>\n",
              "      <td>NaN</td>\n",
              "      <td>RATIO</td>\n",
              "      <td>Ratio</td>\n",
              "      <td>0</td>\n",
              "      <td>Units</td>\n",
              "      <td>NaN</td>\n",
              "      <td>NaN</td>\n",
              "    </tr>\n",
              "  </tbody>\n",
              "</table>\n",
              "<p>935 rows × 22 columns</p>\n",
              "</div>"
            ],
            "text/plain": [
              "     STRUCTURE      STRUCTURE_ID     STRUCTURE_NAME ACTION LOCATION  \\\n",
              "0     DATAFLOW  OECD:DF_BLI(1.0)  Better Life Index      I      AUT   \n",
              "1     DATAFLOW  OECD:DF_BLI(1.0)  Better Life Index      I      BEL   \n",
              "2     DATAFLOW  OECD:DF_BLI(1.0)  Better Life Index      I      CAN   \n",
              "3     DATAFLOW  OECD:DF_BLI(1.0)  Better Life Index      I      CZE   \n",
              "4     DATAFLOW  OECD:DF_BLI(1.0)  Better Life Index      I      DNK   \n",
              "...        ...               ...                ...    ...      ...   \n",
              "2360  DATAFLOW  OECD:DF_BLI(1.0)  Better Life Index      I      CRI   \n",
              "2361  DATAFLOW  OECD:DF_BLI(1.0)  Better Life Index      I      CRI   \n",
              "2362  DATAFLOW  OECD:DF_BLI(1.0)  Better Life Index      I      CRI   \n",
              "2363  DATAFLOW  OECD:DF_BLI(1.0)  Better Life Index      I      CRI   \n",
              "2366  DATAFLOW  OECD:DF_BLI(1.0)  Better Life Index      I      CRI   \n",
              "\n",
              "         Country INDICATOR                                 Indicator MEASURE  \\\n",
              "0        Austria   JE_LMIS                  Labour market insecurity       L   \n",
              "1        Belgium   JE_LMIS                  Labour market insecurity       L   \n",
              "2         Canada   JE_LMIS                  Labour market insecurity       L   \n",
              "3        Czechia   JE_LMIS                  Labour market insecurity       L   \n",
              "4        Denmark   JE_LMIS                  Labour market insecurity       L   \n",
              "...          ...       ...                                       ...     ...   \n",
              "2360  Costa Rica   HO_NUMR                          Rooms per person       L   \n",
              "2361  Costa Rica   IW_HADI  Household net adjusted disposable income       L   \n",
              "2362  Costa Rica   EQ_AIRP                             Air pollution       L   \n",
              "2363  Costa Rica    HS_LEB                           Life expectancy       L   \n",
              "2366  Costa Rica   PS_REPH                             Homicide rate       L   \n",
              "\n",
              "     Measure  ... OBS_VALUE  Observation Value  OBS_STATUS  \\\n",
              "0      Value  ...       2.3                NaN           A   \n",
              "1      Value  ...       2.4                NaN           A   \n",
              "2      Value  ...       3.8                NaN           A   \n",
              "3      Value  ...       2.3                NaN           A   \n",
              "4      Value  ...       4.5                NaN           A   \n",
              "...      ...  ...       ...                ...         ...   \n",
              "2360   Value  ...       1.2                NaN           A   \n",
              "2361   Value  ...   16517.0                NaN           A   \n",
              "2362   Value  ...      17.5                NaN           A   \n",
              "2363   Value  ...      80.5                NaN           A   \n",
              "2366   Value  ...      10.0                NaN           A   \n",
              "\n",
              "      Observation Status UNIT_MEASURE            Unit of Measures UNIT_MULT  \\\n",
              "0                    NaN           PC                  Percentage         0   \n",
              "1                    NaN           PC                  Percentage         0   \n",
              "2                    NaN           PC                  Percentage         0   \n",
              "3                    NaN           PC                  Percentage         0   \n",
              "4                    NaN           PC                  Percentage         0   \n",
              "...                  ...          ...                         ...       ...   \n",
              "2360                 NaN        RATIO                       Ratio         0   \n",
              "2361                 NaN          USD                   US Dollar         0   \n",
              "2362                 NaN     MICRO_M3  Micrograms per cubic metre         0   \n",
              "2363                 NaN           YR                       Years         0   \n",
              "2366                 NaN        RATIO                       Ratio         0   \n",
              "\n",
              "     Multiplier  BASE_PER Base reference period  \n",
              "0         Units       NaN                   NaN  \n",
              "1         Units       NaN                   NaN  \n",
              "2         Units       NaN                   NaN  \n",
              "3         Units       NaN                   NaN  \n",
              "4         Units       NaN                   NaN  \n",
              "...         ...       ...                   ...  \n",
              "2360      Units       NaN                   NaN  \n",
              "2361      Units       NaN                   NaN  \n",
              "2362      Units       NaN                   NaN  \n",
              "2363      Units       NaN                   NaN  \n",
              "2366      Units       NaN                   NaN  \n",
              "\n",
              "[935 rows x 22 columns]"
            ]
          },
          "execution_count": 6,
          "metadata": {},
          "output_type": "execute_result"
        }
      ],
      "source": [
        "#Tomar solo los valores que digan TOT\n",
        "life = life.loc[life['INEQUALITY'] == 'TOT']\n",
        "life"
      ]
    },
    {
      "cell_type": "code",
      "execution_count": 8,
      "metadata": {
        "colab": {
          "base_uri": "https://localhost:8080/",
          "height": 423
        },
        "id": "KugHquP-rZOh",
        "outputId": "6357e9e5-c52c-4131-962f-3eebeb11358b"
      },
      "outputs": [
        {
          "data": {
            "text/html": [
              "<div>\n",
              "<style scoped>\n",
              "    .dataframe tbody tr th:only-of-type {\n",
              "        vertical-align: middle;\n",
              "    }\n",
              "\n",
              "    .dataframe tbody tr th {\n",
              "        vertical-align: top;\n",
              "    }\n",
              "\n",
              "    .dataframe thead th {\n",
              "        text-align: right;\n",
              "    }\n",
              "</style>\n",
              "<table border=\"1\" class=\"dataframe\">\n",
              "  <thead>\n",
              "    <tr style=\"text-align: right;\">\n",
              "      <th></th>\n",
              "      <th>LOCATION</th>\n",
              "      <th>Country</th>\n",
              "      <th>Indicator</th>\n",
              "      <th>OBS_VALUE</th>\n",
              "    </tr>\n",
              "  </thead>\n",
              "  <tbody>\n",
              "    <tr>\n",
              "      <th>0</th>\n",
              "      <td>AUT</td>\n",
              "      <td>Austria</td>\n",
              "      <td>Labour market insecurity</td>\n",
              "      <td>2.3</td>\n",
              "    </tr>\n",
              "    <tr>\n",
              "      <th>1</th>\n",
              "      <td>BEL</td>\n",
              "      <td>Belgium</td>\n",
              "      <td>Labour market insecurity</td>\n",
              "      <td>2.4</td>\n",
              "    </tr>\n",
              "    <tr>\n",
              "      <th>2</th>\n",
              "      <td>CAN</td>\n",
              "      <td>Canada</td>\n",
              "      <td>Labour market insecurity</td>\n",
              "      <td>3.8</td>\n",
              "    </tr>\n",
              "    <tr>\n",
              "      <th>3</th>\n",
              "      <td>CZE</td>\n",
              "      <td>Czechia</td>\n",
              "      <td>Labour market insecurity</td>\n",
              "      <td>2.3</td>\n",
              "    </tr>\n",
              "    <tr>\n",
              "      <th>4</th>\n",
              "      <td>DNK</td>\n",
              "      <td>Denmark</td>\n",
              "      <td>Labour market insecurity</td>\n",
              "      <td>4.5</td>\n",
              "    </tr>\n",
              "    <tr>\n",
              "      <th>...</th>\n",
              "      <td>...</td>\n",
              "      <td>...</td>\n",
              "      <td>...</td>\n",
              "      <td>...</td>\n",
              "    </tr>\n",
              "    <tr>\n",
              "      <th>2360</th>\n",
              "      <td>CRI</td>\n",
              "      <td>Costa Rica</td>\n",
              "      <td>Rooms per person</td>\n",
              "      <td>1.2</td>\n",
              "    </tr>\n",
              "    <tr>\n",
              "      <th>2361</th>\n",
              "      <td>CRI</td>\n",
              "      <td>Costa Rica</td>\n",
              "      <td>Household net adjusted disposable income</td>\n",
              "      <td>16517.0</td>\n",
              "    </tr>\n",
              "    <tr>\n",
              "      <th>2362</th>\n",
              "      <td>CRI</td>\n",
              "      <td>Costa Rica</td>\n",
              "      <td>Air pollution</td>\n",
              "      <td>17.5</td>\n",
              "    </tr>\n",
              "    <tr>\n",
              "      <th>2363</th>\n",
              "      <td>CRI</td>\n",
              "      <td>Costa Rica</td>\n",
              "      <td>Life expectancy</td>\n",
              "      <td>80.5</td>\n",
              "    </tr>\n",
              "    <tr>\n",
              "      <th>2366</th>\n",
              "      <td>CRI</td>\n",
              "      <td>Costa Rica</td>\n",
              "      <td>Homicide rate</td>\n",
              "      <td>10.0</td>\n",
              "    </tr>\n",
              "  </tbody>\n",
              "</table>\n",
              "<p>935 rows × 4 columns</p>\n",
              "</div>"
            ],
            "text/plain": [
              "     LOCATION     Country                                 Indicator  OBS_VALUE\n",
              "0         AUT     Austria                  Labour market insecurity        2.3\n",
              "1         BEL     Belgium                  Labour market insecurity        2.4\n",
              "2         CAN      Canada                  Labour market insecurity        3.8\n",
              "3         CZE     Czechia                  Labour market insecurity        2.3\n",
              "4         DNK     Denmark                  Labour market insecurity        4.5\n",
              "...       ...         ...                                       ...        ...\n",
              "2360      CRI  Costa Rica                          Rooms per person        1.2\n",
              "2361      CRI  Costa Rica  Household net adjusted disposable income    16517.0\n",
              "2362      CRI  Costa Rica                             Air pollution       17.5\n",
              "2363      CRI  Costa Rica                           Life expectancy       80.5\n",
              "2366      CRI  Costa Rica                             Homicide rate       10.0\n",
              "\n",
              "[935 rows x 4 columns]"
            ]
          },
          "execution_count": 8,
          "metadata": {},
          "output_type": "execute_result"
        }
      ],
      "source": [
        "#Eliminar columnas\n",
        "life = life.drop('STRUCTURE', axis=1, errors='ignore')\n",
        "life = life.drop('STRUCTURE_ID', axis=1, errors='ignore')\n",
        "life = life.drop('STRUCTURE_NAME', axis=1, errors='ignore')\n",
        "life = life.drop('ACTION', axis=1, errors='ignore')\n",
        "life = life.drop('INDICATOR', axis=1, errors='ignore')\n",
        "life = life.drop('MEASURE', axis=1, errors='ignore')\n",
        "life = life.drop('Measure', axis=1, errors='ignore')\n",
        "life = life.drop('INEQUALITY', axis=1, errors='ignore')\n",
        "life = life.drop('...', axis=1, errors='ignore')\n",
        "life = life.drop('Observation Value', axis=1, errors='ignore')\n",
        "life = life.drop('Observation Status', axis=1, errors='ignore')\n",
        "life = life.drop('OBS_STATUS', axis=1, errors='ignore')\n",
        "life = life.drop('UNIT_MEASURE', axis=1, errors='ignore')\n",
        "life = life.drop('Unit of Measures', axis=1, errors='ignore')\n",
        "life = life.drop('UNIT_MULT', axis=1, errors='ignore')\n",
        "life = life.drop('Multiplier', axis=1, errors='ignore')\n",
        "life = life.drop('BASE_PER', axis=1, errors='ignore')\n",
        "life = life.drop('Inequality', axis=1, errors='ignore')\n",
        "life = life.drop('Base reference period', axis=1, errors='ignore')\n",
        "\n",
        "life\n",
        "\n"
      ]
    },
    {
      "cell_type": "code",
      "execution_count": 9,
      "metadata": {
        "colab": {
          "base_uri": "https://localhost:8080/"
        },
        "id": "E22zfeubsuOF",
        "outputId": "fcaf45b9-0b07-4fb0-cbf5-4b6bfced08e6"
      },
      "outputs": [
        {
          "data": {
            "text/plain": [
              "array(['Labour market insecurity', 'Dwellings without basic facilities',\n",
              "       'Housing expenditure', 'Feeling safe walking alone at night',\n",
              "       'Employment rate', 'Long-term unemployment rate',\n",
              "       'Quality of support network', 'Educational attainment',\n",
              "       'Water quality', 'Voter turnout', 'Self-reported health',\n",
              "       'Employees working very long hours',\n",
              "       'Stakeholder engagement for developing regulations',\n",
              "       'Student skills', 'Life satisfaction', 'Rooms per person',\n",
              "       'Household net adjusted disposable income', 'Household net wealth',\n",
              "       'Personal earnings', 'Years in education', 'Air pollution',\n",
              "       'Life expectancy', 'Homicide rate',\n",
              "       'Time devoted to leisure and personal care'], dtype=object)"
            ]
          },
          "execution_count": 9,
          "metadata": {},
          "output_type": "execute_result"
        }
      ],
      "source": [
        "pd.unique(life['Indicator'])"
      ]
    },
    {
      "cell_type": "code",
      "execution_count": 10,
      "metadata": {
        "colab": {
          "base_uri": "https://localhost:8080/",
          "height": 1000
        },
        "id": "4ivMgV6zs7Kc",
        "outputId": "227c5e6f-09ab-4844-c2bc-617f67fbf181"
      },
      "outputs": [
        {
          "data": {
            "text/html": [
              "<div>\n",
              "<style scoped>\n",
              "    .dataframe tbody tr th:only-of-type {\n",
              "        vertical-align: middle;\n",
              "    }\n",
              "\n",
              "    .dataframe tbody tr th {\n",
              "        vertical-align: top;\n",
              "    }\n",
              "\n",
              "    .dataframe thead th {\n",
              "        text-align: right;\n",
              "    }\n",
              "</style>\n",
              "<table border=\"1\" class=\"dataframe\">\n",
              "  <thead>\n",
              "    <tr style=\"text-align: right;\">\n",
              "      <th>Indicator</th>\n",
              "      <th>LOCATION</th>\n",
              "      <th>Country</th>\n",
              "      <th>Air pollution</th>\n",
              "      <th>Dwellings without basic facilities</th>\n",
              "      <th>Educational attainment</th>\n",
              "      <th>Employees working very long hours</th>\n",
              "      <th>Employment rate</th>\n",
              "      <th>Feeling safe walking alone at night</th>\n",
              "      <th>Homicide rate</th>\n",
              "      <th>Household net adjusted disposable income</th>\n",
              "      <th>...</th>\n",
              "      <th>Personal earnings</th>\n",
              "      <th>Quality of support network</th>\n",
              "      <th>Rooms per person</th>\n",
              "      <th>Self-reported health</th>\n",
              "      <th>Stakeholder engagement for developing regulations</th>\n",
              "      <th>Student skills</th>\n",
              "      <th>Time devoted to leisure and personal care</th>\n",
              "      <th>Voter turnout</th>\n",
              "      <th>Water quality</th>\n",
              "      <th>Years in education</th>\n",
              "    </tr>\n",
              "  </thead>\n",
              "  <tbody>\n",
              "    <tr>\n",
              "      <th>0</th>\n",
              "      <td>AUS</td>\n",
              "      <td>Australia</td>\n",
              "      <td>6.7</td>\n",
              "      <td>NaN</td>\n",
              "      <td>84.0</td>\n",
              "      <td>12.5</td>\n",
              "      <td>73.0</td>\n",
              "      <td>67.0</td>\n",
              "      <td>0.9</td>\n",
              "      <td>37433.0</td>\n",
              "      <td>...</td>\n",
              "      <td>55206.0</td>\n",
              "      <td>93.0</td>\n",
              "      <td>NaN</td>\n",
              "      <td>85.0</td>\n",
              "      <td>2.7</td>\n",
              "      <td>499.0</td>\n",
              "      <td>14.36</td>\n",
              "      <td>92.0</td>\n",
              "      <td>92.0</td>\n",
              "      <td>20.0</td>\n",
              "    </tr>\n",
              "    <tr>\n",
              "      <th>1</th>\n",
              "      <td>AUT</td>\n",
              "      <td>Austria</td>\n",
              "      <td>12.2</td>\n",
              "      <td>0.8</td>\n",
              "      <td>86.0</td>\n",
              "      <td>5.3</td>\n",
              "      <td>72.0</td>\n",
              "      <td>86.0</td>\n",
              "      <td>0.5</td>\n",
              "      <td>37001.0</td>\n",
              "      <td>...</td>\n",
              "      <td>53132.0</td>\n",
              "      <td>92.0</td>\n",
              "      <td>1.6</td>\n",
              "      <td>71.0</td>\n",
              "      <td>1.3</td>\n",
              "      <td>491.0</td>\n",
              "      <td>14.51</td>\n",
              "      <td>76.0</td>\n",
              "      <td>92.0</td>\n",
              "      <td>17.0</td>\n",
              "    </tr>\n",
              "    <tr>\n",
              "      <th>2</th>\n",
              "      <td>BEL</td>\n",
              "      <td>Belgium</td>\n",
              "      <td>12.8</td>\n",
              "      <td>0.7</td>\n",
              "      <td>80.0</td>\n",
              "      <td>4.3</td>\n",
              "      <td>65.0</td>\n",
              "      <td>56.0</td>\n",
              "      <td>1.1</td>\n",
              "      <td>34884.0</td>\n",
              "      <td>...</td>\n",
              "      <td>54327.0</td>\n",
              "      <td>90.0</td>\n",
              "      <td>2.1</td>\n",
              "      <td>74.0</td>\n",
              "      <td>2.0</td>\n",
              "      <td>500.0</td>\n",
              "      <td>15.52</td>\n",
              "      <td>88.0</td>\n",
              "      <td>79.0</td>\n",
              "      <td>19.0</td>\n",
              "    </tr>\n",
              "    <tr>\n",
              "      <th>3</th>\n",
              "      <td>BRA</td>\n",
              "      <td>Brazil</td>\n",
              "      <td>11.7</td>\n",
              "      <td>6.7</td>\n",
              "      <td>57.0</td>\n",
              "      <td>5.6</td>\n",
              "      <td>57.0</td>\n",
              "      <td>45.0</td>\n",
              "      <td>19.0</td>\n",
              "      <td>NaN</td>\n",
              "      <td>...</td>\n",
              "      <td>NaN</td>\n",
              "      <td>83.0</td>\n",
              "      <td>NaN</td>\n",
              "      <td>NaN</td>\n",
              "      <td>2.2</td>\n",
              "      <td>400.0</td>\n",
              "      <td>NaN</td>\n",
              "      <td>80.0</td>\n",
              "      <td>70.0</td>\n",
              "      <td>16.0</td>\n",
              "    </tr>\n",
              "    <tr>\n",
              "      <th>4</th>\n",
              "      <td>CAN</td>\n",
              "      <td>Canada</td>\n",
              "      <td>7.1</td>\n",
              "      <td>0.2</td>\n",
              "      <td>92.0</td>\n",
              "      <td>3.3</td>\n",
              "      <td>70.0</td>\n",
              "      <td>78.0</td>\n",
              "      <td>1.2</td>\n",
              "      <td>34421.0</td>\n",
              "      <td>...</td>\n",
              "      <td>55342.0</td>\n",
              "      <td>93.0</td>\n",
              "      <td>2.6</td>\n",
              "      <td>89.0</td>\n",
              "      <td>2.9</td>\n",
              "      <td>517.0</td>\n",
              "      <td>14.57</td>\n",
              "      <td>68.0</td>\n",
              "      <td>90.0</td>\n",
              "      <td>17.0</td>\n",
              "    </tr>\n",
              "    <tr>\n",
              "      <th>5</th>\n",
              "      <td>CHE</td>\n",
              "      <td>Switzerland</td>\n",
              "      <td>10.1</td>\n",
              "      <td>0.0</td>\n",
              "      <td>89.0</td>\n",
              "      <td>0.4</td>\n",
              "      <td>80.0</td>\n",
              "      <td>86.0</td>\n",
              "      <td>0.3</td>\n",
              "      <td>39697.0</td>\n",
              "      <td>...</td>\n",
              "      <td>64824.0</td>\n",
              "      <td>94.0</td>\n",
              "      <td>1.9</td>\n",
              "      <td>81.0</td>\n",
              "      <td>2.3</td>\n",
              "      <td>498.0</td>\n",
              "      <td>NaN</td>\n",
              "      <td>45.0</td>\n",
              "      <td>96.0</td>\n",
              "      <td>17.0</td>\n",
              "    </tr>\n",
              "    <tr>\n",
              "      <th>6</th>\n",
              "      <td>CHL</td>\n",
              "      <td>Chile</td>\n",
              "      <td>23.4</td>\n",
              "      <td>9.4</td>\n",
              "      <td>67.0</td>\n",
              "      <td>7.7</td>\n",
              "      <td>56.0</td>\n",
              "      <td>41.0</td>\n",
              "      <td>2.4</td>\n",
              "      <td>NaN</td>\n",
              "      <td>...</td>\n",
              "      <td>26729.0</td>\n",
              "      <td>88.0</td>\n",
              "      <td>1.9</td>\n",
              "      <td>60.0</td>\n",
              "      <td>1.3</td>\n",
              "      <td>438.0</td>\n",
              "      <td>NaN</td>\n",
              "      <td>47.0</td>\n",
              "      <td>62.0</td>\n",
              "      <td>17.0</td>\n",
              "    </tr>\n",
              "    <tr>\n",
              "      <th>7</th>\n",
              "      <td>COL</td>\n",
              "      <td>Colombia</td>\n",
              "      <td>22.6</td>\n",
              "      <td>12.3</td>\n",
              "      <td>59.0</td>\n",
              "      <td>23.7</td>\n",
              "      <td>58.0</td>\n",
              "      <td>50.0</td>\n",
              "      <td>23.1</td>\n",
              "      <td>NaN</td>\n",
              "      <td>...</td>\n",
              "      <td>NaN</td>\n",
              "      <td>80.0</td>\n",
              "      <td>1.0</td>\n",
              "      <td>80.0</td>\n",
              "      <td>1.4</td>\n",
              "      <td>406.0</td>\n",
              "      <td>NaN</td>\n",
              "      <td>53.0</td>\n",
              "      <td>82.0</td>\n",
              "      <td>14.0</td>\n",
              "    </tr>\n",
              "    <tr>\n",
              "      <th>8</th>\n",
              "      <td>CRI</td>\n",
              "      <td>Costa Rica</td>\n",
              "      <td>17.5</td>\n",
              "      <td>2.3</td>\n",
              "      <td>43.0</td>\n",
              "      <td>22.0</td>\n",
              "      <td>55.0</td>\n",
              "      <td>47.0</td>\n",
              "      <td>10.0</td>\n",
              "      <td>16517.0</td>\n",
              "      <td>...</td>\n",
              "      <td>NaN</td>\n",
              "      <td>82.0</td>\n",
              "      <td>1.2</td>\n",
              "      <td>73.0</td>\n",
              "      <td>1.8</td>\n",
              "      <td>415.0</td>\n",
              "      <td>NaN</td>\n",
              "      <td>66.0</td>\n",
              "      <td>87.0</td>\n",
              "      <td>NaN</td>\n",
              "    </tr>\n",
              "    <tr>\n",
              "      <th>9</th>\n",
              "      <td>CZE</td>\n",
              "      <td>Czechia</td>\n",
              "      <td>17.0</td>\n",
              "      <td>0.5</td>\n",
              "      <td>94.0</td>\n",
              "      <td>4.5</td>\n",
              "      <td>74.0</td>\n",
              "      <td>77.0</td>\n",
              "      <td>0.7</td>\n",
              "      <td>26664.0</td>\n",
              "      <td>...</td>\n",
              "      <td>29885.0</td>\n",
              "      <td>96.0</td>\n",
              "      <td>1.5</td>\n",
              "      <td>62.0</td>\n",
              "      <td>1.6</td>\n",
              "      <td>495.0</td>\n",
              "      <td>NaN</td>\n",
              "      <td>62.0</td>\n",
              "      <td>89.0</td>\n",
              "      <td>18.0</td>\n",
              "    </tr>\n",
              "    <tr>\n",
              "      <th>10</th>\n",
              "      <td>DEU</td>\n",
              "      <td>Germany</td>\n",
              "      <td>12.0</td>\n",
              "      <td>0.1</td>\n",
              "      <td>86.0</td>\n",
              "      <td>3.9</td>\n",
              "      <td>77.0</td>\n",
              "      <td>76.0</td>\n",
              "      <td>0.4</td>\n",
              "      <td>38971.0</td>\n",
              "      <td>...</td>\n",
              "      <td>53745.0</td>\n",
              "      <td>90.0</td>\n",
              "      <td>1.8</td>\n",
              "      <td>66.0</td>\n",
              "      <td>1.8</td>\n",
              "      <td>500.0</td>\n",
              "      <td>15.62</td>\n",
              "      <td>76.0</td>\n",
              "      <td>91.0</td>\n",
              "      <td>18.0</td>\n",
              "    </tr>\n",
              "    <tr>\n",
              "      <th>11</th>\n",
              "      <td>DNK</td>\n",
              "      <td>Denmark</td>\n",
              "      <td>10.0</td>\n",
              "      <td>0.5</td>\n",
              "      <td>82.0</td>\n",
              "      <td>1.1</td>\n",
              "      <td>74.0</td>\n",
              "      <td>85.0</td>\n",
              "      <td>0.5</td>\n",
              "      <td>33774.0</td>\n",
              "      <td>...</td>\n",
              "      <td>58430.0</td>\n",
              "      <td>95.0</td>\n",
              "      <td>1.9</td>\n",
              "      <td>70.0</td>\n",
              "      <td>2.0</td>\n",
              "      <td>501.0</td>\n",
              "      <td>NaN</td>\n",
              "      <td>85.0</td>\n",
              "      <td>93.0</td>\n",
              "      <td>19.0</td>\n",
              "    </tr>\n",
              "    <tr>\n",
              "      <th>12</th>\n",
              "      <td>ESP</td>\n",
              "      <td>Spain</td>\n",
              "      <td>10.0</td>\n",
              "      <td>0.3</td>\n",
              "      <td>63.0</td>\n",
              "      <td>2.5</td>\n",
              "      <td>62.0</td>\n",
              "      <td>80.0</td>\n",
              "      <td>0.7</td>\n",
              "      <td>27155.0</td>\n",
              "      <td>...</td>\n",
              "      <td>37922.0</td>\n",
              "      <td>93.0</td>\n",
              "      <td>1.9</td>\n",
              "      <td>75.0</td>\n",
              "      <td>1.8</td>\n",
              "      <td>NaN</td>\n",
              "      <td>15.75</td>\n",
              "      <td>72.0</td>\n",
              "      <td>76.0</td>\n",
              "      <td>18.0</td>\n",
              "    </tr>\n",
              "    <tr>\n",
              "      <th>13</th>\n",
              "      <td>EST</td>\n",
              "      <td>Estonia</td>\n",
              "      <td>5.9</td>\n",
              "      <td>5.7</td>\n",
              "      <td>91.0</td>\n",
              "      <td>2.2</td>\n",
              "      <td>74.0</td>\n",
              "      <td>79.0</td>\n",
              "      <td>1.9</td>\n",
              "      <td>23784.0</td>\n",
              "      <td>...</td>\n",
              "      <td>30720.0</td>\n",
              "      <td>95.0</td>\n",
              "      <td>1.7</td>\n",
              "      <td>57.0</td>\n",
              "      <td>2.7</td>\n",
              "      <td>526.0</td>\n",
              "      <td>14.98</td>\n",
              "      <td>64.0</td>\n",
              "      <td>86.0</td>\n",
              "      <td>18.0</td>\n",
              "    </tr>\n",
              "    <tr>\n",
              "      <th>14</th>\n",
              "      <td>FIN</td>\n",
              "      <td>Finland</td>\n",
              "      <td>5.5</td>\n",
              "      <td>0.4</td>\n",
              "      <td>91.0</td>\n",
              "      <td>3.6</td>\n",
              "      <td>72.0</td>\n",
              "      <td>88.0</td>\n",
              "      <td>1.2</td>\n",
              "      <td>33471.0</td>\n",
              "      <td>...</td>\n",
              "      <td>46230.0</td>\n",
              "      <td>96.0</td>\n",
              "      <td>1.9</td>\n",
              "      <td>68.0</td>\n",
              "      <td>2.2</td>\n",
              "      <td>516.0</td>\n",
              "      <td>15.17</td>\n",
              "      <td>69.0</td>\n",
              "      <td>97.0</td>\n",
              "      <td>20.0</td>\n",
              "    </tr>\n",
              "    <tr>\n",
              "      <th>15</th>\n",
              "      <td>FRA</td>\n",
              "      <td>France</td>\n",
              "      <td>11.4</td>\n",
              "      <td>0.5</td>\n",
              "      <td>81.0</td>\n",
              "      <td>7.7</td>\n",
              "      <td>65.0</td>\n",
              "      <td>74.0</td>\n",
              "      <td>0.4</td>\n",
              "      <td>34375.0</td>\n",
              "      <td>...</td>\n",
              "      <td>45581.0</td>\n",
              "      <td>94.0</td>\n",
              "      <td>1.8</td>\n",
              "      <td>67.0</td>\n",
              "      <td>2.1</td>\n",
              "      <td>494.0</td>\n",
              "      <td>16.20</td>\n",
              "      <td>75.0</td>\n",
              "      <td>78.0</td>\n",
              "      <td>17.0</td>\n",
              "    </tr>\n",
              "    <tr>\n",
              "      <th>16</th>\n",
              "      <td>GBR</td>\n",
              "      <td>United Kingdom</td>\n",
              "      <td>10.1</td>\n",
              "      <td>0.5</td>\n",
              "      <td>82.0</td>\n",
              "      <td>10.8</td>\n",
              "      <td>75.0</td>\n",
              "      <td>78.0</td>\n",
              "      <td>0.2</td>\n",
              "      <td>33049.0</td>\n",
              "      <td>...</td>\n",
              "      <td>47147.0</td>\n",
              "      <td>93.0</td>\n",
              "      <td>2.0</td>\n",
              "      <td>73.0</td>\n",
              "      <td>3.1</td>\n",
              "      <td>503.0</td>\n",
              "      <td>14.94</td>\n",
              "      <td>68.0</td>\n",
              "      <td>82.0</td>\n",
              "      <td>17.0</td>\n",
              "    </tr>\n",
              "    <tr>\n",
              "      <th>17</th>\n",
              "      <td>GRC</td>\n",
              "      <td>Greece</td>\n",
              "      <td>14.5</td>\n",
              "      <td>0.4</td>\n",
              "      <td>76.0</td>\n",
              "      <td>4.5</td>\n",
              "      <td>56.0</td>\n",
              "      <td>69.0</td>\n",
              "      <td>1.0</td>\n",
              "      <td>20791.0</td>\n",
              "      <td>...</td>\n",
              "      <td>27207.0</td>\n",
              "      <td>78.0</td>\n",
              "      <td>1.2</td>\n",
              "      <td>79.0</td>\n",
              "      <td>1.8</td>\n",
              "      <td>453.0</td>\n",
              "      <td>15.03</td>\n",
              "      <td>58.0</td>\n",
              "      <td>67.0</td>\n",
              "      <td>19.0</td>\n",
              "    </tr>\n",
              "    <tr>\n",
              "      <th>18</th>\n",
              "      <td>HUN</td>\n",
              "      <td>Hungary</td>\n",
              "      <td>16.7</td>\n",
              "      <td>3.5</td>\n",
              "      <td>86.0</td>\n",
              "      <td>1.5</td>\n",
              "      <td>70.0</td>\n",
              "      <td>74.0</td>\n",
              "      <td>0.9</td>\n",
              "      <td>21026.0</td>\n",
              "      <td>...</td>\n",
              "      <td>25409.0</td>\n",
              "      <td>94.0</td>\n",
              "      <td>1.4</td>\n",
              "      <td>58.0</td>\n",
              "      <td>1.2</td>\n",
              "      <td>479.0</td>\n",
              "      <td>15.08</td>\n",
              "      <td>70.0</td>\n",
              "      <td>81.0</td>\n",
              "      <td>16.0</td>\n",
              "    </tr>\n",
              "    <tr>\n",
              "      <th>19</th>\n",
              "      <td>IRL</td>\n",
              "      <td>Ireland</td>\n",
              "      <td>7.8</td>\n",
              "      <td>0.2</td>\n",
              "      <td>85.0</td>\n",
              "      <td>4.7</td>\n",
              "      <td>68.0</td>\n",
              "      <td>76.0</td>\n",
              "      <td>0.5</td>\n",
              "      <td>29488.0</td>\n",
              "      <td>...</td>\n",
              "      <td>49474.0</td>\n",
              "      <td>96.0</td>\n",
              "      <td>2.1</td>\n",
              "      <td>84.0</td>\n",
              "      <td>1.3</td>\n",
              "      <td>505.0</td>\n",
              "      <td>14.54</td>\n",
              "      <td>63.0</td>\n",
              "      <td>80.0</td>\n",
              "      <td>18.0</td>\n",
              "    </tr>\n",
              "    <tr>\n",
              "      <th>20</th>\n",
              "      <td>ISL</td>\n",
              "      <td>Iceland</td>\n",
              "      <td>6.4</td>\n",
              "      <td>0.0</td>\n",
              "      <td>76.0</td>\n",
              "      <td>11.7</td>\n",
              "      <td>78.0</td>\n",
              "      <td>85.0</td>\n",
              "      <td>0.3</td>\n",
              "      <td>NaN</td>\n",
              "      <td>...</td>\n",
              "      <td>67488.0</td>\n",
              "      <td>98.0</td>\n",
              "      <td>1.6</td>\n",
              "      <td>77.0</td>\n",
              "      <td>2.1</td>\n",
              "      <td>481.0</td>\n",
              "      <td>NaN</td>\n",
              "      <td>81.0</td>\n",
              "      <td>97.0</td>\n",
              "      <td>19.0</td>\n",
              "    </tr>\n",
              "    <tr>\n",
              "      <th>21</th>\n",
              "      <td>ISR</td>\n",
              "      <td>Israel</td>\n",
              "      <td>19.7</td>\n",
              "      <td>NaN</td>\n",
              "      <td>88.0</td>\n",
              "      <td>14.1</td>\n",
              "      <td>67.0</td>\n",
              "      <td>80.0</td>\n",
              "      <td>1.5</td>\n",
              "      <td>NaN</td>\n",
              "      <td>...</td>\n",
              "      <td>39322.0</td>\n",
              "      <td>95.0</td>\n",
              "      <td>1.2</td>\n",
              "      <td>74.0</td>\n",
              "      <td>2.5</td>\n",
              "      <td>465.0</td>\n",
              "      <td>NaN</td>\n",
              "      <td>67.0</td>\n",
              "      <td>77.0</td>\n",
              "      <td>16.0</td>\n",
              "    </tr>\n",
              "    <tr>\n",
              "      <th>22</th>\n",
              "      <td>ITA</td>\n",
              "      <td>Italy</td>\n",
              "      <td>15.9</td>\n",
              "      <td>0.6</td>\n",
              "      <td>63.0</td>\n",
              "      <td>3.3</td>\n",
              "      <td>58.0</td>\n",
              "      <td>73.0</td>\n",
              "      <td>0.5</td>\n",
              "      <td>29431.0</td>\n",
              "      <td>...</td>\n",
              "      <td>37769.0</td>\n",
              "      <td>89.0</td>\n",
              "      <td>1.4</td>\n",
              "      <td>73.0</td>\n",
              "      <td>2.5</td>\n",
              "      <td>477.0</td>\n",
              "      <td>16.47</td>\n",
              "      <td>73.0</td>\n",
              "      <td>77.0</td>\n",
              "      <td>17.0</td>\n",
              "    </tr>\n",
              "    <tr>\n",
              "      <th>23</th>\n",
              "      <td>JPN</td>\n",
              "      <td>Japan</td>\n",
              "      <td>13.7</td>\n",
              "      <td>6.4</td>\n",
              "      <td>NaN</td>\n",
              "      <td>NaN</td>\n",
              "      <td>77.0</td>\n",
              "      <td>77.0</td>\n",
              "      <td>0.2</td>\n",
              "      <td>28872.0</td>\n",
              "      <td>...</td>\n",
              "      <td>38515.0</td>\n",
              "      <td>89.0</td>\n",
              "      <td>1.9</td>\n",
              "      <td>37.0</td>\n",
              "      <td>1.4</td>\n",
              "      <td>520.0</td>\n",
              "      <td>14.10</td>\n",
              "      <td>53.0</td>\n",
              "      <td>87.0</td>\n",
              "      <td>16.0</td>\n",
              "    </tr>\n",
              "    <tr>\n",
              "      <th>24</th>\n",
              "      <td>KOR</td>\n",
              "      <td>Korea</td>\n",
              "      <td>27.3</td>\n",
              "      <td>2.5</td>\n",
              "      <td>89.0</td>\n",
              "      <td>NaN</td>\n",
              "      <td>66.0</td>\n",
              "      <td>82.0</td>\n",
              "      <td>0.8</td>\n",
              "      <td>24590.0</td>\n",
              "      <td>...</td>\n",
              "      <td>41960.0</td>\n",
              "      <td>80.0</td>\n",
              "      <td>1.5</td>\n",
              "      <td>34.0</td>\n",
              "      <td>2.9</td>\n",
              "      <td>520.0</td>\n",
              "      <td>14.83</td>\n",
              "      <td>77.0</td>\n",
              "      <td>82.0</td>\n",
              "      <td>17.0</td>\n",
              "    </tr>\n",
              "    <tr>\n",
              "      <th>25</th>\n",
              "      <td>LTU</td>\n",
              "      <td>Lithuania</td>\n",
              "      <td>10.5</td>\n",
              "      <td>11.8</td>\n",
              "      <td>94.0</td>\n",
              "      <td>1.0</td>\n",
              "      <td>72.0</td>\n",
              "      <td>62.0</td>\n",
              "      <td>2.5</td>\n",
              "      <td>26976.0</td>\n",
              "      <td>...</td>\n",
              "      <td>31811.0</td>\n",
              "      <td>89.0</td>\n",
              "      <td>1.5</td>\n",
              "      <td>46.0</td>\n",
              "      <td>2.4</td>\n",
              "      <td>480.0</td>\n",
              "      <td>NaN</td>\n",
              "      <td>57.0</td>\n",
              "      <td>83.0</td>\n",
              "      <td>18.0</td>\n",
              "    </tr>\n",
              "    <tr>\n",
              "      <th>26</th>\n",
              "      <td>LUX</td>\n",
              "      <td>Luxembourg</td>\n",
              "      <td>10.0</td>\n",
              "      <td>0.1</td>\n",
              "      <td>74.0</td>\n",
              "      <td>2.8</td>\n",
              "      <td>67.0</td>\n",
              "      <td>87.0</td>\n",
              "      <td>0.2</td>\n",
              "      <td>44773.0</td>\n",
              "      <td>...</td>\n",
              "      <td>65854.0</td>\n",
              "      <td>91.0</td>\n",
              "      <td>2.0</td>\n",
              "      <td>72.0</td>\n",
              "      <td>1.7</td>\n",
              "      <td>477.0</td>\n",
              "      <td>NaN</td>\n",
              "      <td>90.0</td>\n",
              "      <td>85.0</td>\n",
              "      <td>15.0</td>\n",
              "    </tr>\n",
              "    <tr>\n",
              "      <th>27</th>\n",
              "      <td>LVA</td>\n",
              "      <td>Latvia</td>\n",
              "      <td>12.7</td>\n",
              "      <td>11.2</td>\n",
              "      <td>89.0</td>\n",
              "      <td>1.6</td>\n",
              "      <td>72.0</td>\n",
              "      <td>72.0</td>\n",
              "      <td>3.7</td>\n",
              "      <td>19783.0</td>\n",
              "      <td>...</td>\n",
              "      <td>29876.0</td>\n",
              "      <td>92.0</td>\n",
              "      <td>1.2</td>\n",
              "      <td>47.0</td>\n",
              "      <td>2.2</td>\n",
              "      <td>487.0</td>\n",
              "      <td>NaN</td>\n",
              "      <td>55.0</td>\n",
              "      <td>83.0</td>\n",
              "      <td>18.0</td>\n",
              "    </tr>\n",
              "    <tr>\n",
              "      <th>28</th>\n",
              "      <td>MEX</td>\n",
              "      <td>Mexico</td>\n",
              "      <td>20.3</td>\n",
              "      <td>25.9</td>\n",
              "      <td>42.0</td>\n",
              "      <td>27.0</td>\n",
              "      <td>59.0</td>\n",
              "      <td>42.0</td>\n",
              "      <td>26.8</td>\n",
              "      <td>16269.0</td>\n",
              "      <td>...</td>\n",
              "      <td>16230.0</td>\n",
              "      <td>77.0</td>\n",
              "      <td>1.1</td>\n",
              "      <td>66.0</td>\n",
              "      <td>3.2</td>\n",
              "      <td>416.0</td>\n",
              "      <td>NaN</td>\n",
              "      <td>63.0</td>\n",
              "      <td>75.0</td>\n",
              "      <td>15.0</td>\n",
              "    </tr>\n",
              "    <tr>\n",
              "      <th>29</th>\n",
              "      <td>NLD</td>\n",
              "      <td>Netherlands</td>\n",
              "      <td>12.2</td>\n",
              "      <td>0.1</td>\n",
              "      <td>81.0</td>\n",
              "      <td>0.3</td>\n",
              "      <td>78.0</td>\n",
              "      <td>83.0</td>\n",
              "      <td>0.6</td>\n",
              "      <td>34984.0</td>\n",
              "      <td>...</td>\n",
              "      <td>58828.0</td>\n",
              "      <td>94.0</td>\n",
              "      <td>2.0</td>\n",
              "      <td>75.0</td>\n",
              "      <td>2.6</td>\n",
              "      <td>502.0</td>\n",
              "      <td>15.45</td>\n",
              "      <td>79.0</td>\n",
              "      <td>91.0</td>\n",
              "      <td>19.0</td>\n",
              "    </tr>\n",
              "    <tr>\n",
              "      <th>30</th>\n",
              "      <td>NOR</td>\n",
              "      <td>Norway</td>\n",
              "      <td>6.7</td>\n",
              "      <td>0.0</td>\n",
              "      <td>82.0</td>\n",
              "      <td>1.4</td>\n",
              "      <td>75.0</td>\n",
              "      <td>93.0</td>\n",
              "      <td>0.6</td>\n",
              "      <td>39144.0</td>\n",
              "      <td>...</td>\n",
              "      <td>55780.0</td>\n",
              "      <td>96.0</td>\n",
              "      <td>2.1</td>\n",
              "      <td>75.0</td>\n",
              "      <td>2.2</td>\n",
              "      <td>497.0</td>\n",
              "      <td>15.67</td>\n",
              "      <td>78.0</td>\n",
              "      <td>98.0</td>\n",
              "      <td>18.0</td>\n",
              "    </tr>\n",
              "    <tr>\n",
              "      <th>31</th>\n",
              "      <td>NZL</td>\n",
              "      <td>New Zealand</td>\n",
              "      <td>6.0</td>\n",
              "      <td>NaN</td>\n",
              "      <td>81.0</td>\n",
              "      <td>14.0</td>\n",
              "      <td>77.0</td>\n",
              "      <td>66.0</td>\n",
              "      <td>1.3</td>\n",
              "      <td>39024.0</td>\n",
              "      <td>...</td>\n",
              "      <td>45269.0</td>\n",
              "      <td>95.0</td>\n",
              "      <td>2.4</td>\n",
              "      <td>86.0</td>\n",
              "      <td>2.5</td>\n",
              "      <td>503.0</td>\n",
              "      <td>14.87</td>\n",
              "      <td>82.0</td>\n",
              "      <td>85.0</td>\n",
              "      <td>18.0</td>\n",
              "    </tr>\n",
              "    <tr>\n",
              "      <th>32</th>\n",
              "      <td>OECD</td>\n",
              "      <td>OECD - Total</td>\n",
              "      <td>14.0</td>\n",
              "      <td>3.0</td>\n",
              "      <td>79.0</td>\n",
              "      <td>10.2</td>\n",
              "      <td>66.0</td>\n",
              "      <td>74.0</td>\n",
              "      <td>2.6</td>\n",
              "      <td>30490.0</td>\n",
              "      <td>...</td>\n",
              "      <td>49165.0</td>\n",
              "      <td>91.0</td>\n",
              "      <td>1.7</td>\n",
              "      <td>68.0</td>\n",
              "      <td>2.1</td>\n",
              "      <td>488.0</td>\n",
              "      <td>15.07</td>\n",
              "      <td>69.0</td>\n",
              "      <td>84.0</td>\n",
              "      <td>18.0</td>\n",
              "    </tr>\n",
              "    <tr>\n",
              "      <th>33</th>\n",
              "      <td>POL</td>\n",
              "      <td>Poland</td>\n",
              "      <td>22.8</td>\n",
              "      <td>2.3</td>\n",
              "      <td>93.0</td>\n",
              "      <td>4.2</td>\n",
              "      <td>69.0</td>\n",
              "      <td>71.0</td>\n",
              "      <td>0.5</td>\n",
              "      <td>23675.0</td>\n",
              "      <td>...</td>\n",
              "      <td>32527.0</td>\n",
              "      <td>94.0</td>\n",
              "      <td>1.1</td>\n",
              "      <td>60.0</td>\n",
              "      <td>2.6</td>\n",
              "      <td>513.0</td>\n",
              "      <td>14.68</td>\n",
              "      <td>68.0</td>\n",
              "      <td>82.0</td>\n",
              "      <td>18.0</td>\n",
              "    </tr>\n",
              "    <tr>\n",
              "      <th>34</th>\n",
              "      <td>PRT</td>\n",
              "      <td>Portugal</td>\n",
              "      <td>8.3</td>\n",
              "      <td>0.9</td>\n",
              "      <td>55.0</td>\n",
              "      <td>5.6</td>\n",
              "      <td>69.0</td>\n",
              "      <td>83.0</td>\n",
              "      <td>0.7</td>\n",
              "      <td>24877.0</td>\n",
              "      <td>...</td>\n",
              "      <td>28410.0</td>\n",
              "      <td>87.0</td>\n",
              "      <td>1.7</td>\n",
              "      <td>50.0</td>\n",
              "      <td>1.5</td>\n",
              "      <td>492.0</td>\n",
              "      <td>NaN</td>\n",
              "      <td>49.0</td>\n",
              "      <td>89.0</td>\n",
              "      <td>17.0</td>\n",
              "    </tr>\n",
              "    <tr>\n",
              "      <th>35</th>\n",
              "      <td>RUS</td>\n",
              "      <td>Russia</td>\n",
              "      <td>11.8</td>\n",
              "      <td>13.8</td>\n",
              "      <td>95.0</td>\n",
              "      <td>0.1</td>\n",
              "      <td>70.0</td>\n",
              "      <td>64.0</td>\n",
              "      <td>4.8</td>\n",
              "      <td>19546.0</td>\n",
              "      <td>...</td>\n",
              "      <td>NaN</td>\n",
              "      <td>89.0</td>\n",
              "      <td>1.0</td>\n",
              "      <td>43.0</td>\n",
              "      <td>NaN</td>\n",
              "      <td>481.0</td>\n",
              "      <td>NaN</td>\n",
              "      <td>68.0</td>\n",
              "      <td>62.0</td>\n",
              "      <td>16.0</td>\n",
              "    </tr>\n",
              "    <tr>\n",
              "      <th>36</th>\n",
              "      <td>SVK</td>\n",
              "      <td>Slovak Republic</td>\n",
              "      <td>18.5</td>\n",
              "      <td>1.5</td>\n",
              "      <td>92.0</td>\n",
              "      <td>4.2</td>\n",
              "      <td>68.0</td>\n",
              "      <td>76.0</td>\n",
              "      <td>0.8</td>\n",
              "      <td>21149.0</td>\n",
              "      <td>...</td>\n",
              "      <td>23619.0</td>\n",
              "      <td>95.0</td>\n",
              "      <td>1.1</td>\n",
              "      <td>65.0</td>\n",
              "      <td>3.0</td>\n",
              "      <td>469.0</td>\n",
              "      <td>NaN</td>\n",
              "      <td>66.0</td>\n",
              "      <td>81.0</td>\n",
              "      <td>16.0</td>\n",
              "    </tr>\n",
              "    <tr>\n",
              "      <th>37</th>\n",
              "      <td>SVN</td>\n",
              "      <td>Slovenia</td>\n",
              "      <td>17.0</td>\n",
              "      <td>0.2</td>\n",
              "      <td>90.0</td>\n",
              "      <td>5.6</td>\n",
              "      <td>71.0</td>\n",
              "      <td>91.0</td>\n",
              "      <td>0.4</td>\n",
              "      <td>25250.0</td>\n",
              "      <td>...</td>\n",
              "      <td>41445.0</td>\n",
              "      <td>95.0</td>\n",
              "      <td>1.6</td>\n",
              "      <td>67.0</td>\n",
              "      <td>2.5</td>\n",
              "      <td>504.0</td>\n",
              "      <td>NaN</td>\n",
              "      <td>53.0</td>\n",
              "      <td>93.0</td>\n",
              "      <td>18.0</td>\n",
              "    </tr>\n",
              "    <tr>\n",
              "      <th>38</th>\n",
              "      <td>SWE</td>\n",
              "      <td>Sweden</td>\n",
              "      <td>5.8</td>\n",
              "      <td>0.0</td>\n",
              "      <td>84.0</td>\n",
              "      <td>0.9</td>\n",
              "      <td>75.0</td>\n",
              "      <td>79.0</td>\n",
              "      <td>1.1</td>\n",
              "      <td>33730.0</td>\n",
              "      <td>...</td>\n",
              "      <td>47020.0</td>\n",
              "      <td>94.0</td>\n",
              "      <td>1.7</td>\n",
              "      <td>76.0</td>\n",
              "      <td>2.0</td>\n",
              "      <td>503.0</td>\n",
              "      <td>NaN</td>\n",
              "      <td>87.0</td>\n",
              "      <td>97.0</td>\n",
              "      <td>20.0</td>\n",
              "    </tr>\n",
              "    <tr>\n",
              "      <th>39</th>\n",
              "      <td>TUR</td>\n",
              "      <td>Türkiye</td>\n",
              "      <td>27.1</td>\n",
              "      <td>4.9</td>\n",
              "      <td>42.0</td>\n",
              "      <td>25.0</td>\n",
              "      <td>48.0</td>\n",
              "      <td>59.0</td>\n",
              "      <td>1.0</td>\n",
              "      <td>NaN</td>\n",
              "      <td>...</td>\n",
              "      <td>NaN</td>\n",
              "      <td>85.0</td>\n",
              "      <td>1.0</td>\n",
              "      <td>67.0</td>\n",
              "      <td>1.5</td>\n",
              "      <td>462.0</td>\n",
              "      <td>14.61</td>\n",
              "      <td>86.0</td>\n",
              "      <td>62.0</td>\n",
              "      <td>19.0</td>\n",
              "    </tr>\n",
              "    <tr>\n",
              "      <th>40</th>\n",
              "      <td>USA</td>\n",
              "      <td>United States</td>\n",
              "      <td>7.7</td>\n",
              "      <td>0.1</td>\n",
              "      <td>92.0</td>\n",
              "      <td>10.4</td>\n",
              "      <td>67.0</td>\n",
              "      <td>78.0</td>\n",
              "      <td>6.0</td>\n",
              "      <td>51147.0</td>\n",
              "      <td>...</td>\n",
              "      <td>69392.0</td>\n",
              "      <td>94.0</td>\n",
              "      <td>2.4</td>\n",
              "      <td>88.0</td>\n",
              "      <td>3.1</td>\n",
              "      <td>495.0</td>\n",
              "      <td>14.57</td>\n",
              "      <td>65.0</td>\n",
              "      <td>88.0</td>\n",
              "      <td>17.0</td>\n",
              "    </tr>\n",
              "    <tr>\n",
              "      <th>41</th>\n",
              "      <td>ZAF</td>\n",
              "      <td>South Africa</td>\n",
              "      <td>28.5</td>\n",
              "      <td>35.9</td>\n",
              "      <td>48.0</td>\n",
              "      <td>15.4</td>\n",
              "      <td>39.0</td>\n",
              "      <td>40.0</td>\n",
              "      <td>13.7</td>\n",
              "      <td>9338.0</td>\n",
              "      <td>...</td>\n",
              "      <td>NaN</td>\n",
              "      <td>89.0</td>\n",
              "      <td>NaN</td>\n",
              "      <td>NaN</td>\n",
              "      <td>NaN</td>\n",
              "      <td>NaN</td>\n",
              "      <td>NaN</td>\n",
              "      <td>66.0</td>\n",
              "      <td>72.0</td>\n",
              "      <td>NaN</td>\n",
              "    </tr>\n",
              "  </tbody>\n",
              "</table>\n",
              "<p>42 rows × 26 columns</p>\n",
              "</div>"
            ],
            "text/plain": [
              "Indicator LOCATION          Country  Air pollution  \\\n",
              "0              AUS        Australia            6.7   \n",
              "1              AUT          Austria           12.2   \n",
              "2              BEL          Belgium           12.8   \n",
              "3              BRA           Brazil           11.7   \n",
              "4              CAN           Canada            7.1   \n",
              "5              CHE      Switzerland           10.1   \n",
              "6              CHL            Chile           23.4   \n",
              "7              COL         Colombia           22.6   \n",
              "8              CRI       Costa Rica           17.5   \n",
              "9              CZE          Czechia           17.0   \n",
              "10             DEU          Germany           12.0   \n",
              "11             DNK          Denmark           10.0   \n",
              "12             ESP            Spain           10.0   \n",
              "13             EST          Estonia            5.9   \n",
              "14             FIN          Finland            5.5   \n",
              "15             FRA           France           11.4   \n",
              "16             GBR   United Kingdom           10.1   \n",
              "17             GRC           Greece           14.5   \n",
              "18             HUN          Hungary           16.7   \n",
              "19             IRL          Ireland            7.8   \n",
              "20             ISL          Iceland            6.4   \n",
              "21             ISR           Israel           19.7   \n",
              "22             ITA            Italy           15.9   \n",
              "23             JPN            Japan           13.7   \n",
              "24             KOR            Korea           27.3   \n",
              "25             LTU        Lithuania           10.5   \n",
              "26             LUX       Luxembourg           10.0   \n",
              "27             LVA           Latvia           12.7   \n",
              "28             MEX           Mexico           20.3   \n",
              "29             NLD      Netherlands           12.2   \n",
              "30             NOR           Norway            6.7   \n",
              "31             NZL      New Zealand            6.0   \n",
              "32            OECD     OECD - Total           14.0   \n",
              "33             POL           Poland           22.8   \n",
              "34             PRT         Portugal            8.3   \n",
              "35             RUS           Russia           11.8   \n",
              "36             SVK  Slovak Republic           18.5   \n",
              "37             SVN         Slovenia           17.0   \n",
              "38             SWE           Sweden            5.8   \n",
              "39             TUR          Türkiye           27.1   \n",
              "40             USA    United States            7.7   \n",
              "41             ZAF     South Africa           28.5   \n",
              "\n",
              "Indicator  Dwellings without basic facilities  Educational attainment  \\\n",
              "0                                         NaN                    84.0   \n",
              "1                                         0.8                    86.0   \n",
              "2                                         0.7                    80.0   \n",
              "3                                         6.7                    57.0   \n",
              "4                                         0.2                    92.0   \n",
              "5                                         0.0                    89.0   \n",
              "6                                         9.4                    67.0   \n",
              "7                                        12.3                    59.0   \n",
              "8                                         2.3                    43.0   \n",
              "9                                         0.5                    94.0   \n",
              "10                                        0.1                    86.0   \n",
              "11                                        0.5                    82.0   \n",
              "12                                        0.3                    63.0   \n",
              "13                                        5.7                    91.0   \n",
              "14                                        0.4                    91.0   \n",
              "15                                        0.5                    81.0   \n",
              "16                                        0.5                    82.0   \n",
              "17                                        0.4                    76.0   \n",
              "18                                        3.5                    86.0   \n",
              "19                                        0.2                    85.0   \n",
              "20                                        0.0                    76.0   \n",
              "21                                        NaN                    88.0   \n",
              "22                                        0.6                    63.0   \n",
              "23                                        6.4                     NaN   \n",
              "24                                        2.5                    89.0   \n",
              "25                                       11.8                    94.0   \n",
              "26                                        0.1                    74.0   \n",
              "27                                       11.2                    89.0   \n",
              "28                                       25.9                    42.0   \n",
              "29                                        0.1                    81.0   \n",
              "30                                        0.0                    82.0   \n",
              "31                                        NaN                    81.0   \n",
              "32                                        3.0                    79.0   \n",
              "33                                        2.3                    93.0   \n",
              "34                                        0.9                    55.0   \n",
              "35                                       13.8                    95.0   \n",
              "36                                        1.5                    92.0   \n",
              "37                                        0.2                    90.0   \n",
              "38                                        0.0                    84.0   \n",
              "39                                        4.9                    42.0   \n",
              "40                                        0.1                    92.0   \n",
              "41                                       35.9                    48.0   \n",
              "\n",
              "Indicator  Employees working very long hours  Employment rate  \\\n",
              "0                                       12.5             73.0   \n",
              "1                                        5.3             72.0   \n",
              "2                                        4.3             65.0   \n",
              "3                                        5.6             57.0   \n",
              "4                                        3.3             70.0   \n",
              "5                                        0.4             80.0   \n",
              "6                                        7.7             56.0   \n",
              "7                                       23.7             58.0   \n",
              "8                                       22.0             55.0   \n",
              "9                                        4.5             74.0   \n",
              "10                                       3.9             77.0   \n",
              "11                                       1.1             74.0   \n",
              "12                                       2.5             62.0   \n",
              "13                                       2.2             74.0   \n",
              "14                                       3.6             72.0   \n",
              "15                                       7.7             65.0   \n",
              "16                                      10.8             75.0   \n",
              "17                                       4.5             56.0   \n",
              "18                                       1.5             70.0   \n",
              "19                                       4.7             68.0   \n",
              "20                                      11.7             78.0   \n",
              "21                                      14.1             67.0   \n",
              "22                                       3.3             58.0   \n",
              "23                                       NaN             77.0   \n",
              "24                                       NaN             66.0   \n",
              "25                                       1.0             72.0   \n",
              "26                                       2.8             67.0   \n",
              "27                                       1.6             72.0   \n",
              "28                                      27.0             59.0   \n",
              "29                                       0.3             78.0   \n",
              "30                                       1.4             75.0   \n",
              "31                                      14.0             77.0   \n",
              "32                                      10.2             66.0   \n",
              "33                                       4.2             69.0   \n",
              "34                                       5.6             69.0   \n",
              "35                                       0.1             70.0   \n",
              "36                                       4.2             68.0   \n",
              "37                                       5.6             71.0   \n",
              "38                                       0.9             75.0   \n",
              "39                                      25.0             48.0   \n",
              "40                                      10.4             67.0   \n",
              "41                                      15.4             39.0   \n",
              "\n",
              "Indicator  Feeling safe walking alone at night  Homicide rate  \\\n",
              "0                                         67.0            0.9   \n",
              "1                                         86.0            0.5   \n",
              "2                                         56.0            1.1   \n",
              "3                                         45.0           19.0   \n",
              "4                                         78.0            1.2   \n",
              "5                                         86.0            0.3   \n",
              "6                                         41.0            2.4   \n",
              "7                                         50.0           23.1   \n",
              "8                                         47.0           10.0   \n",
              "9                                         77.0            0.7   \n",
              "10                                        76.0            0.4   \n",
              "11                                        85.0            0.5   \n",
              "12                                        80.0            0.7   \n",
              "13                                        79.0            1.9   \n",
              "14                                        88.0            1.2   \n",
              "15                                        74.0            0.4   \n",
              "16                                        78.0            0.2   \n",
              "17                                        69.0            1.0   \n",
              "18                                        74.0            0.9   \n",
              "19                                        76.0            0.5   \n",
              "20                                        85.0            0.3   \n",
              "21                                        80.0            1.5   \n",
              "22                                        73.0            0.5   \n",
              "23                                        77.0            0.2   \n",
              "24                                        82.0            0.8   \n",
              "25                                        62.0            2.5   \n",
              "26                                        87.0            0.2   \n",
              "27                                        72.0            3.7   \n",
              "28                                        42.0           26.8   \n",
              "29                                        83.0            0.6   \n",
              "30                                        93.0            0.6   \n",
              "31                                        66.0            1.3   \n",
              "32                                        74.0            2.6   \n",
              "33                                        71.0            0.5   \n",
              "34                                        83.0            0.7   \n",
              "35                                        64.0            4.8   \n",
              "36                                        76.0            0.8   \n",
              "37                                        91.0            0.4   \n",
              "38                                        79.0            1.1   \n",
              "39                                        59.0            1.0   \n",
              "40                                        78.0            6.0   \n",
              "41                                        40.0           13.7   \n",
              "\n",
              "Indicator  Household net adjusted disposable income  ...  Personal earnings  \\\n",
              "0                                           37433.0  ...            55206.0   \n",
              "1                                           37001.0  ...            53132.0   \n",
              "2                                           34884.0  ...            54327.0   \n",
              "3                                               NaN  ...                NaN   \n",
              "4                                           34421.0  ...            55342.0   \n",
              "5                                           39697.0  ...            64824.0   \n",
              "6                                               NaN  ...            26729.0   \n",
              "7                                               NaN  ...                NaN   \n",
              "8                                           16517.0  ...                NaN   \n",
              "9                                           26664.0  ...            29885.0   \n",
              "10                                          38971.0  ...            53745.0   \n",
              "11                                          33774.0  ...            58430.0   \n",
              "12                                          27155.0  ...            37922.0   \n",
              "13                                          23784.0  ...            30720.0   \n",
              "14                                          33471.0  ...            46230.0   \n",
              "15                                          34375.0  ...            45581.0   \n",
              "16                                          33049.0  ...            47147.0   \n",
              "17                                          20791.0  ...            27207.0   \n",
              "18                                          21026.0  ...            25409.0   \n",
              "19                                          29488.0  ...            49474.0   \n",
              "20                                              NaN  ...            67488.0   \n",
              "21                                              NaN  ...            39322.0   \n",
              "22                                          29431.0  ...            37769.0   \n",
              "23                                          28872.0  ...            38515.0   \n",
              "24                                          24590.0  ...            41960.0   \n",
              "25                                          26976.0  ...            31811.0   \n",
              "26                                          44773.0  ...            65854.0   \n",
              "27                                          19783.0  ...            29876.0   \n",
              "28                                          16269.0  ...            16230.0   \n",
              "29                                          34984.0  ...            58828.0   \n",
              "30                                          39144.0  ...            55780.0   \n",
              "31                                          39024.0  ...            45269.0   \n",
              "32                                          30490.0  ...            49165.0   \n",
              "33                                          23675.0  ...            32527.0   \n",
              "34                                          24877.0  ...            28410.0   \n",
              "35                                          19546.0  ...                NaN   \n",
              "36                                          21149.0  ...            23619.0   \n",
              "37                                          25250.0  ...            41445.0   \n",
              "38                                          33730.0  ...            47020.0   \n",
              "39                                              NaN  ...                NaN   \n",
              "40                                          51147.0  ...            69392.0   \n",
              "41                                           9338.0  ...                NaN   \n",
              "\n",
              "Indicator  Quality of support network  Rooms per person  Self-reported health  \\\n",
              "0                                93.0               NaN                  85.0   \n",
              "1                                92.0               1.6                  71.0   \n",
              "2                                90.0               2.1                  74.0   \n",
              "3                                83.0               NaN                   NaN   \n",
              "4                                93.0               2.6                  89.0   \n",
              "5                                94.0               1.9                  81.0   \n",
              "6                                88.0               1.9                  60.0   \n",
              "7                                80.0               1.0                  80.0   \n",
              "8                                82.0               1.2                  73.0   \n",
              "9                                96.0               1.5                  62.0   \n",
              "10                               90.0               1.8                  66.0   \n",
              "11                               95.0               1.9                  70.0   \n",
              "12                               93.0               1.9                  75.0   \n",
              "13                               95.0               1.7                  57.0   \n",
              "14                               96.0               1.9                  68.0   \n",
              "15                               94.0               1.8                  67.0   \n",
              "16                               93.0               2.0                  73.0   \n",
              "17                               78.0               1.2                  79.0   \n",
              "18                               94.0               1.4                  58.0   \n",
              "19                               96.0               2.1                  84.0   \n",
              "20                               98.0               1.6                  77.0   \n",
              "21                               95.0               1.2                  74.0   \n",
              "22                               89.0               1.4                  73.0   \n",
              "23                               89.0               1.9                  37.0   \n",
              "24                               80.0               1.5                  34.0   \n",
              "25                               89.0               1.5                  46.0   \n",
              "26                               91.0               2.0                  72.0   \n",
              "27                               92.0               1.2                  47.0   \n",
              "28                               77.0               1.1                  66.0   \n",
              "29                               94.0               2.0                  75.0   \n",
              "30                               96.0               2.1                  75.0   \n",
              "31                               95.0               2.4                  86.0   \n",
              "32                               91.0               1.7                  68.0   \n",
              "33                               94.0               1.1                  60.0   \n",
              "34                               87.0               1.7                  50.0   \n",
              "35                               89.0               1.0                  43.0   \n",
              "36                               95.0               1.1                  65.0   \n",
              "37                               95.0               1.6                  67.0   \n",
              "38                               94.0               1.7                  76.0   \n",
              "39                               85.0               1.0                  67.0   \n",
              "40                               94.0               2.4                  88.0   \n",
              "41                               89.0               NaN                   NaN   \n",
              "\n",
              "Indicator  Stakeholder engagement for developing regulations  Student skills  \\\n",
              "0                                                        2.7           499.0   \n",
              "1                                                        1.3           491.0   \n",
              "2                                                        2.0           500.0   \n",
              "3                                                        2.2           400.0   \n",
              "4                                                        2.9           517.0   \n",
              "5                                                        2.3           498.0   \n",
              "6                                                        1.3           438.0   \n",
              "7                                                        1.4           406.0   \n",
              "8                                                        1.8           415.0   \n",
              "9                                                        1.6           495.0   \n",
              "10                                                       1.8           500.0   \n",
              "11                                                       2.0           501.0   \n",
              "12                                                       1.8             NaN   \n",
              "13                                                       2.7           526.0   \n",
              "14                                                       2.2           516.0   \n",
              "15                                                       2.1           494.0   \n",
              "16                                                       3.1           503.0   \n",
              "17                                                       1.8           453.0   \n",
              "18                                                       1.2           479.0   \n",
              "19                                                       1.3           505.0   \n",
              "20                                                       2.1           481.0   \n",
              "21                                                       2.5           465.0   \n",
              "22                                                       2.5           477.0   \n",
              "23                                                       1.4           520.0   \n",
              "24                                                       2.9           520.0   \n",
              "25                                                       2.4           480.0   \n",
              "26                                                       1.7           477.0   \n",
              "27                                                       2.2           487.0   \n",
              "28                                                       3.2           416.0   \n",
              "29                                                       2.6           502.0   \n",
              "30                                                       2.2           497.0   \n",
              "31                                                       2.5           503.0   \n",
              "32                                                       2.1           488.0   \n",
              "33                                                       2.6           513.0   \n",
              "34                                                       1.5           492.0   \n",
              "35                                                       NaN           481.0   \n",
              "36                                                       3.0           469.0   \n",
              "37                                                       2.5           504.0   \n",
              "38                                                       2.0           503.0   \n",
              "39                                                       1.5           462.0   \n",
              "40                                                       3.1           495.0   \n",
              "41                                                       NaN             NaN   \n",
              "\n",
              "Indicator  Time devoted to leisure and personal care  Voter turnout  \\\n",
              "0                                              14.36           92.0   \n",
              "1                                              14.51           76.0   \n",
              "2                                              15.52           88.0   \n",
              "3                                                NaN           80.0   \n",
              "4                                              14.57           68.0   \n",
              "5                                                NaN           45.0   \n",
              "6                                                NaN           47.0   \n",
              "7                                                NaN           53.0   \n",
              "8                                                NaN           66.0   \n",
              "9                                                NaN           62.0   \n",
              "10                                             15.62           76.0   \n",
              "11                                               NaN           85.0   \n",
              "12                                             15.75           72.0   \n",
              "13                                             14.98           64.0   \n",
              "14                                             15.17           69.0   \n",
              "15                                             16.20           75.0   \n",
              "16                                             14.94           68.0   \n",
              "17                                             15.03           58.0   \n",
              "18                                             15.08           70.0   \n",
              "19                                             14.54           63.0   \n",
              "20                                               NaN           81.0   \n",
              "21                                               NaN           67.0   \n",
              "22                                             16.47           73.0   \n",
              "23                                             14.10           53.0   \n",
              "24                                             14.83           77.0   \n",
              "25                                               NaN           57.0   \n",
              "26                                               NaN           90.0   \n",
              "27                                               NaN           55.0   \n",
              "28                                               NaN           63.0   \n",
              "29                                             15.45           79.0   \n",
              "30                                             15.67           78.0   \n",
              "31                                             14.87           82.0   \n",
              "32                                             15.07           69.0   \n",
              "33                                             14.68           68.0   \n",
              "34                                               NaN           49.0   \n",
              "35                                               NaN           68.0   \n",
              "36                                               NaN           66.0   \n",
              "37                                               NaN           53.0   \n",
              "38                                               NaN           87.0   \n",
              "39                                             14.61           86.0   \n",
              "40                                             14.57           65.0   \n",
              "41                                               NaN           66.0   \n",
              "\n",
              "Indicator  Water quality  Years in education  \n",
              "0                   92.0                20.0  \n",
              "1                   92.0                17.0  \n",
              "2                   79.0                19.0  \n",
              "3                   70.0                16.0  \n",
              "4                   90.0                17.0  \n",
              "5                   96.0                17.0  \n",
              "6                   62.0                17.0  \n",
              "7                   82.0                14.0  \n",
              "8                   87.0                 NaN  \n",
              "9                   89.0                18.0  \n",
              "10                  91.0                18.0  \n",
              "11                  93.0                19.0  \n",
              "12                  76.0                18.0  \n",
              "13                  86.0                18.0  \n",
              "14                  97.0                20.0  \n",
              "15                  78.0                17.0  \n",
              "16                  82.0                17.0  \n",
              "17                  67.0                19.0  \n",
              "18                  81.0                16.0  \n",
              "19                  80.0                18.0  \n",
              "20                  97.0                19.0  \n",
              "21                  77.0                16.0  \n",
              "22                  77.0                17.0  \n",
              "23                  87.0                16.0  \n",
              "24                  82.0                17.0  \n",
              "25                  83.0                18.0  \n",
              "26                  85.0                15.0  \n",
              "27                  83.0                18.0  \n",
              "28                  75.0                15.0  \n",
              "29                  91.0                19.0  \n",
              "30                  98.0                18.0  \n",
              "31                  85.0                18.0  \n",
              "32                  84.0                18.0  \n",
              "33                  82.0                18.0  \n",
              "34                  89.0                17.0  \n",
              "35                  62.0                16.0  \n",
              "36                  81.0                16.0  \n",
              "37                  93.0                18.0  \n",
              "38                  97.0                20.0  \n",
              "39                  62.0                19.0  \n",
              "40                  88.0                17.0  \n",
              "41                  72.0                 NaN  \n",
              "\n",
              "[42 rows x 26 columns]"
            ]
          },
          "execution_count": 10,
          "metadata": {},
          "output_type": "execute_result"
        }
      ],
      "source": [
        "lifeF = life.pivot(index=['LOCATION', 'Country'], columns='Indicator', values='OBS_VALUE').reset_index()\n",
        "lifeF"
      ]
    },
    {
      "cell_type": "code",
      "execution_count": 11,
      "metadata": {
        "colab": {
          "base_uri": "https://localhost:8080/",
          "height": 1000
        },
        "id": "4C7Y824aSe0_",
        "outputId": "fd8091bc-a8ea-4711-b4da-1698e1888a60"
      },
      "outputs": [
        {
          "data": {
            "text/html": [
              "<div>\n",
              "<style scoped>\n",
              "    .dataframe tbody tr th:only-of-type {\n",
              "        vertical-align: middle;\n",
              "    }\n",
              "\n",
              "    .dataframe tbody tr th {\n",
              "        vertical-align: top;\n",
              "    }\n",
              "\n",
              "    .dataframe thead th {\n",
              "        text-align: right;\n",
              "    }\n",
              "</style>\n",
              "<table border=\"1\" class=\"dataframe\">\n",
              "  <thead>\n",
              "    <tr style=\"text-align: right;\">\n",
              "      <th></th>\n",
              "      <th>LOCATION</th>\n",
              "      <th>Country</th>\n",
              "      <th>Air pollution</th>\n",
              "      <th>Dwellings without basic facilities</th>\n",
              "      <th>Educational attainment</th>\n",
              "      <th>Employees working very long hours</th>\n",
              "      <th>Employment rate</th>\n",
              "      <th>Feeling safe walking alone at night</th>\n",
              "      <th>Homicide rate</th>\n",
              "      <th>Household net adjusted disposable income</th>\n",
              "      <th>...</th>\n",
              "      <th>Self-reported health</th>\n",
              "      <th>Stakeholder engagement for developing regulations</th>\n",
              "      <th>Student skills</th>\n",
              "      <th>Time devoted to leisure and personal care</th>\n",
              "      <th>Voter turnout</th>\n",
              "      <th>Water quality</th>\n",
              "      <th>Years in education</th>\n",
              "      <th>Entity</th>\n",
              "      <th>Year</th>\n",
              "      <th>Gdp</th>\n",
              "    </tr>\n",
              "  </thead>\n",
              "  <tbody>\n",
              "    <tr>\n",
              "      <th>0</th>\n",
              "      <td>AUS</td>\n",
              "      <td>Australia</td>\n",
              "      <td>6.7</td>\n",
              "      <td>NaN</td>\n",
              "      <td>84.0</td>\n",
              "      <td>12.5</td>\n",
              "      <td>73.0</td>\n",
              "      <td>67.0</td>\n",
              "      <td>0.9</td>\n",
              "      <td>37433.0</td>\n",
              "      <td>...</td>\n",
              "      <td>85.0</td>\n",
              "      <td>2.7</td>\n",
              "      <td>499.0</td>\n",
              "      <td>14.36</td>\n",
              "      <td>92.0</td>\n",
              "      <td>92.0</td>\n",
              "      <td>20.0</td>\n",
              "      <td>Australia</td>\n",
              "      <td>2023</td>\n",
              "      <td>59552.880</td>\n",
              "    </tr>\n",
              "    <tr>\n",
              "      <th>1</th>\n",
              "      <td>AUT</td>\n",
              "      <td>Austria</td>\n",
              "      <td>12.2</td>\n",
              "      <td>0.8</td>\n",
              "      <td>86.0</td>\n",
              "      <td>5.3</td>\n",
              "      <td>72.0</td>\n",
              "      <td>86.0</td>\n",
              "      <td>0.5</td>\n",
              "      <td>37001.0</td>\n",
              "      <td>...</td>\n",
              "      <td>71.0</td>\n",
              "      <td>1.3</td>\n",
              "      <td>491.0</td>\n",
              "      <td>14.51</td>\n",
              "      <td>76.0</td>\n",
              "      <td>92.0</td>\n",
              "      <td>17.0</td>\n",
              "      <td>Austria</td>\n",
              "      <td>2023</td>\n",
              "      <td>65015.133</td>\n",
              "    </tr>\n",
              "    <tr>\n",
              "      <th>2</th>\n",
              "      <td>BEL</td>\n",
              "      <td>Belgium</td>\n",
              "      <td>12.8</td>\n",
              "      <td>0.7</td>\n",
              "      <td>80.0</td>\n",
              "      <td>4.3</td>\n",
              "      <td>65.0</td>\n",
              "      <td>56.0</td>\n",
              "      <td>1.1</td>\n",
              "      <td>34884.0</td>\n",
              "      <td>...</td>\n",
              "      <td>74.0</td>\n",
              "      <td>2.0</td>\n",
              "      <td>500.0</td>\n",
              "      <td>15.52</td>\n",
              "      <td>88.0</td>\n",
              "      <td>79.0</td>\n",
              "      <td>19.0</td>\n",
              "      <td>Belgium</td>\n",
              "      <td>2023</td>\n",
              "      <td>64185.848</td>\n",
              "    </tr>\n",
              "    <tr>\n",
              "      <th>3</th>\n",
              "      <td>BRA</td>\n",
              "      <td>Brazil</td>\n",
              "      <td>11.7</td>\n",
              "      <td>6.7</td>\n",
              "      <td>57.0</td>\n",
              "      <td>5.6</td>\n",
              "      <td>57.0</td>\n",
              "      <td>45.0</td>\n",
              "      <td>19.0</td>\n",
              "      <td>NaN</td>\n",
              "      <td>...</td>\n",
              "      <td>NaN</td>\n",
              "      <td>2.2</td>\n",
              "      <td>400.0</td>\n",
              "      <td>NaN</td>\n",
              "      <td>80.0</td>\n",
              "      <td>70.0</td>\n",
              "      <td>16.0</td>\n",
              "      <td>Brazil</td>\n",
              "      <td>2023</td>\n",
              "      <td>19018.238</td>\n",
              "    </tr>\n",
              "    <tr>\n",
              "      <th>4</th>\n",
              "      <td>CAN</td>\n",
              "      <td>Canada</td>\n",
              "      <td>7.1</td>\n",
              "      <td>0.2</td>\n",
              "      <td>92.0</td>\n",
              "      <td>3.3</td>\n",
              "      <td>70.0</td>\n",
              "      <td>78.0</td>\n",
              "      <td>1.2</td>\n",
              "      <td>34421.0</td>\n",
              "      <td>...</td>\n",
              "      <td>89.0</td>\n",
              "      <td>2.9</td>\n",
              "      <td>517.0</td>\n",
              "      <td>14.57</td>\n",
              "      <td>68.0</td>\n",
              "      <td>90.0</td>\n",
              "      <td>17.0</td>\n",
              "      <td>Canada</td>\n",
              "      <td>2023</td>\n",
              "      <td>55918.930</td>\n",
              "    </tr>\n",
              "    <tr>\n",
              "      <th>5</th>\n",
              "      <td>CHE</td>\n",
              "      <td>Switzerland</td>\n",
              "      <td>10.1</td>\n",
              "      <td>0.0</td>\n",
              "      <td>89.0</td>\n",
              "      <td>0.4</td>\n",
              "      <td>80.0</td>\n",
              "      <td>86.0</td>\n",
              "      <td>0.3</td>\n",
              "      <td>39697.0</td>\n",
              "      <td>...</td>\n",
              "      <td>81.0</td>\n",
              "      <td>2.3</td>\n",
              "      <td>498.0</td>\n",
              "      <td>NaN</td>\n",
              "      <td>45.0</td>\n",
              "      <td>96.0</td>\n",
              "      <td>17.0</td>\n",
              "      <td>Switzerland</td>\n",
              "      <td>2023</td>\n",
              "      <td>82557.550</td>\n",
              "    </tr>\n",
              "    <tr>\n",
              "      <th>6</th>\n",
              "      <td>CHL</td>\n",
              "      <td>Chile</td>\n",
              "      <td>23.4</td>\n",
              "      <td>9.4</td>\n",
              "      <td>67.0</td>\n",
              "      <td>7.7</td>\n",
              "      <td>56.0</td>\n",
              "      <td>41.0</td>\n",
              "      <td>2.4</td>\n",
              "      <td>NaN</td>\n",
              "      <td>...</td>\n",
              "      <td>60.0</td>\n",
              "      <td>1.3</td>\n",
              "      <td>438.0</td>\n",
              "      <td>NaN</td>\n",
              "      <td>47.0</td>\n",
              "      <td>62.0</td>\n",
              "      <td>17.0</td>\n",
              "      <td>Chile</td>\n",
              "      <td>2023</td>\n",
              "      <td>29462.640</td>\n",
              "    </tr>\n",
              "    <tr>\n",
              "      <th>7</th>\n",
              "      <td>COL</td>\n",
              "      <td>Colombia</td>\n",
              "      <td>22.6</td>\n",
              "      <td>12.3</td>\n",
              "      <td>59.0</td>\n",
              "      <td>23.7</td>\n",
              "      <td>58.0</td>\n",
              "      <td>50.0</td>\n",
              "      <td>23.1</td>\n",
              "      <td>NaN</td>\n",
              "      <td>...</td>\n",
              "      <td>80.0</td>\n",
              "      <td>1.4</td>\n",
              "      <td>406.0</td>\n",
              "      <td>NaN</td>\n",
              "      <td>53.0</td>\n",
              "      <td>82.0</td>\n",
              "      <td>14.0</td>\n",
              "      <td>Colombia</td>\n",
              "      <td>2023</td>\n",
              "      <td>18692.385</td>\n",
              "    </tr>\n",
              "    <tr>\n",
              "      <th>8</th>\n",
              "      <td>CRI</td>\n",
              "      <td>Costa Rica</td>\n",
              "      <td>17.5</td>\n",
              "      <td>2.3</td>\n",
              "      <td>43.0</td>\n",
              "      <td>22.0</td>\n",
              "      <td>55.0</td>\n",
              "      <td>47.0</td>\n",
              "      <td>10.0</td>\n",
              "      <td>16517.0</td>\n",
              "      <td>...</td>\n",
              "      <td>73.0</td>\n",
              "      <td>1.8</td>\n",
              "      <td>415.0</td>\n",
              "      <td>NaN</td>\n",
              "      <td>66.0</td>\n",
              "      <td>87.0</td>\n",
              "      <td>NaN</td>\n",
              "      <td>Costa Rica</td>\n",
              "      <td>2023</td>\n",
              "      <td>26292.771</td>\n",
              "    </tr>\n",
              "    <tr>\n",
              "      <th>9</th>\n",
              "      <td>CZE</td>\n",
              "      <td>Czechia</td>\n",
              "      <td>17.0</td>\n",
              "      <td>0.5</td>\n",
              "      <td>94.0</td>\n",
              "      <td>4.5</td>\n",
              "      <td>74.0</td>\n",
              "      <td>77.0</td>\n",
              "      <td>0.7</td>\n",
              "      <td>26664.0</td>\n",
              "      <td>...</td>\n",
              "      <td>62.0</td>\n",
              "      <td>1.6</td>\n",
              "      <td>495.0</td>\n",
              "      <td>NaN</td>\n",
              "      <td>62.0</td>\n",
              "      <td>89.0</td>\n",
              "      <td>18.0</td>\n",
              "      <td>Czechia</td>\n",
              "      <td>2023</td>\n",
              "      <td>49681.060</td>\n",
              "    </tr>\n",
              "    <tr>\n",
              "      <th>10</th>\n",
              "      <td>DEU</td>\n",
              "      <td>Germany</td>\n",
              "      <td>12.0</td>\n",
              "      <td>0.1</td>\n",
              "      <td>86.0</td>\n",
              "      <td>3.9</td>\n",
              "      <td>77.0</td>\n",
              "      <td>76.0</td>\n",
              "      <td>0.4</td>\n",
              "      <td>38971.0</td>\n",
              "      <td>...</td>\n",
              "      <td>66.0</td>\n",
              "      <td>1.8</td>\n",
              "      <td>500.0</td>\n",
              "      <td>15.62</td>\n",
              "      <td>76.0</td>\n",
              "      <td>91.0</td>\n",
              "      <td>18.0</td>\n",
              "      <td>Germany</td>\n",
              "      <td>2023</td>\n",
              "      <td>63578.140</td>\n",
              "    </tr>\n",
              "    <tr>\n",
              "      <th>11</th>\n",
              "      <td>DNK</td>\n",
              "      <td>Denmark</td>\n",
              "      <td>10.0</td>\n",
              "      <td>0.5</td>\n",
              "      <td>82.0</td>\n",
              "      <td>1.1</td>\n",
              "      <td>74.0</td>\n",
              "      <td>85.0</td>\n",
              "      <td>0.5</td>\n",
              "      <td>33774.0</td>\n",
              "      <td>...</td>\n",
              "      <td>70.0</td>\n",
              "      <td>2.0</td>\n",
              "      <td>501.0</td>\n",
              "      <td>NaN</td>\n",
              "      <td>85.0</td>\n",
              "      <td>93.0</td>\n",
              "      <td>19.0</td>\n",
              "      <td>Denmark</td>\n",
              "      <td>2023</td>\n",
              "      <td>72097.305</td>\n",
              "    </tr>\n",
              "    <tr>\n",
              "      <th>12</th>\n",
              "      <td>ESP</td>\n",
              "      <td>Spain</td>\n",
              "      <td>10.0</td>\n",
              "      <td>0.3</td>\n",
              "      <td>63.0</td>\n",
              "      <td>2.5</td>\n",
              "      <td>62.0</td>\n",
              "      <td>80.0</td>\n",
              "      <td>0.7</td>\n",
              "      <td>27155.0</td>\n",
              "      <td>...</td>\n",
              "      <td>75.0</td>\n",
              "      <td>1.8</td>\n",
              "      <td>NaN</td>\n",
              "      <td>15.75</td>\n",
              "      <td>72.0</td>\n",
              "      <td>76.0</td>\n",
              "      <td>18.0</td>\n",
              "      <td>Spain</td>\n",
              "      <td>2023</td>\n",
              "      <td>47141.543</td>\n",
              "    </tr>\n",
              "    <tr>\n",
              "      <th>13</th>\n",
              "      <td>EST</td>\n",
              "      <td>Estonia</td>\n",
              "      <td>5.9</td>\n",
              "      <td>5.7</td>\n",
              "      <td>91.0</td>\n",
              "      <td>2.2</td>\n",
              "      <td>74.0</td>\n",
              "      <td>79.0</td>\n",
              "      <td>1.9</td>\n",
              "      <td>23784.0</td>\n",
              "      <td>...</td>\n",
              "      <td>57.0</td>\n",
              "      <td>2.7</td>\n",
              "      <td>526.0</td>\n",
              "      <td>14.98</td>\n",
              "      <td>64.0</td>\n",
              "      <td>86.0</td>\n",
              "      <td>18.0</td>\n",
              "      <td>Estonia</td>\n",
              "      <td>2023</td>\n",
              "      <td>42471.824</td>\n",
              "    </tr>\n",
              "    <tr>\n",
              "      <th>14</th>\n",
              "      <td>FIN</td>\n",
              "      <td>Finland</td>\n",
              "      <td>5.5</td>\n",
              "      <td>0.4</td>\n",
              "      <td>91.0</td>\n",
              "      <td>3.6</td>\n",
              "      <td>72.0</td>\n",
              "      <td>88.0</td>\n",
              "      <td>1.2</td>\n",
              "      <td>33471.0</td>\n",
              "      <td>...</td>\n",
              "      <td>68.0</td>\n",
              "      <td>2.2</td>\n",
              "      <td>516.0</td>\n",
              "      <td>15.17</td>\n",
              "      <td>69.0</td>\n",
              "      <td>97.0</td>\n",
              "      <td>20.0</td>\n",
              "      <td>Finland</td>\n",
              "      <td>2023</td>\n",
              "      <td>57063.523</td>\n",
              "    </tr>\n",
              "    <tr>\n",
              "      <th>15</th>\n",
              "      <td>FRA</td>\n",
              "      <td>France</td>\n",
              "      <td>11.4</td>\n",
              "      <td>0.5</td>\n",
              "      <td>81.0</td>\n",
              "      <td>7.7</td>\n",
              "      <td>65.0</td>\n",
              "      <td>74.0</td>\n",
              "      <td>0.4</td>\n",
              "      <td>34375.0</td>\n",
              "      <td>...</td>\n",
              "      <td>67.0</td>\n",
              "      <td>2.1</td>\n",
              "      <td>494.0</td>\n",
              "      <td>16.20</td>\n",
              "      <td>75.0</td>\n",
              "      <td>78.0</td>\n",
              "      <td>17.0</td>\n",
              "      <td>France</td>\n",
              "      <td>2023</td>\n",
              "      <td>55441.188</td>\n",
              "    </tr>\n",
              "    <tr>\n",
              "      <th>16</th>\n",
              "      <td>GBR</td>\n",
              "      <td>United Kingdom</td>\n",
              "      <td>10.1</td>\n",
              "      <td>0.5</td>\n",
              "      <td>82.0</td>\n",
              "      <td>10.8</td>\n",
              "      <td>75.0</td>\n",
              "      <td>78.0</td>\n",
              "      <td>0.2</td>\n",
              "      <td>33049.0</td>\n",
              "      <td>...</td>\n",
              "      <td>73.0</td>\n",
              "      <td>3.1</td>\n",
              "      <td>503.0</td>\n",
              "      <td>14.94</td>\n",
              "      <td>68.0</td>\n",
              "      <td>82.0</td>\n",
              "      <td>17.0</td>\n",
              "      <td>United Kingdom</td>\n",
              "      <td>2023</td>\n",
              "      <td>54542.016</td>\n",
              "    </tr>\n",
              "    <tr>\n",
              "      <th>17</th>\n",
              "      <td>GRC</td>\n",
              "      <td>Greece</td>\n",
              "      <td>14.5</td>\n",
              "      <td>0.4</td>\n",
              "      <td>76.0</td>\n",
              "      <td>4.5</td>\n",
              "      <td>56.0</td>\n",
              "      <td>69.0</td>\n",
              "      <td>1.0</td>\n",
              "      <td>20791.0</td>\n",
              "      <td>...</td>\n",
              "      <td>79.0</td>\n",
              "      <td>1.8</td>\n",
              "      <td>453.0</td>\n",
              "      <td>15.03</td>\n",
              "      <td>58.0</td>\n",
              "      <td>67.0</td>\n",
              "      <td>19.0</td>\n",
              "      <td>Greece</td>\n",
              "      <td>2023</td>\n",
              "      <td>36905.453</td>\n",
              "    </tr>\n",
              "    <tr>\n",
              "      <th>18</th>\n",
              "      <td>HUN</td>\n",
              "      <td>Hungary</td>\n",
              "      <td>16.7</td>\n",
              "      <td>3.5</td>\n",
              "      <td>86.0</td>\n",
              "      <td>1.5</td>\n",
              "      <td>70.0</td>\n",
              "      <td>74.0</td>\n",
              "      <td>0.9</td>\n",
              "      <td>21026.0</td>\n",
              "      <td>...</td>\n",
              "      <td>58.0</td>\n",
              "      <td>1.2</td>\n",
              "      <td>479.0</td>\n",
              "      <td>15.08</td>\n",
              "      <td>70.0</td>\n",
              "      <td>81.0</td>\n",
              "      <td>16.0</td>\n",
              "      <td>Hungary</td>\n",
              "      <td>2023</td>\n",
              "      <td>40543.992</td>\n",
              "    </tr>\n",
              "    <tr>\n",
              "      <th>19</th>\n",
              "      <td>IRL</td>\n",
              "      <td>Ireland</td>\n",
              "      <td>7.8</td>\n",
              "      <td>0.2</td>\n",
              "      <td>85.0</td>\n",
              "      <td>4.7</td>\n",
              "      <td>68.0</td>\n",
              "      <td>76.0</td>\n",
              "      <td>0.5</td>\n",
              "      <td>29488.0</td>\n",
              "      <td>...</td>\n",
              "      <td>84.0</td>\n",
              "      <td>1.3</td>\n",
              "      <td>505.0</td>\n",
              "      <td>14.54</td>\n",
              "      <td>63.0</td>\n",
              "      <td>80.0</td>\n",
              "      <td>18.0</td>\n",
              "      <td>Ireland</td>\n",
              "      <td>2023</td>\n",
              "      <td>114922.390</td>\n",
              "    </tr>\n",
              "    <tr>\n",
              "      <th>20</th>\n",
              "      <td>ISL</td>\n",
              "      <td>Iceland</td>\n",
              "      <td>6.4</td>\n",
              "      <td>0.0</td>\n",
              "      <td>76.0</td>\n",
              "      <td>11.7</td>\n",
              "      <td>78.0</td>\n",
              "      <td>85.0</td>\n",
              "      <td>0.3</td>\n",
              "      <td>NaN</td>\n",
              "      <td>...</td>\n",
              "      <td>77.0</td>\n",
              "      <td>2.1</td>\n",
              "      <td>481.0</td>\n",
              "      <td>NaN</td>\n",
              "      <td>81.0</td>\n",
              "      <td>97.0</td>\n",
              "      <td>19.0</td>\n",
              "      <td>Iceland</td>\n",
              "      <td>2023</td>\n",
              "      <td>67255.670</td>\n",
              "    </tr>\n",
              "    <tr>\n",
              "      <th>21</th>\n",
              "      <td>ISR</td>\n",
              "      <td>Israel</td>\n",
              "      <td>19.7</td>\n",
              "      <td>NaN</td>\n",
              "      <td>88.0</td>\n",
              "      <td>14.1</td>\n",
              "      <td>67.0</td>\n",
              "      <td>80.0</td>\n",
              "      <td>1.5</td>\n",
              "      <td>NaN</td>\n",
              "      <td>...</td>\n",
              "      <td>74.0</td>\n",
              "      <td>2.5</td>\n",
              "      <td>465.0</td>\n",
              "      <td>NaN</td>\n",
              "      <td>67.0</td>\n",
              "      <td>77.0</td>\n",
              "      <td>16.0</td>\n",
              "      <td>Israel</td>\n",
              "      <td>2023</td>\n",
              "      <td>48432.110</td>\n",
              "    </tr>\n",
              "    <tr>\n",
              "      <th>22</th>\n",
              "      <td>ITA</td>\n",
              "      <td>Italy</td>\n",
              "      <td>15.9</td>\n",
              "      <td>0.6</td>\n",
              "      <td>63.0</td>\n",
              "      <td>3.3</td>\n",
              "      <td>58.0</td>\n",
              "      <td>73.0</td>\n",
              "      <td>0.5</td>\n",
              "      <td>29431.0</td>\n",
              "      <td>...</td>\n",
              "      <td>73.0</td>\n",
              "      <td>2.5</td>\n",
              "      <td>477.0</td>\n",
              "      <td>16.47</td>\n",
              "      <td>73.0</td>\n",
              "      <td>77.0</td>\n",
              "      <td>17.0</td>\n",
              "      <td>Italy</td>\n",
              "      <td>2023</td>\n",
              "      <td>53312.070</td>\n",
              "    </tr>\n",
              "    <tr>\n",
              "      <th>23</th>\n",
              "      <td>JPN</td>\n",
              "      <td>Japan</td>\n",
              "      <td>13.7</td>\n",
              "      <td>6.4</td>\n",
              "      <td>NaN</td>\n",
              "      <td>NaN</td>\n",
              "      <td>77.0</td>\n",
              "      <td>77.0</td>\n",
              "      <td>0.2</td>\n",
              "      <td>28872.0</td>\n",
              "      <td>...</td>\n",
              "      <td>37.0</td>\n",
              "      <td>1.4</td>\n",
              "      <td>520.0</td>\n",
              "      <td>14.10</td>\n",
              "      <td>53.0</td>\n",
              "      <td>87.0</td>\n",
              "      <td>16.0</td>\n",
              "      <td>Japan</td>\n",
              "      <td>2023</td>\n",
              "      <td>46157.637</td>\n",
              "    </tr>\n",
              "    <tr>\n",
              "      <th>24</th>\n",
              "      <td>KOR</td>\n",
              "      <td>Korea</td>\n",
              "      <td>27.3</td>\n",
              "      <td>2.5</td>\n",
              "      <td>89.0</td>\n",
              "      <td>NaN</td>\n",
              "      <td>66.0</td>\n",
              "      <td>82.0</td>\n",
              "      <td>0.8</td>\n",
              "      <td>24590.0</td>\n",
              "      <td>...</td>\n",
              "      <td>34.0</td>\n",
              "      <td>2.9</td>\n",
              "      <td>520.0</td>\n",
              "      <td>14.83</td>\n",
              "      <td>77.0</td>\n",
              "      <td>82.0</td>\n",
              "      <td>17.0</td>\n",
              "      <td>South Korea</td>\n",
              "      <td>2023</td>\n",
              "      <td>50572.250</td>\n",
              "    </tr>\n",
              "    <tr>\n",
              "      <th>25</th>\n",
              "      <td>LTU</td>\n",
              "      <td>Lithuania</td>\n",
              "      <td>10.5</td>\n",
              "      <td>11.8</td>\n",
              "      <td>94.0</td>\n",
              "      <td>1.0</td>\n",
              "      <td>72.0</td>\n",
              "      <td>62.0</td>\n",
              "      <td>2.5</td>\n",
              "      <td>26976.0</td>\n",
              "      <td>...</td>\n",
              "      <td>46.0</td>\n",
              "      <td>2.4</td>\n",
              "      <td>480.0</td>\n",
              "      <td>NaN</td>\n",
              "      <td>57.0</td>\n",
              "      <td>83.0</td>\n",
              "      <td>18.0</td>\n",
              "      <td>Lithuania</td>\n",
              "      <td>2023</td>\n",
              "      <td>46740.410</td>\n",
              "    </tr>\n",
              "    <tr>\n",
              "      <th>26</th>\n",
              "      <td>LUX</td>\n",
              "      <td>Luxembourg</td>\n",
              "      <td>10.0</td>\n",
              "      <td>0.1</td>\n",
              "      <td>74.0</td>\n",
              "      <td>2.8</td>\n",
              "      <td>67.0</td>\n",
              "      <td>87.0</td>\n",
              "      <td>0.2</td>\n",
              "      <td>44773.0</td>\n",
              "      <td>...</td>\n",
              "      <td>72.0</td>\n",
              "      <td>1.7</td>\n",
              "      <td>477.0</td>\n",
              "      <td>NaN</td>\n",
              "      <td>90.0</td>\n",
              "      <td>85.0</td>\n",
              "      <td>15.0</td>\n",
              "      <td>Luxembourg</td>\n",
              "      <td>2023</td>\n",
              "      <td>132846.580</td>\n",
              "    </tr>\n",
              "    <tr>\n",
              "      <th>27</th>\n",
              "      <td>LVA</td>\n",
              "      <td>Latvia</td>\n",
              "      <td>12.7</td>\n",
              "      <td>11.2</td>\n",
              "      <td>89.0</td>\n",
              "      <td>1.6</td>\n",
              "      <td>72.0</td>\n",
              "      <td>72.0</td>\n",
              "      <td>3.7</td>\n",
              "      <td>19783.0</td>\n",
              "      <td>...</td>\n",
              "      <td>47.0</td>\n",
              "      <td>2.2</td>\n",
              "      <td>487.0</td>\n",
              "      <td>NaN</td>\n",
              "      <td>55.0</td>\n",
              "      <td>83.0</td>\n",
              "      <td>18.0</td>\n",
              "      <td>Latvia</td>\n",
              "      <td>2023</td>\n",
              "      <td>37007.367</td>\n",
              "    </tr>\n",
              "    <tr>\n",
              "      <th>28</th>\n",
              "      <td>MEX</td>\n",
              "      <td>Mexico</td>\n",
              "      <td>20.3</td>\n",
              "      <td>25.9</td>\n",
              "      <td>42.0</td>\n",
              "      <td>27.0</td>\n",
              "      <td>59.0</td>\n",
              "      <td>42.0</td>\n",
              "      <td>26.8</td>\n",
              "      <td>16269.0</td>\n",
              "      <td>...</td>\n",
              "      <td>66.0</td>\n",
              "      <td>3.2</td>\n",
              "      <td>416.0</td>\n",
              "      <td>NaN</td>\n",
              "      <td>63.0</td>\n",
              "      <td>75.0</td>\n",
              "      <td>15.0</td>\n",
              "      <td>Mexico</td>\n",
              "      <td>2023</td>\n",
              "      <td>22142.607</td>\n",
              "    </tr>\n",
              "    <tr>\n",
              "      <th>29</th>\n",
              "      <td>NLD</td>\n",
              "      <td>Netherlands</td>\n",
              "      <td>12.2</td>\n",
              "      <td>0.1</td>\n",
              "      <td>81.0</td>\n",
              "      <td>0.3</td>\n",
              "      <td>78.0</td>\n",
              "      <td>83.0</td>\n",
              "      <td>0.6</td>\n",
              "      <td>34984.0</td>\n",
              "      <td>...</td>\n",
              "      <td>75.0</td>\n",
              "      <td>2.6</td>\n",
              "      <td>502.0</td>\n",
              "      <td>15.45</td>\n",
              "      <td>79.0</td>\n",
              "      <td>91.0</td>\n",
              "      <td>19.0</td>\n",
              "      <td>Netherlands</td>\n",
              "      <td>2023</td>\n",
              "      <td>71446.695</td>\n",
              "    </tr>\n",
              "    <tr>\n",
              "      <th>30</th>\n",
              "      <td>NOR</td>\n",
              "      <td>Norway</td>\n",
              "      <td>6.7</td>\n",
              "      <td>0.0</td>\n",
              "      <td>82.0</td>\n",
              "      <td>1.4</td>\n",
              "      <td>75.0</td>\n",
              "      <td>93.0</td>\n",
              "      <td>0.6</td>\n",
              "      <td>39144.0</td>\n",
              "      <td>...</td>\n",
              "      <td>75.0</td>\n",
              "      <td>2.2</td>\n",
              "      <td>497.0</td>\n",
              "      <td>15.67</td>\n",
              "      <td>78.0</td>\n",
              "      <td>98.0</td>\n",
              "      <td>18.0</td>\n",
              "      <td>Norway</td>\n",
              "      <td>2023</td>\n",
              "      <td>90469.810</td>\n",
              "    </tr>\n",
              "    <tr>\n",
              "      <th>31</th>\n",
              "      <td>NZL</td>\n",
              "      <td>New Zealand</td>\n",
              "      <td>6.0</td>\n",
              "      <td>NaN</td>\n",
              "      <td>81.0</td>\n",
              "      <td>14.0</td>\n",
              "      <td>77.0</td>\n",
              "      <td>66.0</td>\n",
              "      <td>1.3</td>\n",
              "      <td>39024.0</td>\n",
              "      <td>...</td>\n",
              "      <td>86.0</td>\n",
              "      <td>2.5</td>\n",
              "      <td>503.0</td>\n",
              "      <td>14.87</td>\n",
              "      <td>82.0</td>\n",
              "      <td>85.0</td>\n",
              "      <td>18.0</td>\n",
              "      <td>New Zealand</td>\n",
              "      <td>2023</td>\n",
              "      <td>48826.574</td>\n",
              "    </tr>\n",
              "    <tr>\n",
              "      <th>32</th>\n",
              "      <td>POL</td>\n",
              "      <td>Poland</td>\n",
              "      <td>22.8</td>\n",
              "      <td>2.3</td>\n",
              "      <td>93.0</td>\n",
              "      <td>4.2</td>\n",
              "      <td>69.0</td>\n",
              "      <td>71.0</td>\n",
              "      <td>0.5</td>\n",
              "      <td>23675.0</td>\n",
              "      <td>...</td>\n",
              "      <td>60.0</td>\n",
              "      <td>2.6</td>\n",
              "      <td>513.0</td>\n",
              "      <td>14.68</td>\n",
              "      <td>68.0</td>\n",
              "      <td>82.0</td>\n",
              "      <td>18.0</td>\n",
              "      <td>Poland</td>\n",
              "      <td>2023</td>\n",
              "      <td>44384.168</td>\n",
              "    </tr>\n",
              "    <tr>\n",
              "      <th>33</th>\n",
              "      <td>PRT</td>\n",
              "      <td>Portugal</td>\n",
              "      <td>8.3</td>\n",
              "      <td>0.9</td>\n",
              "      <td>55.0</td>\n",
              "      <td>5.6</td>\n",
              "      <td>69.0</td>\n",
              "      <td>83.0</td>\n",
              "      <td>0.7</td>\n",
              "      <td>24877.0</td>\n",
              "      <td>...</td>\n",
              "      <td>50.0</td>\n",
              "      <td>1.5</td>\n",
              "      <td>492.0</td>\n",
              "      <td>NaN</td>\n",
              "      <td>49.0</td>\n",
              "      <td>89.0</td>\n",
              "      <td>17.0</td>\n",
              "      <td>Portugal</td>\n",
              "      <td>2023</td>\n",
              "      <td>41755.480</td>\n",
              "    </tr>\n",
              "    <tr>\n",
              "      <th>34</th>\n",
              "      <td>RUS</td>\n",
              "      <td>Russia</td>\n",
              "      <td>11.8</td>\n",
              "      <td>13.8</td>\n",
              "      <td>95.0</td>\n",
              "      <td>0.1</td>\n",
              "      <td>70.0</td>\n",
              "      <td>64.0</td>\n",
              "      <td>4.8</td>\n",
              "      <td>19546.0</td>\n",
              "      <td>...</td>\n",
              "      <td>43.0</td>\n",
              "      <td>NaN</td>\n",
              "      <td>481.0</td>\n",
              "      <td>NaN</td>\n",
              "      <td>68.0</td>\n",
              "      <td>62.0</td>\n",
              "      <td>16.0</td>\n",
              "      <td>Russia</td>\n",
              "      <td>2023</td>\n",
              "      <td>39753.457</td>\n",
              "    </tr>\n",
              "    <tr>\n",
              "      <th>35</th>\n",
              "      <td>SVK</td>\n",
              "      <td>Slovak Republic</td>\n",
              "      <td>18.5</td>\n",
              "      <td>1.5</td>\n",
              "      <td>92.0</td>\n",
              "      <td>4.2</td>\n",
              "      <td>68.0</td>\n",
              "      <td>76.0</td>\n",
              "      <td>0.8</td>\n",
              "      <td>21149.0</td>\n",
              "      <td>...</td>\n",
              "      <td>65.0</td>\n",
              "      <td>3.0</td>\n",
              "      <td>469.0</td>\n",
              "      <td>NaN</td>\n",
              "      <td>66.0</td>\n",
              "      <td>81.0</td>\n",
              "      <td>16.0</td>\n",
              "      <td>Slovakia</td>\n",
              "      <td>2023</td>\n",
              "      <td>39290.434</td>\n",
              "    </tr>\n",
              "    <tr>\n",
              "      <th>36</th>\n",
              "      <td>SVN</td>\n",
              "      <td>Slovenia</td>\n",
              "      <td>17.0</td>\n",
              "      <td>0.2</td>\n",
              "      <td>90.0</td>\n",
              "      <td>5.6</td>\n",
              "      <td>71.0</td>\n",
              "      <td>91.0</td>\n",
              "      <td>0.4</td>\n",
              "      <td>25250.0</td>\n",
              "      <td>...</td>\n",
              "      <td>67.0</td>\n",
              "      <td>2.5</td>\n",
              "      <td>504.0</td>\n",
              "      <td>NaN</td>\n",
              "      <td>53.0</td>\n",
              "      <td>93.0</td>\n",
              "      <td>18.0</td>\n",
              "      <td>Slovenia</td>\n",
              "      <td>2023</td>\n",
              "      <td>48243.940</td>\n",
              "    </tr>\n",
              "    <tr>\n",
              "      <th>37</th>\n",
              "      <td>SWE</td>\n",
              "      <td>Sweden</td>\n",
              "      <td>5.8</td>\n",
              "      <td>0.0</td>\n",
              "      <td>84.0</td>\n",
              "      <td>0.9</td>\n",
              "      <td>75.0</td>\n",
              "      <td>79.0</td>\n",
              "      <td>1.1</td>\n",
              "      <td>33730.0</td>\n",
              "      <td>...</td>\n",
              "      <td>76.0</td>\n",
              "      <td>2.0</td>\n",
              "      <td>503.0</td>\n",
              "      <td>NaN</td>\n",
              "      <td>87.0</td>\n",
              "      <td>97.0</td>\n",
              "      <td>20.0</td>\n",
              "      <td>Sweden</td>\n",
              "      <td>2023</td>\n",
              "      <td>63114.680</td>\n",
              "    </tr>\n",
              "    <tr>\n",
              "      <th>38</th>\n",
              "      <td>TUR</td>\n",
              "      <td>Türkiye</td>\n",
              "      <td>27.1</td>\n",
              "      <td>4.9</td>\n",
              "      <td>42.0</td>\n",
              "      <td>25.0</td>\n",
              "      <td>48.0</td>\n",
              "      <td>59.0</td>\n",
              "      <td>1.0</td>\n",
              "      <td>NaN</td>\n",
              "      <td>...</td>\n",
              "      <td>67.0</td>\n",
              "      <td>1.5</td>\n",
              "      <td>462.0</td>\n",
              "      <td>14.61</td>\n",
              "      <td>86.0</td>\n",
              "      <td>62.0</td>\n",
              "      <td>19.0</td>\n",
              "      <td>Turkey</td>\n",
              "      <td>2023</td>\n",
              "      <td>34609.914</td>\n",
              "    </tr>\n",
              "    <tr>\n",
              "      <th>39</th>\n",
              "      <td>USA</td>\n",
              "      <td>United States</td>\n",
              "      <td>7.7</td>\n",
              "      <td>0.1</td>\n",
              "      <td>92.0</td>\n",
              "      <td>10.4</td>\n",
              "      <td>67.0</td>\n",
              "      <td>78.0</td>\n",
              "      <td>6.0</td>\n",
              "      <td>51147.0</td>\n",
              "      <td>...</td>\n",
              "      <td>88.0</td>\n",
              "      <td>3.1</td>\n",
              "      <td>495.0</td>\n",
              "      <td>14.57</td>\n",
              "      <td>65.0</td>\n",
              "      <td>88.0</td>\n",
              "      <td>17.0</td>\n",
              "      <td>United States</td>\n",
              "      <td>2023</td>\n",
              "      <td>74577.510</td>\n",
              "    </tr>\n",
              "    <tr>\n",
              "      <th>40</th>\n",
              "      <td>ZAF</td>\n",
              "      <td>South Africa</td>\n",
              "      <td>28.5</td>\n",
              "      <td>35.9</td>\n",
              "      <td>48.0</td>\n",
              "      <td>15.4</td>\n",
              "      <td>39.0</td>\n",
              "      <td>40.0</td>\n",
              "      <td>13.7</td>\n",
              "      <td>9338.0</td>\n",
              "      <td>...</td>\n",
              "      <td>NaN</td>\n",
              "      <td>NaN</td>\n",
              "      <td>NaN</td>\n",
              "      <td>NaN</td>\n",
              "      <td>66.0</td>\n",
              "      <td>72.0</td>\n",
              "      <td>NaN</td>\n",
              "      <td>South Africa</td>\n",
              "      <td>2023</td>\n",
              "      <td>13690.390</td>\n",
              "    </tr>\n",
              "  </tbody>\n",
              "</table>\n",
              "<p>41 rows × 29 columns</p>\n",
              "</div>"
            ],
            "text/plain": [
              "   LOCATION          Country  Air pollution  \\\n",
              "0       AUS        Australia            6.7   \n",
              "1       AUT          Austria           12.2   \n",
              "2       BEL          Belgium           12.8   \n",
              "3       BRA           Brazil           11.7   \n",
              "4       CAN           Canada            7.1   \n",
              "5       CHE      Switzerland           10.1   \n",
              "6       CHL            Chile           23.4   \n",
              "7       COL         Colombia           22.6   \n",
              "8       CRI       Costa Rica           17.5   \n",
              "9       CZE          Czechia           17.0   \n",
              "10      DEU          Germany           12.0   \n",
              "11      DNK          Denmark           10.0   \n",
              "12      ESP            Spain           10.0   \n",
              "13      EST          Estonia            5.9   \n",
              "14      FIN          Finland            5.5   \n",
              "15      FRA           France           11.4   \n",
              "16      GBR   United Kingdom           10.1   \n",
              "17      GRC           Greece           14.5   \n",
              "18      HUN          Hungary           16.7   \n",
              "19      IRL          Ireland            7.8   \n",
              "20      ISL          Iceland            6.4   \n",
              "21      ISR           Israel           19.7   \n",
              "22      ITA            Italy           15.9   \n",
              "23      JPN            Japan           13.7   \n",
              "24      KOR            Korea           27.3   \n",
              "25      LTU        Lithuania           10.5   \n",
              "26      LUX       Luxembourg           10.0   \n",
              "27      LVA           Latvia           12.7   \n",
              "28      MEX           Mexico           20.3   \n",
              "29      NLD      Netherlands           12.2   \n",
              "30      NOR           Norway            6.7   \n",
              "31      NZL      New Zealand            6.0   \n",
              "32      POL           Poland           22.8   \n",
              "33      PRT         Portugal            8.3   \n",
              "34      RUS           Russia           11.8   \n",
              "35      SVK  Slovak Republic           18.5   \n",
              "36      SVN         Slovenia           17.0   \n",
              "37      SWE           Sweden            5.8   \n",
              "38      TUR          Türkiye           27.1   \n",
              "39      USA    United States            7.7   \n",
              "40      ZAF     South Africa           28.5   \n",
              "\n",
              "    Dwellings without basic facilities  Educational attainment  \\\n",
              "0                                  NaN                    84.0   \n",
              "1                                  0.8                    86.0   \n",
              "2                                  0.7                    80.0   \n",
              "3                                  6.7                    57.0   \n",
              "4                                  0.2                    92.0   \n",
              "5                                  0.0                    89.0   \n",
              "6                                  9.4                    67.0   \n",
              "7                                 12.3                    59.0   \n",
              "8                                  2.3                    43.0   \n",
              "9                                  0.5                    94.0   \n",
              "10                                 0.1                    86.0   \n",
              "11                                 0.5                    82.0   \n",
              "12                                 0.3                    63.0   \n",
              "13                                 5.7                    91.0   \n",
              "14                                 0.4                    91.0   \n",
              "15                                 0.5                    81.0   \n",
              "16                                 0.5                    82.0   \n",
              "17                                 0.4                    76.0   \n",
              "18                                 3.5                    86.0   \n",
              "19                                 0.2                    85.0   \n",
              "20                                 0.0                    76.0   \n",
              "21                                 NaN                    88.0   \n",
              "22                                 0.6                    63.0   \n",
              "23                                 6.4                     NaN   \n",
              "24                                 2.5                    89.0   \n",
              "25                                11.8                    94.0   \n",
              "26                                 0.1                    74.0   \n",
              "27                                11.2                    89.0   \n",
              "28                                25.9                    42.0   \n",
              "29                                 0.1                    81.0   \n",
              "30                                 0.0                    82.0   \n",
              "31                                 NaN                    81.0   \n",
              "32                                 2.3                    93.0   \n",
              "33                                 0.9                    55.0   \n",
              "34                                13.8                    95.0   \n",
              "35                                 1.5                    92.0   \n",
              "36                                 0.2                    90.0   \n",
              "37                                 0.0                    84.0   \n",
              "38                                 4.9                    42.0   \n",
              "39                                 0.1                    92.0   \n",
              "40                                35.9                    48.0   \n",
              "\n",
              "    Employees working very long hours  Employment rate  \\\n",
              "0                                12.5             73.0   \n",
              "1                                 5.3             72.0   \n",
              "2                                 4.3             65.0   \n",
              "3                                 5.6             57.0   \n",
              "4                                 3.3             70.0   \n",
              "5                                 0.4             80.0   \n",
              "6                                 7.7             56.0   \n",
              "7                                23.7             58.0   \n",
              "8                                22.0             55.0   \n",
              "9                                 4.5             74.0   \n",
              "10                                3.9             77.0   \n",
              "11                                1.1             74.0   \n",
              "12                                2.5             62.0   \n",
              "13                                2.2             74.0   \n",
              "14                                3.6             72.0   \n",
              "15                                7.7             65.0   \n",
              "16                               10.8             75.0   \n",
              "17                                4.5             56.0   \n",
              "18                                1.5             70.0   \n",
              "19                                4.7             68.0   \n",
              "20                               11.7             78.0   \n",
              "21                               14.1             67.0   \n",
              "22                                3.3             58.0   \n",
              "23                                NaN             77.0   \n",
              "24                                NaN             66.0   \n",
              "25                                1.0             72.0   \n",
              "26                                2.8             67.0   \n",
              "27                                1.6             72.0   \n",
              "28                               27.0             59.0   \n",
              "29                                0.3             78.0   \n",
              "30                                1.4             75.0   \n",
              "31                               14.0             77.0   \n",
              "32                                4.2             69.0   \n",
              "33                                5.6             69.0   \n",
              "34                                0.1             70.0   \n",
              "35                                4.2             68.0   \n",
              "36                                5.6             71.0   \n",
              "37                                0.9             75.0   \n",
              "38                               25.0             48.0   \n",
              "39                               10.4             67.0   \n",
              "40                               15.4             39.0   \n",
              "\n",
              "    Feeling safe walking alone at night  Homicide rate  \\\n",
              "0                                  67.0            0.9   \n",
              "1                                  86.0            0.5   \n",
              "2                                  56.0            1.1   \n",
              "3                                  45.0           19.0   \n",
              "4                                  78.0            1.2   \n",
              "5                                  86.0            0.3   \n",
              "6                                  41.0            2.4   \n",
              "7                                  50.0           23.1   \n",
              "8                                  47.0           10.0   \n",
              "9                                  77.0            0.7   \n",
              "10                                 76.0            0.4   \n",
              "11                                 85.0            0.5   \n",
              "12                                 80.0            0.7   \n",
              "13                                 79.0            1.9   \n",
              "14                                 88.0            1.2   \n",
              "15                                 74.0            0.4   \n",
              "16                                 78.0            0.2   \n",
              "17                                 69.0            1.0   \n",
              "18                                 74.0            0.9   \n",
              "19                                 76.0            0.5   \n",
              "20                                 85.0            0.3   \n",
              "21                                 80.0            1.5   \n",
              "22                                 73.0            0.5   \n",
              "23                                 77.0            0.2   \n",
              "24                                 82.0            0.8   \n",
              "25                                 62.0            2.5   \n",
              "26                                 87.0            0.2   \n",
              "27                                 72.0            3.7   \n",
              "28                                 42.0           26.8   \n",
              "29                                 83.0            0.6   \n",
              "30                                 93.0            0.6   \n",
              "31                                 66.0            1.3   \n",
              "32                                 71.0            0.5   \n",
              "33                                 83.0            0.7   \n",
              "34                                 64.0            4.8   \n",
              "35                                 76.0            0.8   \n",
              "36                                 91.0            0.4   \n",
              "37                                 79.0            1.1   \n",
              "38                                 59.0            1.0   \n",
              "39                                 78.0            6.0   \n",
              "40                                 40.0           13.7   \n",
              "\n",
              "    Household net adjusted disposable income  ...  Self-reported health  \\\n",
              "0                                    37433.0  ...                  85.0   \n",
              "1                                    37001.0  ...                  71.0   \n",
              "2                                    34884.0  ...                  74.0   \n",
              "3                                        NaN  ...                   NaN   \n",
              "4                                    34421.0  ...                  89.0   \n",
              "5                                    39697.0  ...                  81.0   \n",
              "6                                        NaN  ...                  60.0   \n",
              "7                                        NaN  ...                  80.0   \n",
              "8                                    16517.0  ...                  73.0   \n",
              "9                                    26664.0  ...                  62.0   \n",
              "10                                   38971.0  ...                  66.0   \n",
              "11                                   33774.0  ...                  70.0   \n",
              "12                                   27155.0  ...                  75.0   \n",
              "13                                   23784.0  ...                  57.0   \n",
              "14                                   33471.0  ...                  68.0   \n",
              "15                                   34375.0  ...                  67.0   \n",
              "16                                   33049.0  ...                  73.0   \n",
              "17                                   20791.0  ...                  79.0   \n",
              "18                                   21026.0  ...                  58.0   \n",
              "19                                   29488.0  ...                  84.0   \n",
              "20                                       NaN  ...                  77.0   \n",
              "21                                       NaN  ...                  74.0   \n",
              "22                                   29431.0  ...                  73.0   \n",
              "23                                   28872.0  ...                  37.0   \n",
              "24                                   24590.0  ...                  34.0   \n",
              "25                                   26976.0  ...                  46.0   \n",
              "26                                   44773.0  ...                  72.0   \n",
              "27                                   19783.0  ...                  47.0   \n",
              "28                                   16269.0  ...                  66.0   \n",
              "29                                   34984.0  ...                  75.0   \n",
              "30                                   39144.0  ...                  75.0   \n",
              "31                                   39024.0  ...                  86.0   \n",
              "32                                   23675.0  ...                  60.0   \n",
              "33                                   24877.0  ...                  50.0   \n",
              "34                                   19546.0  ...                  43.0   \n",
              "35                                   21149.0  ...                  65.0   \n",
              "36                                   25250.0  ...                  67.0   \n",
              "37                                   33730.0  ...                  76.0   \n",
              "38                                       NaN  ...                  67.0   \n",
              "39                                   51147.0  ...                  88.0   \n",
              "40                                    9338.0  ...                   NaN   \n",
              "\n",
              "    Stakeholder engagement for developing regulations  Student skills  \\\n",
              "0                                                 2.7           499.0   \n",
              "1                                                 1.3           491.0   \n",
              "2                                                 2.0           500.0   \n",
              "3                                                 2.2           400.0   \n",
              "4                                                 2.9           517.0   \n",
              "5                                                 2.3           498.0   \n",
              "6                                                 1.3           438.0   \n",
              "7                                                 1.4           406.0   \n",
              "8                                                 1.8           415.0   \n",
              "9                                                 1.6           495.0   \n",
              "10                                                1.8           500.0   \n",
              "11                                                2.0           501.0   \n",
              "12                                                1.8             NaN   \n",
              "13                                                2.7           526.0   \n",
              "14                                                2.2           516.0   \n",
              "15                                                2.1           494.0   \n",
              "16                                                3.1           503.0   \n",
              "17                                                1.8           453.0   \n",
              "18                                                1.2           479.0   \n",
              "19                                                1.3           505.0   \n",
              "20                                                2.1           481.0   \n",
              "21                                                2.5           465.0   \n",
              "22                                                2.5           477.0   \n",
              "23                                                1.4           520.0   \n",
              "24                                                2.9           520.0   \n",
              "25                                                2.4           480.0   \n",
              "26                                                1.7           477.0   \n",
              "27                                                2.2           487.0   \n",
              "28                                                3.2           416.0   \n",
              "29                                                2.6           502.0   \n",
              "30                                                2.2           497.0   \n",
              "31                                                2.5           503.0   \n",
              "32                                                2.6           513.0   \n",
              "33                                                1.5           492.0   \n",
              "34                                                NaN           481.0   \n",
              "35                                                3.0           469.0   \n",
              "36                                                2.5           504.0   \n",
              "37                                                2.0           503.0   \n",
              "38                                                1.5           462.0   \n",
              "39                                                3.1           495.0   \n",
              "40                                                NaN             NaN   \n",
              "\n",
              "    Time devoted to leisure and personal care  Voter turnout  Water quality  \\\n",
              "0                                       14.36           92.0           92.0   \n",
              "1                                       14.51           76.0           92.0   \n",
              "2                                       15.52           88.0           79.0   \n",
              "3                                         NaN           80.0           70.0   \n",
              "4                                       14.57           68.0           90.0   \n",
              "5                                         NaN           45.0           96.0   \n",
              "6                                         NaN           47.0           62.0   \n",
              "7                                         NaN           53.0           82.0   \n",
              "8                                         NaN           66.0           87.0   \n",
              "9                                         NaN           62.0           89.0   \n",
              "10                                      15.62           76.0           91.0   \n",
              "11                                        NaN           85.0           93.0   \n",
              "12                                      15.75           72.0           76.0   \n",
              "13                                      14.98           64.0           86.0   \n",
              "14                                      15.17           69.0           97.0   \n",
              "15                                      16.20           75.0           78.0   \n",
              "16                                      14.94           68.0           82.0   \n",
              "17                                      15.03           58.0           67.0   \n",
              "18                                      15.08           70.0           81.0   \n",
              "19                                      14.54           63.0           80.0   \n",
              "20                                        NaN           81.0           97.0   \n",
              "21                                        NaN           67.0           77.0   \n",
              "22                                      16.47           73.0           77.0   \n",
              "23                                      14.10           53.0           87.0   \n",
              "24                                      14.83           77.0           82.0   \n",
              "25                                        NaN           57.0           83.0   \n",
              "26                                        NaN           90.0           85.0   \n",
              "27                                        NaN           55.0           83.0   \n",
              "28                                        NaN           63.0           75.0   \n",
              "29                                      15.45           79.0           91.0   \n",
              "30                                      15.67           78.0           98.0   \n",
              "31                                      14.87           82.0           85.0   \n",
              "32                                      14.68           68.0           82.0   \n",
              "33                                        NaN           49.0           89.0   \n",
              "34                                        NaN           68.0           62.0   \n",
              "35                                        NaN           66.0           81.0   \n",
              "36                                        NaN           53.0           93.0   \n",
              "37                                        NaN           87.0           97.0   \n",
              "38                                      14.61           86.0           62.0   \n",
              "39                                      14.57           65.0           88.0   \n",
              "40                                        NaN           66.0           72.0   \n",
              "\n",
              "    Years in education          Entity  Year         Gdp  \n",
              "0                 20.0       Australia  2023   59552.880  \n",
              "1                 17.0         Austria  2023   65015.133  \n",
              "2                 19.0         Belgium  2023   64185.848  \n",
              "3                 16.0          Brazil  2023   19018.238  \n",
              "4                 17.0          Canada  2023   55918.930  \n",
              "5                 17.0     Switzerland  2023   82557.550  \n",
              "6                 17.0           Chile  2023   29462.640  \n",
              "7                 14.0        Colombia  2023   18692.385  \n",
              "8                  NaN      Costa Rica  2023   26292.771  \n",
              "9                 18.0         Czechia  2023   49681.060  \n",
              "10                18.0         Germany  2023   63578.140  \n",
              "11                19.0         Denmark  2023   72097.305  \n",
              "12                18.0           Spain  2023   47141.543  \n",
              "13                18.0         Estonia  2023   42471.824  \n",
              "14                20.0         Finland  2023   57063.523  \n",
              "15                17.0          France  2023   55441.188  \n",
              "16                17.0  United Kingdom  2023   54542.016  \n",
              "17                19.0          Greece  2023   36905.453  \n",
              "18                16.0         Hungary  2023   40543.992  \n",
              "19                18.0         Ireland  2023  114922.390  \n",
              "20                19.0         Iceland  2023   67255.670  \n",
              "21                16.0          Israel  2023   48432.110  \n",
              "22                17.0           Italy  2023   53312.070  \n",
              "23                16.0           Japan  2023   46157.637  \n",
              "24                17.0     South Korea  2023   50572.250  \n",
              "25                18.0       Lithuania  2023   46740.410  \n",
              "26                15.0      Luxembourg  2023  132846.580  \n",
              "27                18.0          Latvia  2023   37007.367  \n",
              "28                15.0          Mexico  2023   22142.607  \n",
              "29                19.0     Netherlands  2023   71446.695  \n",
              "30                18.0          Norway  2023   90469.810  \n",
              "31                18.0     New Zealand  2023   48826.574  \n",
              "32                18.0          Poland  2023   44384.168  \n",
              "33                17.0        Portugal  2023   41755.480  \n",
              "34                16.0          Russia  2023   39753.457  \n",
              "35                16.0        Slovakia  2023   39290.434  \n",
              "36                18.0        Slovenia  2023   48243.940  \n",
              "37                20.0          Sweden  2023   63114.680  \n",
              "38                19.0          Turkey  2023   34609.914  \n",
              "39                17.0   United States  2023   74577.510  \n",
              "40                 NaN    South Africa  2023   13690.390  \n",
              "\n",
              "[41 rows x 29 columns]"
            ]
          },
          "execution_count": 11,
          "metadata": {},
          "output_type": "execute_result"
        }
      ],
      "source": [
        "Final = pd.merge(lifeF, gdp, on='LOCATION')\n",
        "Final =Final.rename(columns= {\"ny_gdp_pcap_pp_kd\":\"Gdp\"})\n",
        "Final"
      ]
    },
    {
      "cell_type": "code",
      "execution_count": 12,
      "metadata": {
        "id": "6-dWVkHSPkjO"
      },
      "outputs": [],
      "source": [
        "# Normalizar por indíce - Housing\n",
        "\n",
        "dwelling = Final['Dwellings without basic facilities']\n",
        "norm_dwelling = (1 - (dwelling - dwelling.min()) / (dwelling.max() - dwelling.min()))\n",
        "norm_dwelling = norm_dwelling.fillna(0)\n",
        "\n",
        "housing_exp = Final['Housing expenditure']\n",
        "norm_housing_exp = (1 - (housing_exp - housing_exp.min()) / (housing_exp.max() - housing_exp.min()))\n",
        "norm_housing_exp = norm_housing_exp.fillna(0)\n",
        "\n",
        "room = Final['Rooms per person']\n",
        "norm_room = ((room - room.min()) / (room.max() - room.min()))\n",
        "norm_room = norm_room.fillna(0)\n",
        "\n",
        "#Promedio de todo\n",
        "housing = (norm_dwelling + norm_housing_exp + norm_room)/3\n",
        "\n",
        "#Ordenar mayor a menor\n",
        "#housing.sort_values(ascending=False)\n",
        "\n",
        "#Agregar housing a Final\n",
        "Final['Housing'] = housing"
      ]
    },
    {
      "cell_type": "code",
      "execution_count": 13,
      "metadata": {
        "id": "a5yAXFLk1tvc"
      },
      "outputs": [],
      "source": [
        "# Normalizar por indíce - Income\n",
        "\n",
        "hous_adj = Final['Household net adjusted disposable income']\n",
        "norm_hous_adj = ((hous_adj - hous_adj.min()) / (hous_adj.max() - hous_adj.min()))\n",
        "norm_hous_adj = norm_hous_adj.fillna(0)\n",
        "\n",
        "net_worth = Final['Household net wealth']\n",
        "norm_net_worth = ((net_worth - net_worth.min()) / (net_worth.max() - net_worth.min()))\n",
        "norm_net_worth = norm_net_worth.fillna(0)\n",
        "\n",
        "\n",
        "#Promedio de todo\n",
        "income = (norm_hous_adj + norm_net_worth)/2\n",
        "\n",
        "#Agregar housing a Final\n",
        "Final['Income'] = income"
      ]
    },
    {
      "cell_type": "code",
      "execution_count": 14,
      "metadata": {
        "id": "JPL_-kYK3Qiq"
      },
      "outputs": [],
      "source": [
        "# Normalizar por indíce - Jobs\n",
        "\n",
        "lab_ins = Final['Labour market insecurity']\n",
        "norm_lab_ins = (1 - (lab_ins - lab_ins.min()) / (lab_ins.max() - lab_ins.min()))\n",
        "norm_lab_ins = norm_lab_ins.fillna(0)\n",
        "\n",
        "emp_rate = Final['Employment rate']\n",
        "norm_emp_rate = ((emp_rate - emp_rate.min()) / (emp_rate.max() - emp_rate.min()))\n",
        "norm_emp_rate = norm_emp_rate.fillna(0)\n",
        "\n",
        "unemp_rate = Final['Long-term unemployment rate']\n",
        "norm_unemp_rate = (1 - (unemp_rate - unemp_rate.min()) / (unemp_rate.max() - unemp_rate.min()))\n",
        "norm_unemp_rate = norm_unemp_rate.fillna(0)\n",
        "\n",
        "per_earn = Final['Personal earnings']\n",
        "norm_per_earn = ((per_earn - per_earn.min()) / (per_earn.max() - per_earn.min()))\n",
        "norm_per_earn = norm_per_earn.fillna(0)\n",
        "\n",
        "\n",
        "#Promedio de todo\n",
        "jobs = (norm_lab_ins + norm_emp_rate + norm_unemp_rate + norm_per_earn)/4\n",
        "\n",
        "#Agregar housing a Final\n",
        "Final['Jobs'] = jobs\n"
      ]
    },
    {
      "cell_type": "code",
      "execution_count": 15,
      "metadata": {
        "id": "F8sQ3jPv47z_"
      },
      "outputs": [],
      "source": [
        "# Normalizar por indíce - Community\n",
        "\n",
        "sup_net = Final['Quality of support network']\n",
        "norm_sup_net = ((sup_net - sup_net.min()) / (sup_net.max() - sup_net.min()))\n",
        "norm_sup_net = norm_sup_net.fillna(0)\n",
        "\n",
        "\n",
        "#Promedio de todo\n",
        "community = (norm_sup_net)/1\n",
        "\n",
        "#Agregar housing a Final\n",
        "Final['Community'] = community\n"
      ]
    },
    {
      "cell_type": "code",
      "execution_count": 16,
      "metadata": {
        "id": "KeN0qS0T59ad"
      },
      "outputs": [],
      "source": [
        "# Normalizar por indíce - Education\n",
        "\n",
        "ed_att = Final['Educational attainment']\n",
        "norm_ed_att = ((ed_att - ed_att.min()) / (ed_att.max() - ed_att.min()))\n",
        "norm_ed_attt = norm_ed_att.fillna(0)\n",
        "\n",
        "s_skills = Final['Student skills']\n",
        "norm_s_skills = ((s_skills - s_skills.min()) / (s_skills.max() - s_skills.min()))\n",
        "norm_s_skills = norm_s_skills.fillna(0)\n",
        "\n",
        "y_ed = Final['Years in education']\n",
        "norm_y_ed = ((y_ed - y_ed.min()) / (y_ed.max() - y_ed.min()))\n",
        "norm_y_ed = norm_y_ed.fillna(0)\n",
        "\n",
        "\n",
        "#Promedio de todo\n",
        "education = (norm_ed_attt + norm_s_skills + norm_y_ed)/3\n",
        "\n",
        "#Agregar housing a Final\n",
        "Final['Education'] = education"
      ]
    },
    {
      "cell_type": "code",
      "execution_count": 17,
      "metadata": {
        "id": "GNBfqJ9b63ET"
      },
      "outputs": [],
      "source": [
        "# Normalizar por indíce - Environment\n",
        "\n",
        "air_poll = Final['Air pollution']\n",
        "norm_air_poll = (1 - (air_poll - air_poll.min()) / (air_poll.max() - air_poll.min()))\n",
        "norm_air_poll = norm_air_poll.fillna(0)\n",
        "\n",
        "water_qaul = Final['Water quality']\n",
        "norm_water_qaul = ((water_qaul - water_qaul.min()) / (water_qaul.max() - water_qaul.min()))\n",
        "norm_water_qaul = norm_water_qaul.fillna(0)\n",
        "\n",
        "#Promedio de todo\n",
        "environment = (norm_air_poll + norm_water_qaul)/2\n",
        "\n",
        "#Agregar housing a Final\n",
        "Final['Environment'] = environment"
      ]
    },
    {
      "cell_type": "code",
      "execution_count": 18,
      "metadata": {
        "id": "3NxgPlx77aPH"
      },
      "outputs": [],
      "source": [
        "# Normalizar por indíce - Civic engagement\n",
        "\n",
        "stake = Final['Stakeholder engagement for developing regulations']\n",
        "norm_stake = ((stake - stake.min()) / (stake.max() - stake.min()))\n",
        "norm_stake = norm_stake.fillna(0)\n",
        "\n",
        "voter = Final['Voter turnout']\n",
        "norm_voter = ((voter - voter.min()) / (voter.max() - voter.min()))\n",
        "norm_voter = norm_voter.fillna(0)\n",
        "\n",
        "#Promedio de todo\n",
        "civic = (norm_stake + norm_voter)/2\n",
        "\n",
        "#Agregar housing a Final\n",
        "Final['Civic engagement'] = civic"
      ]
    },
    {
      "cell_type": "code",
      "execution_count": 19,
      "metadata": {
        "id": "bm7ShW-EUjwX"
      },
      "outputs": [],
      "source": [
        "# Normalizar por indíce - Health\n",
        "\n",
        "life_expectancy = Final['Life expectancy']\n",
        "norm_life_expectancy = ((life_expectancy - life_expectancy.min()) / (life_expectancy.max() - life_expectancy.min()))\n",
        "norm_life_expectancy = life_expectancy.fillna(0)\n",
        "\n",
        "self_rep = Final['Self-reported health']\n",
        "norm_self_rep= ((self_rep - self_rep.min()) / (self_rep.max() - self_rep.min()))\n",
        "norm_self_rep = self_rep.fillna(0)\n",
        "\n",
        "#Promedio de todo\n",
        "health = (life_expectancy + norm_self_rep)/2\n",
        "\n",
        "#Agregar housing a Final\n",
        "Final['Health'] = health"
      ]
    },
    {
      "cell_type": "code",
      "execution_count": 20,
      "metadata": {
        "id": "fj5JVnOQWake"
      },
      "outputs": [],
      "source": [
        "# Normalizar por indíce - Life Satisfaction\n",
        "\n",
        "life_satifs = Final['Life satisfaction']\n",
        "norm_life_satifs= ((life_satifs - life_satifs.min()) / (life_satifs.max() - life_satifs.min()))\n",
        "norm_life_satifs = norm_life_satifs.fillna(0)\n",
        "\n",
        "\n",
        "#Promedio de todo\n",
        "satisfaction = (norm_life_satifs)/1\n",
        "\n",
        "#Agregar housing a Final\n",
        "Final['Life satisfaction'] = satisfaction"
      ]
    },
    {
      "cell_type": "code",
      "execution_count": 21,
      "metadata": {
        "id": "Y8ierSi2XQy9"
      },
      "outputs": [],
      "source": [
        "# Normalizar por indíce - Safety\n",
        "\n",
        "safe_alone = Final['Feeling safe walking alone at night']\n",
        "norm_safe_alone = ((safe_alone - safe_alone.min()) / (safe_alone.max() - safe_alone.min()))\n",
        "norm_safe_alone = norm_safe_alone.fillna(0)\n",
        "\n",
        "\n",
        "homicide = Final['Homicide rate']\n",
        "norm_homicide = (1 - (homicide - homicide.min()) / (homicide.max() - homicide.min()))\n",
        "norm_homicide = norm_homicide.fillna(0)\n",
        "\n",
        "\n",
        "#Promedio de todo\n",
        "safety = (norm_safe_alone + norm_homicide)/2\n",
        "\n",
        "#Agregar housing a Final\n",
        "Final['Safety'] = safety"
      ]
    },
    {
      "cell_type": "code",
      "execution_count": 22,
      "metadata": {
        "id": "22sxOQZYZnbL"
      },
      "outputs": [],
      "source": [
        "# Normalizar por indíce - Work Life Balance\n",
        "\n",
        "long_hrs = Final['Employees working very long hours']\n",
        "norm_long_hrs = (1 - (long_hrs - long_hrs.min()) / (long_hrs.max() - long_hrs.min()))\n",
        "norm_long_hrs = norm_long_hrs.fillna(0)\n",
        "\n",
        "\n",
        "leisure = Final['Time devoted to leisure and personal care']\n",
        "norm_leisure = ((leisure - leisure.min()) / (leisure.max() - leisure.min()))\n",
        "norm_leisure = norm_leisure.fillna(0)\n",
        "\n",
        "\n",
        "#Promedio de todo\n",
        "wrk_bal = (norm_long_hrs + norm_leisure)/2\n",
        "\n",
        "#Agregar housing a Final\n",
        "Final['Work Life Balance'] = wrk_bal"
      ]
    },
    {
      "cell_type": "code",
      "execution_count": 23,
      "metadata": {
        "colab": {
          "base_uri": "https://localhost:8080/",
          "height": 1000
        },
        "id": "TT-lL54naQRd",
        "outputId": "a39ea742-2720-4d49-aa24-1d0e7230527d"
      },
      "outputs": [
        {
          "data": {
            "text/html": [
              "<div>\n",
              "<style scoped>\n",
              "    .dataframe tbody tr th:only-of-type {\n",
              "        vertical-align: middle;\n",
              "    }\n",
              "\n",
              "    .dataframe tbody tr th {\n",
              "        vertical-align: top;\n",
              "    }\n",
              "\n",
              "    .dataframe thead th {\n",
              "        text-align: right;\n",
              "    }\n",
              "</style>\n",
              "<table border=\"1\" class=\"dataframe\">\n",
              "  <thead>\n",
              "    <tr style=\"text-align: right;\">\n",
              "      <th></th>\n",
              "      <th>LOCATION</th>\n",
              "      <th>Country</th>\n",
              "      <th>Air pollution</th>\n",
              "      <th>Dwellings without basic facilities</th>\n",
              "      <th>Educational attainment</th>\n",
              "      <th>Employees working very long hours</th>\n",
              "      <th>Employment rate</th>\n",
              "      <th>Feeling safe walking alone at night</th>\n",
              "      <th>Homicide rate</th>\n",
              "      <th>Household net adjusted disposable income</th>\n",
              "      <th>...</th>\n",
              "      <th>Housing</th>\n",
              "      <th>Income</th>\n",
              "      <th>Jobs</th>\n",
              "      <th>Community</th>\n",
              "      <th>Education</th>\n",
              "      <th>Environment</th>\n",
              "      <th>Civic engagement</th>\n",
              "      <th>Health</th>\n",
              "      <th>Safety</th>\n",
              "      <th>Work Life Balance</th>\n",
              "    </tr>\n",
              "  </thead>\n",
              "  <tbody>\n",
              "    <tr>\n",
              "      <th>0</th>\n",
              "      <td>AUS</td>\n",
              "      <td>Australia</td>\n",
              "      <td>6.7</td>\n",
              "      <td>NaN</td>\n",
              "      <td>84.0</td>\n",
              "      <td>12.5</td>\n",
              "      <td>73.0</td>\n",
              "      <td>67.0</td>\n",
              "      <td>0.9</td>\n",
              "      <td>37433.0</td>\n",
              "      <td>...</td>\n",
              "      <td>0.209974</td>\n",
              "      <td>0.596762</td>\n",
              "      <td>0.851277</td>\n",
              "      <td>0.761905</td>\n",
              "      <td>0.859389</td>\n",
              "      <td>0.890580</td>\n",
              "      <td>0.875000</td>\n",
              "      <td>84.00</td>\n",
              "      <td>0.741559</td>\n",
              "      <td>0.324369</td>\n",
              "    </tr>\n",
              "    <tr>\n",
              "      <th>1</th>\n",
              "      <td>AUT</td>\n",
              "      <td>Austria</td>\n",
              "      <td>12.2</td>\n",
              "      <td>0.8</td>\n",
              "      <td>86.0</td>\n",
              "      <td>5.3</td>\n",
              "      <td>72.0</td>\n",
              "      <td>86.0</td>\n",
              "      <td>0.5</td>\n",
              "      <td>37001.0</td>\n",
              "      <td>...</td>\n",
              "      <td>0.624134</td>\n",
              "      <td>0.464477</td>\n",
              "      <td>0.840898</td>\n",
              "      <td>0.714286</td>\n",
              "      <td>0.684137</td>\n",
              "      <td>0.771014</td>\n",
              "      <td>0.354787</td>\n",
              "      <td>76.50</td>\n",
              "      <td>0.928323</td>\n",
              "      <td>0.489844</td>\n",
              "    </tr>\n",
              "    <tr>\n",
              "      <th>2</th>\n",
              "      <td>BEL</td>\n",
              "      <td>Belgium</td>\n",
              "      <td>12.8</td>\n",
              "      <td>0.7</td>\n",
              "      <td>80.0</td>\n",
              "      <td>4.3</td>\n",
              "      <td>65.0</td>\n",
              "      <td>56.0</td>\n",
              "      <td>1.1</td>\n",
              "      <td>34884.0</td>\n",
              "      <td>...</td>\n",
              "      <td>0.750226</td>\n",
              "      <td>0.519196</td>\n",
              "      <td>0.788661</td>\n",
              "      <td>0.619048</td>\n",
              "      <td>0.781322</td>\n",
              "      <td>0.577415</td>\n",
              "      <td>0.657447</td>\n",
              "      <td>78.05</td>\n",
              "      <td>0.634026</td>\n",
              "      <td>0.721511</td>\n",
              "    </tr>\n",
              "    <tr>\n",
              "      <th>3</th>\n",
              "      <td>BRA</td>\n",
              "      <td>Brazil</td>\n",
              "      <td>11.7</td>\n",
              "      <td>6.7</td>\n",
              "      <td>57.0</td>\n",
              "      <td>5.6</td>\n",
              "      <td>57.0</td>\n",
              "      <td>45.0</td>\n",
              "      <td>19.0</td>\n",
              "      <td>NaN</td>\n",
              "      <td>...</td>\n",
              "      <td>0.271123</td>\n",
              "      <td>0.000000</td>\n",
              "      <td>0.109756</td>\n",
              "      <td>0.285714</td>\n",
              "      <td>0.205451</td>\n",
              "      <td>0.476329</td>\n",
              "      <td>0.622340</td>\n",
              "      <td>37.95</td>\n",
              "      <td>0.193786</td>\n",
              "      <td>0.397770</td>\n",
              "    </tr>\n",
              "    <tr>\n",
              "      <th>4</th>\n",
              "      <td>CAN</td>\n",
              "      <td>Canada</td>\n",
              "      <td>7.1</td>\n",
              "      <td>0.2</td>\n",
              "      <td>92.0</td>\n",
              "      <td>3.3</td>\n",
              "      <td>70.0</td>\n",
              "      <td>78.0</td>\n",
              "      <td>1.2</td>\n",
              "      <td>34421.0</td>\n",
              "      <td>...</td>\n",
              "      <td>0.782920</td>\n",
              "      <td>0.531429</td>\n",
              "      <td>0.832153</td>\n",
              "      <td>0.761905</td>\n",
              "      <td>0.790656</td>\n",
              "      <td>0.854106</td>\n",
              "      <td>0.669681</td>\n",
              "      <td>85.55</td>\n",
              "      <td>0.839694</td>\n",
              "      <td>0.539677</td>\n",
              "    </tr>\n",
              "    <tr>\n",
              "      <th>5</th>\n",
              "      <td>CHE</td>\n",
              "      <td>Switzerland</td>\n",
              "      <td>10.1</td>\n",
              "      <td>0.0</td>\n",
              "      <td>89.0</td>\n",
              "      <td>0.4</td>\n",
              "      <td>80.0</td>\n",
              "      <td>86.0</td>\n",
              "      <td>0.3</td>\n",
              "      <td>39697.0</td>\n",
              "      <td>...</td>\n",
              "      <td>0.678314</td>\n",
              "      <td>0.363068</td>\n",
              "      <td>0.704775</td>\n",
              "      <td>0.809524</td>\n",
              "      <td>0.721523</td>\n",
              "      <td>0.872222</td>\n",
              "      <td>0.275000</td>\n",
              "      <td>82.50</td>\n",
              "      <td>0.932083</td>\n",
              "      <td>0.494424</td>\n",
              "    </tr>\n",
              "    <tr>\n",
              "      <th>6</th>\n",
              "      <td>CHL</td>\n",
              "      <td>Chile</td>\n",
              "      <td>23.4</td>\n",
              "      <td>9.4</td>\n",
              "      <td>67.0</td>\n",
              "      <td>7.7</td>\n",
              "      <td>56.0</td>\n",
              "      <td>41.0</td>\n",
              "      <td>2.4</td>\n",
              "      <td>NaN</td>\n",
              "      <td>...</td>\n",
              "      <td>0.669774</td>\n",
              "      <td>0.032800</td>\n",
              "      <td>0.330567</td>\n",
              "      <td>0.523810</td>\n",
              "      <td>0.424428</td>\n",
              "      <td>0.110870</td>\n",
              "      <td>0.046277</td>\n",
              "      <td>70.30</td>\n",
              "      <td>0.468081</td>\n",
              "      <td>0.358736</td>\n",
              "    </tr>\n",
              "    <tr>\n",
              "      <th>7</th>\n",
              "      <td>COL</td>\n",
              "      <td>Colombia</td>\n",
              "      <td>22.6</td>\n",
              "      <td>12.3</td>\n",
              "      <td>59.0</td>\n",
              "      <td>23.7</td>\n",
              "      <td>58.0</td>\n",
              "      <td>50.0</td>\n",
              "      <td>23.1</td>\n",
              "      <td>NaN</td>\n",
              "      <td>...</td>\n",
              "      <td>0.219127</td>\n",
              "      <td>0.000000</td>\n",
              "      <td>0.350491</td>\n",
              "      <td>0.142857</td>\n",
              "      <td>0.122791</td>\n",
              "      <td>0.406039</td>\n",
              "      <td>0.135106</td>\n",
              "      <td>78.35</td>\n",
              "      <td>0.163888</td>\n",
              "      <td>0.061338</td>\n",
              "    </tr>\n",
              "    <tr>\n",
              "      <th>8</th>\n",
              "      <td>CRI</td>\n",
              "      <td>Costa Rica</td>\n",
              "      <td>17.5</td>\n",
              "      <td>2.3</td>\n",
              "      <td>43.0</td>\n",
              "      <td>22.0</td>\n",
              "      <td>55.0</td>\n",
              "      <td>47.0</td>\n",
              "      <td>10.0</td>\n",
              "      <td>16517.0</td>\n",
              "      <td>...</td>\n",
              "      <td>0.626610</td>\n",
              "      <td>0.085855</td>\n",
              "      <td>0.326611</td>\n",
              "      <td>0.238095</td>\n",
              "      <td>0.045972</td>\n",
              "      <td>0.586353</td>\n",
              "      <td>0.373404</td>\n",
              "      <td>76.75</td>\n",
              "      <td>0.381827</td>\n",
              "      <td>0.092937</td>\n",
              "    </tr>\n",
              "    <tr>\n",
              "      <th>9</th>\n",
              "      <td>CZE</td>\n",
              "      <td>Czechia</td>\n",
              "      <td>17.0</td>\n",
              "      <td>0.5</td>\n",
              "      <td>94.0</td>\n",
              "      <td>4.5</td>\n",
              "      <td>74.0</td>\n",
              "      <td>77.0</td>\n",
              "      <td>0.7</td>\n",
              "      <td>26664.0</td>\n",
              "      <td>...</td>\n",
              "      <td>0.537844</td>\n",
              "      <td>0.207204</td>\n",
              "      <td>0.753548</td>\n",
              "      <td>0.904762</td>\n",
              "      <td>0.800589</td>\n",
              "      <td>0.625000</td>\n",
              "      <td>0.280851</td>\n",
              "      <td>70.65</td>\n",
              "      <td>0.839658</td>\n",
              "      <td>0.418216</td>\n",
              "    </tr>\n",
              "    <tr>\n",
              "      <th>10</th>\n",
              "      <td>DEU</td>\n",
              "      <td>Germany</td>\n",
              "      <td>12.0</td>\n",
              "      <td>0.1</td>\n",
              "      <td>86.0</td>\n",
              "      <td>3.9</td>\n",
              "      <td>77.0</td>\n",
              "      <td>76.0</td>\n",
              "      <td>0.4</td>\n",
              "      <td>38971.0</td>\n",
              "      <td>...</td>\n",
              "      <td>0.693297</td>\n",
              "      <td>0.484950</td>\n",
              "      <td>0.886535</td>\n",
              "      <td>0.619048</td>\n",
              "      <td>0.763502</td>\n",
              "      <td>0.761473</td>\n",
              "      <td>0.479787</td>\n",
              "      <td>73.70</td>\n",
              "      <td>0.835863</td>\n",
              "      <td>0.750043</td>\n",
              "    </tr>\n",
              "    <tr>\n",
              "      <th>11</th>\n",
              "      <td>DNK</td>\n",
              "      <td>Denmark</td>\n",
              "      <td>10.0</td>\n",
              "      <td>0.5</td>\n",
              "      <td>82.0</td>\n",
              "      <td>1.1</td>\n",
              "      <td>74.0</td>\n",
              "      <td>85.0</td>\n",
              "      <td>0.5</td>\n",
              "      <td>33774.0</td>\n",
              "      <td>...</td>\n",
              "      <td>0.623802</td>\n",
              "      <td>0.333200</td>\n",
              "      <td>0.857024</td>\n",
              "      <td>0.857143</td>\n",
              "      <td>0.796546</td>\n",
              "      <td>0.832729</td>\n",
              "      <td>0.625532</td>\n",
              "      <td>75.75</td>\n",
              "      <td>0.918889</td>\n",
              "      <td>0.481413</td>\n",
              "    </tr>\n",
              "    <tr>\n",
              "      <th>12</th>\n",
              "      <td>ESP</td>\n",
              "      <td>Spain</td>\n",
              "      <td>10.0</td>\n",
              "      <td>0.3</td>\n",
              "      <td>63.0</td>\n",
              "      <td>2.5</td>\n",
              "      <td>62.0</td>\n",
              "      <td>80.0</td>\n",
              "      <td>0.7</td>\n",
              "      <td>27155.0</td>\n",
              "      <td>...</td>\n",
              "      <td>0.667654</td>\n",
              "      <td>0.379733</td>\n",
              "      <td>0.493676</td>\n",
              "      <td>0.761905</td>\n",
              "      <td>0.354298</td>\n",
              "      <td>0.596618</td>\n",
              "      <td>0.437234</td>\n",
              "      <td>79.45</td>\n",
              "      <td>0.867960</td>\n",
              "      <td>0.803492</td>\n",
              "    </tr>\n",
              "    <tr>\n",
              "      <th>13</th>\n",
              "      <td>EST</td>\n",
              "      <td>Estonia</td>\n",
              "      <td>5.9</td>\n",
              "      <td>5.7</td>\n",
              "      <td>91.0</td>\n",
              "      <td>2.2</td>\n",
              "      <td>74.0</td>\n",
              "      <td>79.0</td>\n",
              "      <td>1.9</td>\n",
              "      <td>23784.0</td>\n",
              "      <td>...</td>\n",
              "      <td>0.699208</td>\n",
              "      <td>0.236215</td>\n",
              "      <td>0.711656</td>\n",
              "      <td>0.857143</td>\n",
              "      <td>0.863732</td>\n",
              "      <td>0.824638</td>\n",
              "      <td>0.577128</td>\n",
              "      <td>67.90</td>\n",
              "      <td>0.835970</td>\n",
              "      <td>0.646621</td>\n",
              "    </tr>\n",
              "    <tr>\n",
              "      <th>14</th>\n",
              "      <td>FIN</td>\n",
              "      <td>Finland</td>\n",
              "      <td>5.5</td>\n",
              "      <td>0.4</td>\n",
              "      <td>91.0</td>\n",
              "      <td>3.6</td>\n",
              "      <td>72.0</td>\n",
              "      <td>88.0</td>\n",
              "      <td>1.2</td>\n",
              "      <td>33471.0</td>\n",
              "      <td>...</td>\n",
              "      <td>0.629980</td>\n",
              "      <td>0.376082</td>\n",
              "      <td>0.811045</td>\n",
              "      <td>0.904762</td>\n",
              "      <td>0.948388</td>\n",
              "      <td>0.986111</td>\n",
              "      <td>0.505319</td>\n",
              "      <td>75.05</td>\n",
              "      <td>0.934033</td>\n",
              "      <td>0.660683</td>\n",
              "    </tr>\n",
              "    <tr>\n",
              "      <th>15</th>\n",
              "      <td>FRA</td>\n",
              "      <td>France</td>\n",
              "      <td>11.4</td>\n",
              "      <td>0.5</td>\n",
              "      <td>81.0</td>\n",
              "      <td>7.7</td>\n",
              "      <td>65.0</td>\n",
              "      <td>74.0</td>\n",
              "      <td>0.4</td>\n",
              "      <td>34375.0</td>\n",
              "      <td>...</td>\n",
              "      <td>0.671210</td>\n",
              "      <td>0.426692</td>\n",
              "      <td>0.730698</td>\n",
              "      <td>0.809524</td>\n",
              "      <td>0.660627</td>\n",
              "      <td>0.593961</td>\n",
              "      <td>0.544149</td>\n",
              "      <td>74.95</td>\n",
              "      <td>0.816995</td>\n",
              "      <td>0.801774</td>\n",
              "    </tr>\n",
              "    <tr>\n",
              "      <th>16</th>\n",
              "      <td>GBR</td>\n",
              "      <td>United Kingdom</td>\n",
              "      <td>10.1</td>\n",
              "      <td>0.5</td>\n",
              "      <td>82.0</td>\n",
              "      <td>10.8</td>\n",
              "      <td>75.0</td>\n",
              "      <td>78.0</td>\n",
              "      <td>0.2</td>\n",
              "      <td>33049.0</td>\n",
              "      <td>...</td>\n",
              "      <td>0.647260</td>\n",
              "      <td>0.541812</td>\n",
              "      <td>0.824555</td>\n",
              "      <td>0.761905</td>\n",
              "      <td>0.690726</td>\n",
              "      <td>0.677778</td>\n",
              "      <td>0.719681</td>\n",
              "      <td>77.15</td>\n",
              "      <td>0.858491</td>\n",
              "      <td>0.478330</td>\n",
              "    </tr>\n",
              "    <tr>\n",
              "      <th>17</th>\n",
              "      <td>GRC</td>\n",
              "      <td>Greece</td>\n",
              "      <td>14.5</td>\n",
              "      <td>0.4</td>\n",
              "      <td>76.0</td>\n",
              "      <td>4.5</td>\n",
              "      <td>56.0</td>\n",
              "      <td>69.0</td>\n",
              "      <td>1.0</td>\n",
              "      <td>20791.0</td>\n",
              "      <td>...</td>\n",
              "      <td>0.518268</td>\n",
              "      <td>0.177040</td>\n",
              "      <td>0.254441</td>\n",
              "      <td>0.047619</td>\n",
              "      <td>0.631826</td>\n",
              "      <td>0.373792</td>\n",
              "      <td>0.288298</td>\n",
              "      <td>80.35</td>\n",
              "      <td>0.758547</td>\n",
              "      <td>0.614418</td>\n",
              "    </tr>\n",
              "    <tr>\n",
              "      <th>18</th>\n",
              "      <td>HUN</td>\n",
              "      <td>Hungary</td>\n",
              "      <td>16.7</td>\n",
              "      <td>3.5</td>\n",
              "      <td>86.0</td>\n",
              "      <td>1.5</td>\n",
              "      <td>70.0</td>\n",
              "      <td>74.0</td>\n",
              "      <td>0.9</td>\n",
              "      <td>21026.0</td>\n",
              "      <td>...</td>\n",
              "      <td>0.581019</td>\n",
              "      <td>0.180995</td>\n",
              "      <td>0.681613</td>\n",
              "      <td>0.809524</td>\n",
              "      <td>0.596835</td>\n",
              "      <td>0.520411</td>\n",
              "      <td>0.265957</td>\n",
              "      <td>67.20</td>\n",
              "      <td>0.807597</td>\n",
              "      <td>0.680729</td>\n",
              "    </tr>\n",
              "    <tr>\n",
              "      <th>19</th>\n",
              "      <td>IRL</td>\n",
              "      <td>Ireland</td>\n",
              "      <td>7.8</td>\n",
              "      <td>0.2</td>\n",
              "      <td>85.0</td>\n",
              "      <td>4.7</td>\n",
              "      <td>68.0</td>\n",
              "      <td>76.0</td>\n",
              "      <td>0.5</td>\n",
              "      <td>29488.0</td>\n",
              "      <td>...</td>\n",
              "      <td>0.739121</td>\n",
              "      <td>0.409842</td>\n",
              "      <td>0.797079</td>\n",
              "      <td>0.904762</td>\n",
              "      <td>0.770440</td>\n",
              "      <td>0.700000</td>\n",
              "      <td>0.216489</td>\n",
              "      <td>83.40</td>\n",
              "      <td>0.833984</td>\n",
              "      <td>0.507325</td>\n",
              "    </tr>\n",
              "    <tr>\n",
              "      <th>20</th>\n",
              "      <td>ISL</td>\n",
              "      <td>Iceland</td>\n",
              "      <td>6.4</td>\n",
              "      <td>0.0</td>\n",
              "      <td>76.0</td>\n",
              "      <td>11.7</td>\n",
              "      <td>78.0</td>\n",
              "      <td>85.0</td>\n",
              "      <td>0.3</td>\n",
              "      <td>NaN</td>\n",
              "      <td>...</td>\n",
              "      <td>0.458333</td>\n",
              "      <td>0.000000</td>\n",
              "      <td>0.969075</td>\n",
              "      <td>1.000000</td>\n",
              "      <td>0.705900</td>\n",
              "      <td>0.966546</td>\n",
              "      <td>0.607979</td>\n",
              "      <td>80.10</td>\n",
              "      <td>0.922649</td>\n",
              "      <td>0.284387</td>\n",
              "    </tr>\n",
              "    <tr>\n",
              "      <th>21</th>\n",
              "      <td>ISR</td>\n",
              "      <td>Israel</td>\n",
              "      <td>19.7</td>\n",
              "      <td>NaN</td>\n",
              "      <td>88.0</td>\n",
              "      <td>14.1</td>\n",
              "      <td>67.0</td>\n",
              "      <td>80.0</td>\n",
              "      <td>1.5</td>\n",
              "      <td>NaN</td>\n",
              "      <td>...</td>\n",
              "      <td>0.041667</td>\n",
              "      <td>0.000000</td>\n",
              "      <td>0.733053</td>\n",
              "      <td>0.857143</td>\n",
              "      <td>0.572377</td>\n",
              "      <td>0.399638</td>\n",
              "      <td>0.559043</td>\n",
              "      <td>78.45</td>\n",
              "      <td>0.852922</td>\n",
              "      <td>0.239777</td>\n",
              "    </tr>\n",
              "    <tr>\n",
              "      <th>22</th>\n",
              "      <td>ITA</td>\n",
              "      <td>Italy</td>\n",
              "      <td>15.9</td>\n",
              "      <td>0.6</td>\n",
              "      <td>63.0</td>\n",
              "      <td>3.3</td>\n",
              "      <td>58.0</td>\n",
              "      <td>73.0</td>\n",
              "      <td>0.5</td>\n",
              "      <td>29431.0</td>\n",
              "      <td>...</td>\n",
              "      <td>0.539705</td>\n",
              "      <td>0.365467</td>\n",
              "      <td>0.558317</td>\n",
              "      <td>0.571429</td>\n",
              "      <td>0.502446</td>\n",
              "      <td>0.482246</td>\n",
              "      <td>0.622872</td>\n",
              "      <td>78.30</td>\n",
              "      <td>0.805682</td>\n",
              "      <td>0.940520</td>\n",
              "    </tr>\n",
              "    <tr>\n",
              "      <th>23</th>\n",
              "      <td>JPN</td>\n",
              "      <td>Japan</td>\n",
              "      <td>13.7</td>\n",
              "      <td>6.4</td>\n",
              "      <td>NaN</td>\n",
              "      <td>NaN</td>\n",
              "      <td>77.0</td>\n",
              "      <td>77.0</td>\n",
              "      <td>0.2</td>\n",
              "      <td>28872.0</td>\n",
              "      <td>...</td>\n",
              "      <td>0.608391</td>\n",
              "      <td>0.358616</td>\n",
              "      <td>0.804800</td>\n",
              "      <td>0.571429</td>\n",
              "      <td>0.428571</td>\n",
              "      <td>0.668961</td>\n",
              "      <td>0.135106</td>\n",
              "      <td>60.70</td>\n",
              "      <td>0.849057</td>\n",
              "      <td>0.000000</td>\n",
              "    </tr>\n",
              "    <tr>\n",
              "      <th>24</th>\n",
              "      <td>KOR</td>\n",
              "      <td>Korea</td>\n",
              "      <td>27.3</td>\n",
              "      <td>2.5</td>\n",
              "      <td>89.0</td>\n",
              "      <td>NaN</td>\n",
              "      <td>66.0</td>\n",
              "      <td>82.0</td>\n",
              "      <td>0.8</td>\n",
              "      <td>24590.0</td>\n",
              "      <td>...</td>\n",
              "      <td>0.747621</td>\n",
              "      <td>0.346625</td>\n",
              "      <td>0.762685</td>\n",
              "      <td>0.142857</td>\n",
              "      <td>0.779724</td>\n",
              "      <td>0.303865</td>\n",
              "      <td>0.765426</td>\n",
              "      <td>58.65</td>\n",
              "      <td>0.884948</td>\n",
              "      <td>0.154008</td>\n",
              "    </tr>\n",
              "    <tr>\n",
              "      <th>25</th>\n",
              "      <td>LTU</td>\n",
              "      <td>Lithuania</td>\n",
              "      <td>10.5</td>\n",
              "      <td>11.8</td>\n",
              "      <td>94.0</td>\n",
              "      <td>1.0</td>\n",
              "      <td>72.0</td>\n",
              "      <td>62.0</td>\n",
              "      <td>2.5</td>\n",
              "      <td>26976.0</td>\n",
              "      <td>...</td>\n",
              "      <td>0.564157</td>\n",
              "      <td>0.270566</td>\n",
              "      <td>0.489575</td>\n",
              "      <td>0.571429</td>\n",
              "      <td>0.760906</td>\n",
              "      <td>0.682971</td>\n",
              "      <td>0.427660</td>\n",
              "      <td>61.20</td>\n",
              "      <td>0.664314</td>\n",
              "      <td>0.483271</td>\n",
              "    </tr>\n",
              "    <tr>\n",
              "      <th>26</th>\n",
              "      <td>LUX</td>\n",
              "      <td>Luxembourg</td>\n",
              "      <td>10.0</td>\n",
              "      <td>0.1</td>\n",
              "      <td>74.0</td>\n",
              "      <td>2.8</td>\n",
              "      <td>67.0</td>\n",
              "      <td>87.0</td>\n",
              "      <td>0.2</td>\n",
              "      <td>44773.0</td>\n",
              "      <td>...</td>\n",
              "      <td>0.716591</td>\n",
              "      <td>0.923772</td>\n",
              "      <td>0.865858</td>\n",
              "      <td>0.666667</td>\n",
              "      <td>0.460517</td>\n",
              "      <td>0.721618</td>\n",
              "      <td>0.603723</td>\n",
              "      <td>77.35</td>\n",
              "      <td>0.943396</td>\n",
              "      <td>0.449814</td>\n",
              "    </tr>\n",
              "    <tr>\n",
              "      <th>27</th>\n",
              "      <td>LVA</td>\n",
              "      <td>Latvia</td>\n",
              "      <td>12.7</td>\n",
              "      <td>11.2</td>\n",
              "      <td>89.0</td>\n",
              "      <td>1.6</td>\n",
              "      <td>72.0</td>\n",
              "      <td>72.0</td>\n",
              "      <td>3.7</td>\n",
              "      <td>19783.0</td>\n",
              "      <td>...</td>\n",
              "      <td>0.444236</td>\n",
              "      <td>0.124913</td>\n",
              "      <td>0.670655</td>\n",
              "      <td>0.714286</td>\n",
              "      <td>0.747978</td>\n",
              "      <td>0.635145</td>\n",
              "      <td>0.356383</td>\n",
              "      <td>61.25</td>\n",
              "      <td>0.736097</td>\n",
              "      <td>0.472119</td>\n",
              "    </tr>\n",
              "    <tr>\n",
              "      <th>28</th>\n",
              "      <td>MEX</td>\n",
              "      <td>Mexico</td>\n",
              "      <td>20.3</td>\n",
              "      <td>25.9</td>\n",
              "      <td>42.0</td>\n",
              "      <td>27.0</td>\n",
              "      <td>59.0</td>\n",
              "      <td>42.0</td>\n",
              "      <td>26.8</td>\n",
              "      <td>16269.0</td>\n",
              "      <td>...</td>\n",
              "      <td>0.365652</td>\n",
              "      <td>0.082889</td>\n",
              "      <td>0.584323</td>\n",
              "      <td>0.000000</td>\n",
              "      <td>0.097884</td>\n",
              "      <td>0.358816</td>\n",
              "      <td>0.691489</td>\n",
              "      <td>70.55</td>\n",
              "      <td>0.018868</td>\n",
              "      <td>0.000000</td>\n",
              "    </tr>\n",
              "    <tr>\n",
              "      <th>29</th>\n",
              "      <td>NLD</td>\n",
              "      <td>Netherlands</td>\n",
              "      <td>12.2</td>\n",
              "      <td>0.1</td>\n",
              "      <td>81.0</td>\n",
              "      <td>0.3</td>\n",
              "      <td>78.0</td>\n",
              "      <td>83.0</td>\n",
              "      <td>0.6</td>\n",
              "      <td>34984.0</td>\n",
              "      <td>...</td>\n",
              "      <td>0.745463</td>\n",
              "      <td>0.404947</td>\n",
              "      <td>0.907441</td>\n",
              "      <td>0.809524</td>\n",
              "      <td>0.792902</td>\n",
              "      <td>0.757126</td>\n",
              "      <td>0.711702</td>\n",
              "      <td>78.60</td>\n",
              "      <td>0.898142</td>\n",
              "      <td>0.781093</td>\n",
              "    </tr>\n",
              "    <tr>\n",
              "      <th>30</th>\n",
              "      <td>NOR</td>\n",
              "      <td>Norway</td>\n",
              "      <td>6.7</td>\n",
              "      <td>0.0</td>\n",
              "      <td>82.0</td>\n",
              "      <td>1.4</td>\n",
              "      <td>75.0</td>\n",
              "      <td>93.0</td>\n",
              "      <td>0.6</td>\n",
              "      <td>39144.0</td>\n",
              "      <td>...</td>\n",
              "      <td>0.817093</td>\n",
              "      <td>0.466159</td>\n",
              "      <td>0.871191</td>\n",
              "      <td>0.904762</td>\n",
              "      <td>0.730408</td>\n",
              "      <td>0.973913</td>\n",
              "      <td>0.601064</td>\n",
              "      <td>79.00</td>\n",
              "      <td>0.992481</td>\n",
              "      <td>0.807060</td>\n",
              "    </tr>\n",
              "    <tr>\n",
              "      <th>31</th>\n",
              "      <td>NZL</td>\n",
              "      <td>New Zealand</td>\n",
              "      <td>6.0</td>\n",
              "      <td>NaN</td>\n",
              "      <td>81.0</td>\n",
              "      <td>14.0</td>\n",
              "      <td>77.0</td>\n",
              "      <td>66.0</td>\n",
              "      <td>1.3</td>\n",
              "      <td>39024.0</td>\n",
              "      <td>...</td>\n",
              "      <td>0.354659</td>\n",
              "      <td>0.607316</td>\n",
              "      <td>0.820409</td>\n",
              "      <td>0.857143</td>\n",
              "      <td>0.739992</td>\n",
              "      <td>0.808575</td>\n",
              "      <td>0.718617</td>\n",
              "      <td>84.05</td>\n",
              "      <td>0.724606</td>\n",
              "      <td>0.404083</td>\n",
              "    </tr>\n",
              "    <tr>\n",
              "      <th>32</th>\n",
              "      <td>POL</td>\n",
              "      <td>Poland</td>\n",
              "      <td>22.8</td>\n",
              "      <td>2.3</td>\n",
              "      <td>93.0</td>\n",
              "      <td>4.2</td>\n",
              "      <td>69.0</td>\n",
              "      <td>71.0</td>\n",
              "      <td>0.5</td>\n",
              "      <td>23675.0</td>\n",
              "      <td>...</td>\n",
              "      <td>0.495541</td>\n",
              "      <td>0.260780</td>\n",
              "      <td>0.702876</td>\n",
              "      <td>0.809524</td>\n",
              "      <td>0.841919</td>\n",
              "      <td>0.401691</td>\n",
              "      <td>0.594681</td>\n",
              "      <td>69.00</td>\n",
              "      <td>0.786814</td>\n",
              "      <td>0.546155</td>\n",
              "    </tr>\n",
              "    <tr>\n",
              "      <th>33</th>\n",
              "      <td>PRT</td>\n",
              "      <td>Portugal</td>\n",
              "      <td>8.3</td>\n",
              "      <td>0.9</td>\n",
              "      <td>55.0</td>\n",
              "      <td>5.6</td>\n",
              "      <td>69.0</td>\n",
              "      <td>83.0</td>\n",
              "      <td>0.7</td>\n",
              "      <td>24877.0</td>\n",
              "      <td>...</td>\n",
              "      <td>0.675535</td>\n",
              "      <td>0.287965</td>\n",
              "      <td>0.622333</td>\n",
              "      <td>0.476190</td>\n",
              "      <td>0.491814</td>\n",
              "      <td>0.814130</td>\n",
              "      <td>0.117553</td>\n",
              "      <td>65.90</td>\n",
              "      <td>0.896262</td>\n",
              "      <td>0.397770</td>\n",
              "    </tr>\n",
              "    <tr>\n",
              "      <th>34</th>\n",
              "      <td>RUS</td>\n",
              "      <td>Russia</td>\n",
              "      <td>11.8</td>\n",
              "      <td>13.8</td>\n",
              "      <td>95.0</td>\n",
              "      <td>0.1</td>\n",
              "      <td>70.0</td>\n",
              "      <td>64.0</td>\n",
              "      <td>4.8</td>\n",
              "      <td>19546.0</td>\n",
              "      <td>...</td>\n",
              "      <td>0.467667</td>\n",
              "      <td>0.122079</td>\n",
              "      <td>0.423661</td>\n",
              "      <td>0.571429</td>\n",
              "      <td>0.658730</td>\n",
              "      <td>0.363043</td>\n",
              "      <td>0.244681</td>\n",
              "      <td>58.10</td>\n",
              "      <td>0.639949</td>\n",
              "      <td>0.500000</td>\n",
              "    </tr>\n",
              "    <tr>\n",
              "      <th>35</th>\n",
              "      <td>SVK</td>\n",
              "      <td>Slovak Republic</td>\n",
              "      <td>18.5</td>\n",
              "      <td>1.5</td>\n",
              "      <td>92.0</td>\n",
              "      <td>4.2</td>\n",
              "      <td>68.0</td>\n",
              "      <td>76.0</td>\n",
              "      <td>0.8</td>\n",
              "      <td>21149.0</td>\n",
              "      <td>...</td>\n",
              "      <td>0.340239</td>\n",
              "      <td>0.194723</td>\n",
              "      <td>0.575474</td>\n",
              "      <td>0.857143</td>\n",
              "      <td>0.608116</td>\n",
              "      <td>0.481280</td>\n",
              "      <td>0.673404</td>\n",
              "      <td>71.40</td>\n",
              "      <td>0.828344</td>\n",
              "      <td>0.423792</td>\n",
              "    </tr>\n",
              "    <tr>\n",
              "      <th>36</th>\n",
              "      <td>SVN</td>\n",
              "      <td>Slovenia</td>\n",
              "      <td>17.0</td>\n",
              "      <td>0.2</td>\n",
              "      <td>90.0</td>\n",
              "      <td>5.6</td>\n",
              "      <td>71.0</td>\n",
              "      <td>91.0</td>\n",
              "      <td>0.4</td>\n",
              "      <td>25250.0</td>\n",
              "      <td>...</td>\n",
              "      <td>0.697946</td>\n",
              "      <td>0.279653</td>\n",
              "      <td>0.727983</td>\n",
              "      <td>0.857143</td>\n",
              "      <td>0.799241</td>\n",
              "      <td>0.680556</td>\n",
              "      <td>0.410106</td>\n",
              "      <td>74.30</td>\n",
              "      <td>0.977373</td>\n",
              "      <td>0.397770</td>\n",
              "    </tr>\n",
              "    <tr>\n",
              "      <th>37</th>\n",
              "      <td>SWE</td>\n",
              "      <td>Sweden</td>\n",
              "      <td>5.8</td>\n",
              "      <td>0.0</td>\n",
              "      <td>84.0</td>\n",
              "      <td>0.9</td>\n",
              "      <td>75.0</td>\n",
              "      <td>79.0</td>\n",
              "      <td>1.1</td>\n",
              "      <td>33730.0</td>\n",
              "      <td>...</td>\n",
              "      <td>0.670768</td>\n",
              "      <td>0.291708</td>\n",
              "      <td>0.809276</td>\n",
              "      <td>0.809524</td>\n",
              "      <td>0.869971</td>\n",
              "      <td>0.979589</td>\n",
              "      <td>0.646809</td>\n",
              "      <td>79.60</td>\n",
              "      <td>0.851007</td>\n",
              "      <td>0.485130</td>\n",
              "    </tr>\n",
              "    <tr>\n",
              "      <th>38</th>\n",
              "      <td>TUR</td>\n",
              "      <td>Türkiye</td>\n",
              "      <td>27.1</td>\n",
              "      <td>4.9</td>\n",
              "      <td>42.0</td>\n",
              "      <td>25.0</td>\n",
              "      <td>48.0</td>\n",
              "      <td>59.0</td>\n",
              "      <td>1.0</td>\n",
              "      <td>NaN</td>\n",
              "      <td>...</td>\n",
              "      <td>0.510934</td>\n",
              "      <td>0.000000</td>\n",
              "      <td>0.363861</td>\n",
              "      <td>0.380952</td>\n",
              "      <td>0.441799</td>\n",
              "      <td>0.030435</td>\n",
              "      <td>0.511170</td>\n",
              "      <td>72.80</td>\n",
              "      <td>0.664208</td>\n",
              "      <td>0.144770</td>\n",
              "    </tr>\n",
              "    <tr>\n",
              "      <th>39</th>\n",
              "      <td>USA</td>\n",
              "      <td>United States</td>\n",
              "      <td>7.7</td>\n",
              "      <td>0.1</td>\n",
              "      <td>92.0</td>\n",
              "      <td>10.4</td>\n",
              "      <td>67.0</td>\n",
              "      <td>78.0</td>\n",
              "      <td>6.0</td>\n",
              "      <td>51147.0</td>\n",
              "      <td>...</td>\n",
              "      <td>0.862917</td>\n",
              "      <td>0.851110</td>\n",
              "      <td>0.875101</td>\n",
              "      <td>0.809524</td>\n",
              "      <td>0.732455</td>\n",
              "      <td>0.813285</td>\n",
              "      <td>0.687766</td>\n",
              "      <td>83.45</td>\n",
              "      <td>0.749468</td>\n",
              "      <td>0.407706</td>\n",
              "    </tr>\n",
              "    <tr>\n",
              "      <th>40</th>\n",
              "      <td>ZAF</td>\n",
              "      <td>South Africa</td>\n",
              "      <td>28.5</td>\n",
              "      <td>35.9</td>\n",
              "      <td>48.0</td>\n",
              "      <td>15.4</td>\n",
              "      <td>39.0</td>\n",
              "      <td>40.0</td>\n",
              "      <td>13.7</td>\n",
              "      <td>9338.0</td>\n",
              "      <td>...</td>\n",
              "      <td>0.244094</td>\n",
              "      <td>0.000000</td>\n",
              "      <td>0.000000</td>\n",
              "      <td>0.571429</td>\n",
              "      <td>0.037736</td>\n",
              "      <td>0.138889</td>\n",
              "      <td>0.223404</td>\n",
              "      <td>32.10</td>\n",
              "      <td>0.246241</td>\n",
              "      <td>0.215613</td>\n",
              "    </tr>\n",
              "  </tbody>\n",
              "</table>\n",
              "<p>41 rows × 39 columns</p>\n",
              "</div>"
            ],
            "text/plain": [
              "   LOCATION          Country  Air pollution  \\\n",
              "0       AUS        Australia            6.7   \n",
              "1       AUT          Austria           12.2   \n",
              "2       BEL          Belgium           12.8   \n",
              "3       BRA           Brazil           11.7   \n",
              "4       CAN           Canada            7.1   \n",
              "5       CHE      Switzerland           10.1   \n",
              "6       CHL            Chile           23.4   \n",
              "7       COL         Colombia           22.6   \n",
              "8       CRI       Costa Rica           17.5   \n",
              "9       CZE          Czechia           17.0   \n",
              "10      DEU          Germany           12.0   \n",
              "11      DNK          Denmark           10.0   \n",
              "12      ESP            Spain           10.0   \n",
              "13      EST          Estonia            5.9   \n",
              "14      FIN          Finland            5.5   \n",
              "15      FRA           France           11.4   \n",
              "16      GBR   United Kingdom           10.1   \n",
              "17      GRC           Greece           14.5   \n",
              "18      HUN          Hungary           16.7   \n",
              "19      IRL          Ireland            7.8   \n",
              "20      ISL          Iceland            6.4   \n",
              "21      ISR           Israel           19.7   \n",
              "22      ITA            Italy           15.9   \n",
              "23      JPN            Japan           13.7   \n",
              "24      KOR            Korea           27.3   \n",
              "25      LTU        Lithuania           10.5   \n",
              "26      LUX       Luxembourg           10.0   \n",
              "27      LVA           Latvia           12.7   \n",
              "28      MEX           Mexico           20.3   \n",
              "29      NLD      Netherlands           12.2   \n",
              "30      NOR           Norway            6.7   \n",
              "31      NZL      New Zealand            6.0   \n",
              "32      POL           Poland           22.8   \n",
              "33      PRT         Portugal            8.3   \n",
              "34      RUS           Russia           11.8   \n",
              "35      SVK  Slovak Republic           18.5   \n",
              "36      SVN         Slovenia           17.0   \n",
              "37      SWE           Sweden            5.8   \n",
              "38      TUR          Türkiye           27.1   \n",
              "39      USA    United States            7.7   \n",
              "40      ZAF     South Africa           28.5   \n",
              "\n",
              "    Dwellings without basic facilities  Educational attainment  \\\n",
              "0                                  NaN                    84.0   \n",
              "1                                  0.8                    86.0   \n",
              "2                                  0.7                    80.0   \n",
              "3                                  6.7                    57.0   \n",
              "4                                  0.2                    92.0   \n",
              "5                                  0.0                    89.0   \n",
              "6                                  9.4                    67.0   \n",
              "7                                 12.3                    59.0   \n",
              "8                                  2.3                    43.0   \n",
              "9                                  0.5                    94.0   \n",
              "10                                 0.1                    86.0   \n",
              "11                                 0.5                    82.0   \n",
              "12                                 0.3                    63.0   \n",
              "13                                 5.7                    91.0   \n",
              "14                                 0.4                    91.0   \n",
              "15                                 0.5                    81.0   \n",
              "16                                 0.5                    82.0   \n",
              "17                                 0.4                    76.0   \n",
              "18                                 3.5                    86.0   \n",
              "19                                 0.2                    85.0   \n",
              "20                                 0.0                    76.0   \n",
              "21                                 NaN                    88.0   \n",
              "22                                 0.6                    63.0   \n",
              "23                                 6.4                     NaN   \n",
              "24                                 2.5                    89.0   \n",
              "25                                11.8                    94.0   \n",
              "26                                 0.1                    74.0   \n",
              "27                                11.2                    89.0   \n",
              "28                                25.9                    42.0   \n",
              "29                                 0.1                    81.0   \n",
              "30                                 0.0                    82.0   \n",
              "31                                 NaN                    81.0   \n",
              "32                                 2.3                    93.0   \n",
              "33                                 0.9                    55.0   \n",
              "34                                13.8                    95.0   \n",
              "35                                 1.5                    92.0   \n",
              "36                                 0.2                    90.0   \n",
              "37                                 0.0                    84.0   \n",
              "38                                 4.9                    42.0   \n",
              "39                                 0.1                    92.0   \n",
              "40                                35.9                    48.0   \n",
              "\n",
              "    Employees working very long hours  Employment rate  \\\n",
              "0                                12.5             73.0   \n",
              "1                                 5.3             72.0   \n",
              "2                                 4.3             65.0   \n",
              "3                                 5.6             57.0   \n",
              "4                                 3.3             70.0   \n",
              "5                                 0.4             80.0   \n",
              "6                                 7.7             56.0   \n",
              "7                                23.7             58.0   \n",
              "8                                22.0             55.0   \n",
              "9                                 4.5             74.0   \n",
              "10                                3.9             77.0   \n",
              "11                                1.1             74.0   \n",
              "12                                2.5             62.0   \n",
              "13                                2.2             74.0   \n",
              "14                                3.6             72.0   \n",
              "15                                7.7             65.0   \n",
              "16                               10.8             75.0   \n",
              "17                                4.5             56.0   \n",
              "18                                1.5             70.0   \n",
              "19                                4.7             68.0   \n",
              "20                               11.7             78.0   \n",
              "21                               14.1             67.0   \n",
              "22                                3.3             58.0   \n",
              "23                                NaN             77.0   \n",
              "24                                NaN             66.0   \n",
              "25                                1.0             72.0   \n",
              "26                                2.8             67.0   \n",
              "27                                1.6             72.0   \n",
              "28                               27.0             59.0   \n",
              "29                                0.3             78.0   \n",
              "30                                1.4             75.0   \n",
              "31                               14.0             77.0   \n",
              "32                                4.2             69.0   \n",
              "33                                5.6             69.0   \n",
              "34                                0.1             70.0   \n",
              "35                                4.2             68.0   \n",
              "36                                5.6             71.0   \n",
              "37                                0.9             75.0   \n",
              "38                               25.0             48.0   \n",
              "39                               10.4             67.0   \n",
              "40                               15.4             39.0   \n",
              "\n",
              "    Feeling safe walking alone at night  Homicide rate  \\\n",
              "0                                  67.0            0.9   \n",
              "1                                  86.0            0.5   \n",
              "2                                  56.0            1.1   \n",
              "3                                  45.0           19.0   \n",
              "4                                  78.0            1.2   \n",
              "5                                  86.0            0.3   \n",
              "6                                  41.0            2.4   \n",
              "7                                  50.0           23.1   \n",
              "8                                  47.0           10.0   \n",
              "9                                  77.0            0.7   \n",
              "10                                 76.0            0.4   \n",
              "11                                 85.0            0.5   \n",
              "12                                 80.0            0.7   \n",
              "13                                 79.0            1.9   \n",
              "14                                 88.0            1.2   \n",
              "15                                 74.0            0.4   \n",
              "16                                 78.0            0.2   \n",
              "17                                 69.0            1.0   \n",
              "18                                 74.0            0.9   \n",
              "19                                 76.0            0.5   \n",
              "20                                 85.0            0.3   \n",
              "21                                 80.0            1.5   \n",
              "22                                 73.0            0.5   \n",
              "23                                 77.0            0.2   \n",
              "24                                 82.0            0.8   \n",
              "25                                 62.0            2.5   \n",
              "26                                 87.0            0.2   \n",
              "27                                 72.0            3.7   \n",
              "28                                 42.0           26.8   \n",
              "29                                 83.0            0.6   \n",
              "30                                 93.0            0.6   \n",
              "31                                 66.0            1.3   \n",
              "32                                 71.0            0.5   \n",
              "33                                 83.0            0.7   \n",
              "34                                 64.0            4.8   \n",
              "35                                 76.0            0.8   \n",
              "36                                 91.0            0.4   \n",
              "37                                 79.0            1.1   \n",
              "38                                 59.0            1.0   \n",
              "39                                 78.0            6.0   \n",
              "40                                 40.0           13.7   \n",
              "\n",
              "    Household net adjusted disposable income  ...   Housing    Income  \\\n",
              "0                                    37433.0  ...  0.209974  0.596762   \n",
              "1                                    37001.0  ...  0.624134  0.464477   \n",
              "2                                    34884.0  ...  0.750226  0.519196   \n",
              "3                                        NaN  ...  0.271123  0.000000   \n",
              "4                                    34421.0  ...  0.782920  0.531429   \n",
              "5                                    39697.0  ...  0.678314  0.363068   \n",
              "6                                        NaN  ...  0.669774  0.032800   \n",
              "7                                        NaN  ...  0.219127  0.000000   \n",
              "8                                    16517.0  ...  0.626610  0.085855   \n",
              "9                                    26664.0  ...  0.537844  0.207204   \n",
              "10                                   38971.0  ...  0.693297  0.484950   \n",
              "11                                   33774.0  ...  0.623802  0.333200   \n",
              "12                                   27155.0  ...  0.667654  0.379733   \n",
              "13                                   23784.0  ...  0.699208  0.236215   \n",
              "14                                   33471.0  ...  0.629980  0.376082   \n",
              "15                                   34375.0  ...  0.671210  0.426692   \n",
              "16                                   33049.0  ...  0.647260  0.541812   \n",
              "17                                   20791.0  ...  0.518268  0.177040   \n",
              "18                                   21026.0  ...  0.581019  0.180995   \n",
              "19                                   29488.0  ...  0.739121  0.409842   \n",
              "20                                       NaN  ...  0.458333  0.000000   \n",
              "21                                       NaN  ...  0.041667  0.000000   \n",
              "22                                   29431.0  ...  0.539705  0.365467   \n",
              "23                                   28872.0  ...  0.608391  0.358616   \n",
              "24                                   24590.0  ...  0.747621  0.346625   \n",
              "25                                   26976.0  ...  0.564157  0.270566   \n",
              "26                                   44773.0  ...  0.716591  0.923772   \n",
              "27                                   19783.0  ...  0.444236  0.124913   \n",
              "28                                   16269.0  ...  0.365652  0.082889   \n",
              "29                                   34984.0  ...  0.745463  0.404947   \n",
              "30                                   39144.0  ...  0.817093  0.466159   \n",
              "31                                   39024.0  ...  0.354659  0.607316   \n",
              "32                                   23675.0  ...  0.495541  0.260780   \n",
              "33                                   24877.0  ...  0.675535  0.287965   \n",
              "34                                   19546.0  ...  0.467667  0.122079   \n",
              "35                                   21149.0  ...  0.340239  0.194723   \n",
              "36                                   25250.0  ...  0.697946  0.279653   \n",
              "37                                   33730.0  ...  0.670768  0.291708   \n",
              "38                                       NaN  ...  0.510934  0.000000   \n",
              "39                                   51147.0  ...  0.862917  0.851110   \n",
              "40                                    9338.0  ...  0.244094  0.000000   \n",
              "\n",
              "        Jobs  Community  Education  Environment  Civic engagement  Health  \\\n",
              "0   0.851277   0.761905   0.859389     0.890580          0.875000   84.00   \n",
              "1   0.840898   0.714286   0.684137     0.771014          0.354787   76.50   \n",
              "2   0.788661   0.619048   0.781322     0.577415          0.657447   78.05   \n",
              "3   0.109756   0.285714   0.205451     0.476329          0.622340   37.95   \n",
              "4   0.832153   0.761905   0.790656     0.854106          0.669681   85.55   \n",
              "5   0.704775   0.809524   0.721523     0.872222          0.275000   82.50   \n",
              "6   0.330567   0.523810   0.424428     0.110870          0.046277   70.30   \n",
              "7   0.350491   0.142857   0.122791     0.406039          0.135106   78.35   \n",
              "8   0.326611   0.238095   0.045972     0.586353          0.373404   76.75   \n",
              "9   0.753548   0.904762   0.800589     0.625000          0.280851   70.65   \n",
              "10  0.886535   0.619048   0.763502     0.761473          0.479787   73.70   \n",
              "11  0.857024   0.857143   0.796546     0.832729          0.625532   75.75   \n",
              "12  0.493676   0.761905   0.354298     0.596618          0.437234   79.45   \n",
              "13  0.711656   0.857143   0.863732     0.824638          0.577128   67.90   \n",
              "14  0.811045   0.904762   0.948388     0.986111          0.505319   75.05   \n",
              "15  0.730698   0.809524   0.660627     0.593961          0.544149   74.95   \n",
              "16  0.824555   0.761905   0.690726     0.677778          0.719681   77.15   \n",
              "17  0.254441   0.047619   0.631826     0.373792          0.288298   80.35   \n",
              "18  0.681613   0.809524   0.596835     0.520411          0.265957   67.20   \n",
              "19  0.797079   0.904762   0.770440     0.700000          0.216489   83.40   \n",
              "20  0.969075   1.000000   0.705900     0.966546          0.607979   80.10   \n",
              "21  0.733053   0.857143   0.572377     0.399638          0.559043   78.45   \n",
              "22  0.558317   0.571429   0.502446     0.482246          0.622872   78.30   \n",
              "23  0.804800   0.571429   0.428571     0.668961          0.135106   60.70   \n",
              "24  0.762685   0.142857   0.779724     0.303865          0.765426   58.65   \n",
              "25  0.489575   0.571429   0.760906     0.682971          0.427660   61.20   \n",
              "26  0.865858   0.666667   0.460517     0.721618          0.603723   77.35   \n",
              "27  0.670655   0.714286   0.747978     0.635145          0.356383   61.25   \n",
              "28  0.584323   0.000000   0.097884     0.358816          0.691489   70.55   \n",
              "29  0.907441   0.809524   0.792902     0.757126          0.711702   78.60   \n",
              "30  0.871191   0.904762   0.730408     0.973913          0.601064   79.00   \n",
              "31  0.820409   0.857143   0.739992     0.808575          0.718617   84.05   \n",
              "32  0.702876   0.809524   0.841919     0.401691          0.594681   69.00   \n",
              "33  0.622333   0.476190   0.491814     0.814130          0.117553   65.90   \n",
              "34  0.423661   0.571429   0.658730     0.363043          0.244681   58.10   \n",
              "35  0.575474   0.857143   0.608116     0.481280          0.673404   71.40   \n",
              "36  0.727983   0.857143   0.799241     0.680556          0.410106   74.30   \n",
              "37  0.809276   0.809524   0.869971     0.979589          0.646809   79.60   \n",
              "38  0.363861   0.380952   0.441799     0.030435          0.511170   72.80   \n",
              "39  0.875101   0.809524   0.732455     0.813285          0.687766   83.45   \n",
              "40  0.000000   0.571429   0.037736     0.138889          0.223404   32.10   \n",
              "\n",
              "      Safety  Work Life Balance  \n",
              "0   0.741559           0.324369  \n",
              "1   0.928323           0.489844  \n",
              "2   0.634026           0.721511  \n",
              "3   0.193786           0.397770  \n",
              "4   0.839694           0.539677  \n",
              "5   0.932083           0.494424  \n",
              "6   0.468081           0.358736  \n",
              "7   0.163888           0.061338  \n",
              "8   0.381827           0.092937  \n",
              "9   0.839658           0.418216  \n",
              "10  0.835863           0.750043  \n",
              "11  0.918889           0.481413  \n",
              "12  0.867960           0.803492  \n",
              "13  0.835970           0.646621  \n",
              "14  0.934033           0.660683  \n",
              "15  0.816995           0.801774  \n",
              "16  0.858491           0.478330  \n",
              "17  0.758547           0.614418  \n",
              "18  0.807597           0.680729  \n",
              "19  0.833984           0.507325  \n",
              "20  0.922649           0.284387  \n",
              "21  0.852922           0.239777  \n",
              "22  0.805682           0.940520  \n",
              "23  0.849057           0.000000  \n",
              "24  0.884948           0.154008  \n",
              "25  0.664314           0.483271  \n",
              "26  0.943396           0.449814  \n",
              "27  0.736097           0.472119  \n",
              "28  0.018868           0.000000  \n",
              "29  0.898142           0.781093  \n",
              "30  0.992481           0.807060  \n",
              "31  0.724606           0.404083  \n",
              "32  0.786814           0.546155  \n",
              "33  0.896262           0.397770  \n",
              "34  0.639949           0.500000  \n",
              "35  0.828344           0.423792  \n",
              "36  0.977373           0.397770  \n",
              "37  0.851007           0.485130  \n",
              "38  0.664208           0.144770  \n",
              "39  0.749468           0.407706  \n",
              "40  0.246241           0.215613  \n",
              "\n",
              "[41 rows x 39 columns]"
            ]
          },
          "execution_count": 23,
          "metadata": {},
          "output_type": "execute_result"
        }
      ],
      "source": [
        "Final"
      ]
    },
    {
      "cell_type": "code",
      "execution_count": 24,
      "metadata": {
        "colab": {
          "base_uri": "https://localhost:8080/",
          "height": 533
        },
        "id": "wlbKdSqnYB9z",
        "outputId": "0b0be246-220c-4642-94f2-227430641b11"
      },
      "outputs": [
        {
          "data": {
            "text/html": [
              "<div>\n",
              "<style scoped>\n",
              "    .dataframe tbody tr th:only-of-type {\n",
              "        vertical-align: middle;\n",
              "    }\n",
              "\n",
              "    .dataframe tbody tr th {\n",
              "        vertical-align: top;\n",
              "    }\n",
              "\n",
              "    .dataframe thead th {\n",
              "        text-align: right;\n",
              "    }\n",
              "</style>\n",
              "<table border=\"1\" class=\"dataframe\">\n",
              "  <thead>\n",
              "    <tr style=\"text-align: right;\">\n",
              "      <th></th>\n",
              "      <th>LOCATION</th>\n",
              "      <th>Country</th>\n",
              "      <th>Air pollution</th>\n",
              "      <th>Dwellings without basic facilities</th>\n",
              "      <th>Educational attainment</th>\n",
              "      <th>Employees working very long hours</th>\n",
              "      <th>Employment rate</th>\n",
              "      <th>Feeling safe walking alone at night</th>\n",
              "      <th>Homicide rate</th>\n",
              "      <th>Household net adjusted disposable income</th>\n",
              "      <th>...</th>\n",
              "      <th>Housing</th>\n",
              "      <th>Income</th>\n",
              "      <th>Jobs</th>\n",
              "      <th>Community</th>\n",
              "      <th>Education</th>\n",
              "      <th>Environment</th>\n",
              "      <th>Civic engagement</th>\n",
              "      <th>Health</th>\n",
              "      <th>Safety</th>\n",
              "      <th>Work Life Balance</th>\n",
              "    </tr>\n",
              "  </thead>\n",
              "  <tbody>\n",
              "    <tr>\n",
              "      <th>0</th>\n",
              "      <td>AUS</td>\n",
              "      <td>Australia</td>\n",
              "      <td>6.7</td>\n",
              "      <td>NaN</td>\n",
              "      <td>84.0</td>\n",
              "      <td>12.5</td>\n",
              "      <td>73.0</td>\n",
              "      <td>67.0</td>\n",
              "      <td>0.9</td>\n",
              "      <td>37433.0</td>\n",
              "      <td>...</td>\n",
              "      <td>0.209974</td>\n",
              "      <td>0.596762</td>\n",
              "      <td>0.851277</td>\n",
              "      <td>0.761905</td>\n",
              "      <td>0.859389</td>\n",
              "      <td>0.890580</td>\n",
              "      <td>0.875000</td>\n",
              "      <td>84.00</td>\n",
              "      <td>0.741559</td>\n",
              "      <td>0.324369</td>\n",
              "    </tr>\n",
              "    <tr>\n",
              "      <th>24</th>\n",
              "      <td>KOR</td>\n",
              "      <td>Korea</td>\n",
              "      <td>27.3</td>\n",
              "      <td>2.5</td>\n",
              "      <td>89.0</td>\n",
              "      <td>NaN</td>\n",
              "      <td>66.0</td>\n",
              "      <td>82.0</td>\n",
              "      <td>0.8</td>\n",
              "      <td>24590.0</td>\n",
              "      <td>...</td>\n",
              "      <td>0.747621</td>\n",
              "      <td>0.346625</td>\n",
              "      <td>0.762685</td>\n",
              "      <td>0.142857</td>\n",
              "      <td>0.779724</td>\n",
              "      <td>0.303865</td>\n",
              "      <td>0.765426</td>\n",
              "      <td>58.65</td>\n",
              "      <td>0.884948</td>\n",
              "      <td>0.154008</td>\n",
              "    </tr>\n",
              "    <tr>\n",
              "      <th>16</th>\n",
              "      <td>GBR</td>\n",
              "      <td>United Kingdom</td>\n",
              "      <td>10.1</td>\n",
              "      <td>0.5</td>\n",
              "      <td>82.0</td>\n",
              "      <td>10.8</td>\n",
              "      <td>75.0</td>\n",
              "      <td>78.0</td>\n",
              "      <td>0.2</td>\n",
              "      <td>33049.0</td>\n",
              "      <td>...</td>\n",
              "      <td>0.647260</td>\n",
              "      <td>0.541812</td>\n",
              "      <td>0.824555</td>\n",
              "      <td>0.761905</td>\n",
              "      <td>0.690726</td>\n",
              "      <td>0.677778</td>\n",
              "      <td>0.719681</td>\n",
              "      <td>77.15</td>\n",
              "      <td>0.858491</td>\n",
              "      <td>0.478330</td>\n",
              "    </tr>\n",
              "    <tr>\n",
              "      <th>31</th>\n",
              "      <td>NZL</td>\n",
              "      <td>New Zealand</td>\n",
              "      <td>6.0</td>\n",
              "      <td>NaN</td>\n",
              "      <td>81.0</td>\n",
              "      <td>14.0</td>\n",
              "      <td>77.0</td>\n",
              "      <td>66.0</td>\n",
              "      <td>1.3</td>\n",
              "      <td>39024.0</td>\n",
              "      <td>...</td>\n",
              "      <td>0.354659</td>\n",
              "      <td>0.607316</td>\n",
              "      <td>0.820409</td>\n",
              "      <td>0.857143</td>\n",
              "      <td>0.739992</td>\n",
              "      <td>0.808575</td>\n",
              "      <td>0.718617</td>\n",
              "      <td>84.05</td>\n",
              "      <td>0.724606</td>\n",
              "      <td>0.404083</td>\n",
              "    </tr>\n",
              "    <tr>\n",
              "      <th>29</th>\n",
              "      <td>NLD</td>\n",
              "      <td>Netherlands</td>\n",
              "      <td>12.2</td>\n",
              "      <td>0.1</td>\n",
              "      <td>81.0</td>\n",
              "      <td>0.3</td>\n",
              "      <td>78.0</td>\n",
              "      <td>83.0</td>\n",
              "      <td>0.6</td>\n",
              "      <td>34984.0</td>\n",
              "      <td>...</td>\n",
              "      <td>0.745463</td>\n",
              "      <td>0.404947</td>\n",
              "      <td>0.907441</td>\n",
              "      <td>0.809524</td>\n",
              "      <td>0.792902</td>\n",
              "      <td>0.757126</td>\n",
              "      <td>0.711702</td>\n",
              "      <td>78.60</td>\n",
              "      <td>0.898142</td>\n",
              "      <td>0.781093</td>\n",
              "    </tr>\n",
              "    <tr>\n",
              "      <th>6</th>\n",
              "      <td>CHL</td>\n",
              "      <td>Chile</td>\n",
              "      <td>23.4</td>\n",
              "      <td>9.4</td>\n",
              "      <td>67.0</td>\n",
              "      <td>7.7</td>\n",
              "      <td>56.0</td>\n",
              "      <td>41.0</td>\n",
              "      <td>2.4</td>\n",
              "      <td>NaN</td>\n",
              "      <td>...</td>\n",
              "      <td>0.669774</td>\n",
              "      <td>0.032800</td>\n",
              "      <td>0.330567</td>\n",
              "      <td>0.523810</td>\n",
              "      <td>0.424428</td>\n",
              "      <td>0.110870</td>\n",
              "      <td>0.046277</td>\n",
              "      <td>70.30</td>\n",
              "      <td>0.468081</td>\n",
              "      <td>0.358736</td>\n",
              "    </tr>\n",
              "    <tr>\n",
              "      <th>33</th>\n",
              "      <td>PRT</td>\n",
              "      <td>Portugal</td>\n",
              "      <td>8.3</td>\n",
              "      <td>0.9</td>\n",
              "      <td>55.0</td>\n",
              "      <td>5.6</td>\n",
              "      <td>69.0</td>\n",
              "      <td>83.0</td>\n",
              "      <td>0.7</td>\n",
              "      <td>24877.0</td>\n",
              "      <td>...</td>\n",
              "      <td>0.675535</td>\n",
              "      <td>0.287965</td>\n",
              "      <td>0.622333</td>\n",
              "      <td>0.476190</td>\n",
              "      <td>0.491814</td>\n",
              "      <td>0.814130</td>\n",
              "      <td>0.117553</td>\n",
              "      <td>65.90</td>\n",
              "      <td>0.896262</td>\n",
              "      <td>0.397770</td>\n",
              "    </tr>\n",
              "    <tr>\n",
              "      <th>23</th>\n",
              "      <td>JPN</td>\n",
              "      <td>Japan</td>\n",
              "      <td>13.7</td>\n",
              "      <td>6.4</td>\n",
              "      <td>NaN</td>\n",
              "      <td>NaN</td>\n",
              "      <td>77.0</td>\n",
              "      <td>77.0</td>\n",
              "      <td>0.2</td>\n",
              "      <td>28872.0</td>\n",
              "      <td>...</td>\n",
              "      <td>0.608391</td>\n",
              "      <td>0.358616</td>\n",
              "      <td>0.804800</td>\n",
              "      <td>0.571429</td>\n",
              "      <td>0.428571</td>\n",
              "      <td>0.668961</td>\n",
              "      <td>0.135106</td>\n",
              "      <td>60.70</td>\n",
              "      <td>0.849057</td>\n",
              "      <td>0.000000</td>\n",
              "    </tr>\n",
              "    <tr>\n",
              "      <th>7</th>\n",
              "      <td>COL</td>\n",
              "      <td>Colombia</td>\n",
              "      <td>22.6</td>\n",
              "      <td>12.3</td>\n",
              "      <td>59.0</td>\n",
              "      <td>23.7</td>\n",
              "      <td>58.0</td>\n",
              "      <td>50.0</td>\n",
              "      <td>23.1</td>\n",
              "      <td>NaN</td>\n",
              "      <td>...</td>\n",
              "      <td>0.219127</td>\n",
              "      <td>0.000000</td>\n",
              "      <td>0.350491</td>\n",
              "      <td>0.142857</td>\n",
              "      <td>0.122791</td>\n",
              "      <td>0.406039</td>\n",
              "      <td>0.135106</td>\n",
              "      <td>78.35</td>\n",
              "      <td>0.163888</td>\n",
              "      <td>0.061338</td>\n",
              "    </tr>\n",
              "    <tr>\n",
              "      <th>19</th>\n",
              "      <td>IRL</td>\n",
              "      <td>Ireland</td>\n",
              "      <td>7.8</td>\n",
              "      <td>0.2</td>\n",
              "      <td>85.0</td>\n",
              "      <td>4.7</td>\n",
              "      <td>68.0</td>\n",
              "      <td>76.0</td>\n",
              "      <td>0.5</td>\n",
              "      <td>29488.0</td>\n",
              "      <td>...</td>\n",
              "      <td>0.739121</td>\n",
              "      <td>0.409842</td>\n",
              "      <td>0.797079</td>\n",
              "      <td>0.904762</td>\n",
              "      <td>0.770440</td>\n",
              "      <td>0.700000</td>\n",
              "      <td>0.216489</td>\n",
              "      <td>83.40</td>\n",
              "      <td>0.833984</td>\n",
              "      <td>0.507325</td>\n",
              "    </tr>\n",
              "  </tbody>\n",
              "</table>\n",
              "<p>10 rows × 39 columns</p>\n",
              "</div>"
            ],
            "text/plain": [
              "   LOCATION         Country  Air pollution  \\\n",
              "0       AUS       Australia            6.7   \n",
              "24      KOR           Korea           27.3   \n",
              "16      GBR  United Kingdom           10.1   \n",
              "31      NZL     New Zealand            6.0   \n",
              "29      NLD     Netherlands           12.2   \n",
              "6       CHL           Chile           23.4   \n",
              "33      PRT        Portugal            8.3   \n",
              "23      JPN           Japan           13.7   \n",
              "7       COL        Colombia           22.6   \n",
              "19      IRL         Ireland            7.8   \n",
              "\n",
              "    Dwellings without basic facilities  Educational attainment  \\\n",
              "0                                  NaN                    84.0   \n",
              "24                                 2.5                    89.0   \n",
              "16                                 0.5                    82.0   \n",
              "31                                 NaN                    81.0   \n",
              "29                                 0.1                    81.0   \n",
              "6                                  9.4                    67.0   \n",
              "33                                 0.9                    55.0   \n",
              "23                                 6.4                     NaN   \n",
              "7                                 12.3                    59.0   \n",
              "19                                 0.2                    85.0   \n",
              "\n",
              "    Employees working very long hours  Employment rate  \\\n",
              "0                                12.5             73.0   \n",
              "24                                NaN             66.0   \n",
              "16                               10.8             75.0   \n",
              "31                               14.0             77.0   \n",
              "29                                0.3             78.0   \n",
              "6                                 7.7             56.0   \n",
              "33                                5.6             69.0   \n",
              "23                                NaN             77.0   \n",
              "7                                23.7             58.0   \n",
              "19                                4.7             68.0   \n",
              "\n",
              "    Feeling safe walking alone at night  Homicide rate  \\\n",
              "0                                  67.0            0.9   \n",
              "24                                 82.0            0.8   \n",
              "16                                 78.0            0.2   \n",
              "31                                 66.0            1.3   \n",
              "29                                 83.0            0.6   \n",
              "6                                  41.0            2.4   \n",
              "33                                 83.0            0.7   \n",
              "23                                 77.0            0.2   \n",
              "7                                  50.0           23.1   \n",
              "19                                 76.0            0.5   \n",
              "\n",
              "    Household net adjusted disposable income  ...   Housing    Income  \\\n",
              "0                                    37433.0  ...  0.209974  0.596762   \n",
              "24                                   24590.0  ...  0.747621  0.346625   \n",
              "16                                   33049.0  ...  0.647260  0.541812   \n",
              "31                                   39024.0  ...  0.354659  0.607316   \n",
              "29                                   34984.0  ...  0.745463  0.404947   \n",
              "6                                        NaN  ...  0.669774  0.032800   \n",
              "33                                   24877.0  ...  0.675535  0.287965   \n",
              "23                                   28872.0  ...  0.608391  0.358616   \n",
              "7                                        NaN  ...  0.219127  0.000000   \n",
              "19                                   29488.0  ...  0.739121  0.409842   \n",
              "\n",
              "        Jobs  Community  Education  Environment  Civic engagement  Health  \\\n",
              "0   0.851277   0.761905   0.859389     0.890580          0.875000   84.00   \n",
              "24  0.762685   0.142857   0.779724     0.303865          0.765426   58.65   \n",
              "16  0.824555   0.761905   0.690726     0.677778          0.719681   77.15   \n",
              "31  0.820409   0.857143   0.739992     0.808575          0.718617   84.05   \n",
              "29  0.907441   0.809524   0.792902     0.757126          0.711702   78.60   \n",
              "6   0.330567   0.523810   0.424428     0.110870          0.046277   70.30   \n",
              "33  0.622333   0.476190   0.491814     0.814130          0.117553   65.90   \n",
              "23  0.804800   0.571429   0.428571     0.668961          0.135106   60.70   \n",
              "7   0.350491   0.142857   0.122791     0.406039          0.135106   78.35   \n",
              "19  0.797079   0.904762   0.770440     0.700000          0.216489   83.40   \n",
              "\n",
              "      Safety  Work Life Balance  \n",
              "0   0.741559           0.324369  \n",
              "24  0.884948           0.154008  \n",
              "16  0.858491           0.478330  \n",
              "31  0.724606           0.404083  \n",
              "29  0.898142           0.781093  \n",
              "6   0.468081           0.358736  \n",
              "33  0.896262           0.397770  \n",
              "23  0.849057           0.000000  \n",
              "7   0.163888           0.061338  \n",
              "19  0.833984           0.507325  \n",
              "\n",
              "[10 rows x 39 columns]"
            ]
          },
          "execution_count": 24,
          "metadata": {},
          "output_type": "execute_result"
        }
      ],
      "source": [
        "#Toma los 5 valores más altos para civic engagement\n",
        "top_5 = Final.sort_values(by='Civic engagement', ascending=False).head(5)\n",
        "\n",
        "#Toma los 5 valores más bajos para civic engagement\n",
        "bottom_5 = Final.sort_values(by='Civic engagement', ascending=True).head(5)\n",
        "\n",
        "bottom_5\n",
        "\n",
        "# Junat top y bottom\n",
        "top_bottom = pd.concat([top_5, bottom_5])\n",
        "top_bottom"
      ]
    },
    {
      "cell_type": "code",
      "execution_count": 25,
      "metadata": {
        "colab": {
          "base_uri": "https://localhost:8080/",
          "height": 206
        },
        "id": "Z40-Qth8llcy",
        "outputId": "9eddf933-ba58-4258-f35c-73c79e76c664"
      },
      "outputs": [
        {
          "data": {
            "text/html": [
              "<div>\n",
              "<style scoped>\n",
              "    .dataframe tbody tr th:only-of-type {\n",
              "        vertical-align: middle;\n",
              "    }\n",
              "\n",
              "    .dataframe tbody tr th {\n",
              "        vertical-align: top;\n",
              "    }\n",
              "\n",
              "    .dataframe thead th {\n",
              "        text-align: right;\n",
              "    }\n",
              "</style>\n",
              "<table border=\"1\" class=\"dataframe\">\n",
              "  <thead>\n",
              "    <tr style=\"text-align: right;\">\n",
              "      <th></th>\n",
              "      <th>Country</th>\n",
              "      <th>Education</th>\n",
              "      <th>Income</th>\n",
              "    </tr>\n",
              "  </thead>\n",
              "  <tbody>\n",
              "    <tr>\n",
              "      <th>26</th>\n",
              "      <td>Luxembourg</td>\n",
              "      <td>0.460517</td>\n",
              "      <td>0.923772</td>\n",
              "    </tr>\n",
              "    <tr>\n",
              "      <th>39</th>\n",
              "      <td>United States</td>\n",
              "      <td>0.732455</td>\n",
              "      <td>0.851110</td>\n",
              "    </tr>\n",
              "    <tr>\n",
              "      <th>31</th>\n",
              "      <td>New Zealand</td>\n",
              "      <td>0.739992</td>\n",
              "      <td>0.607316</td>\n",
              "    </tr>\n",
              "    <tr>\n",
              "      <th>0</th>\n",
              "      <td>Australia</td>\n",
              "      <td>0.859389</td>\n",
              "      <td>0.596762</td>\n",
              "    </tr>\n",
              "    <tr>\n",
              "      <th>16</th>\n",
              "      <td>United Kingdom</td>\n",
              "      <td>0.690726</td>\n",
              "      <td>0.541812</td>\n",
              "    </tr>\n",
              "  </tbody>\n",
              "</table>\n",
              "</div>"
            ],
            "text/plain": [
              "           Country  Education    Income\n",
              "26      Luxembourg   0.460517  0.923772\n",
              "39   United States   0.732455  0.851110\n",
              "31     New Zealand   0.739992  0.607316\n",
              "0        Australia   0.859389  0.596762\n",
              "16  United Kingdom   0.690726  0.541812"
            ]
          },
          "execution_count": 25,
          "metadata": {},
          "output_type": "execute_result"
        }
      ],
      "source": [
        "topIncomeAndEducation= (Final.sort_values(by='Income', ascending=False).head(5)).loc[:,[\"Country\",\"Education\",\"Income\",]]\n",
        "topIncomeAndEducation"
      ]
    },
    {
      "cell_type": "code",
      "execution_count": 26,
      "metadata": {
        "id": "Osr0eKV6XIT9"
      },
      "outputs": [],
      "source": [
        "color_map = {\n",
        "    \"Australia\": \"#8BDEDB\",\n",
        "    \"Korea\": \"#50A1E1\",\n",
        "    \"United Kingdom\": \"#1370EB\"  ,\n",
        "    \"New Zealand\": \"#B1FAAA\",\n",
        "    \"Netherlands\": \"#DFEB6A\",\n",
        "    \"Chile\": '#EB2101',\n",
        "    \"Portugal\": '#E57A6E',\n",
        "    \"Japan\": '#DBA857',\n",
        "    \"Colombia\": '#FF9A01',\n",
        "    \"Ireland\":'#E62DB9'\n",
        "\n",
        "}\n",
        "color_mapSan = {\n",
        "    \"Income\": \"#DC1841\",\n",
        "    \"Education\": \"#DB824E\"\n",
        "}\n",
        "\n"
      ]
    },
    {
      "cell_type": "code",
      "execution_count": 27,
      "metadata": {
        "colab": {
          "base_uri": "https://localhost:8080/",
          "height": 542
        },
        "id": "DI01fHpnpS4e",
        "outputId": "cc43fda1-46f5-453f-a612-e1c1762f0000"
      },
      "outputs": [
        {
          "data": {
            "application/vnd.plotly.v1+json": {
              "config": {
                "plotlyServerURL": "https://plot.ly"
              },
              "data": [
                {
                  "hovertemplate": "Country=Australia<br>Gdp=%{x}<br>Civic engagement=%{y}<extra></extra>",
                  "legendgroup": "Australia",
                  "marker": {
                    "color": "#8BDEDB",
                    "pattern": {
                      "shape": ""
                    }
                  },
                  "name": "Australia",
                  "orientation": "v",
                  "showlegend": true,
                  "textposition": "auto",
                  "type": "bar",
                  "x": {
                    "bdata": "j8L1KBwU7UA=",
                    "dtype": "f8"
                  },
                  "xaxis": "x",
                  "y": {
                    "bdata": "AAAAAAAA7D8=",
                    "dtype": "f8"
                  },
                  "yaxis": "y"
                },
                {
                  "hovertemplate": "Country=Korea<br>Gdp=%{x}<br>Civic engagement=%{y}<extra></extra>",
                  "legendgroup": "Korea",
                  "marker": {
                    "color": "#50A1E1",
                    "pattern": {
                      "shape": ""
                    }
                  },
                  "name": "Korea",
                  "orientation": "v",
                  "showlegend": true,
                  "textposition": "auto",
                  "type": "bar",
                  "x": {
                    "bdata": "AAAAAIix6EA=",
                    "dtype": "f8"
                  },
                  "xaxis": "x",
                  "y": {
                    "bdata": "xSFjr11+6D8=",
                    "dtype": "f8"
                  },
                  "yaxis": "y"
                },
                {
                  "hovertemplate": "Country=United Kingdom<br>Gdp=%{x}<br>Civic engagement=%{y}<extra></extra>",
                  "legendgroup": "United Kingdom",
                  "marker": {
                    "color": "#1370EB",
                    "pattern": {
                      "shape": ""
                    }
                  },
                  "name": "United Kingdom",
                  "orientation": "v",
                  "showlegend": true,
                  "textposition": "auto",
                  "type": "bar",
                  "x": {
                    "bdata": "mG4Sg8Ch6kA=",
                    "dtype": "f8"
                  },
                  "xaxis": "x",
                  "y": {
                    "bdata": "Ew3cIqAH5z8=",
                    "dtype": "f8"
                  },
                  "yaxis": "y"
                },
                {
                  "hovertemplate": "Country=New Zealand<br>Gdp=%{x}<br>Civic engagement=%{y}<extra></extra>",
                  "legendgroup": "New Zealand",
                  "marker": {
                    "color": "#B1FAAA",
                    "pattern": {
                      "shape": ""
                    }
                  },
                  "name": "New Zealand",
                  "orientation": "v",
                  "showlegend": true,
                  "textposition": "auto",
                  "type": "bar",
                  "x": {
                    "bdata": "fT81XlLX50A=",
                    "dtype": "f8"
                  },
                  "xaxis": "x",
                  "y": {
                    "bdata": "2WuXH+n+5j8=",
                    "dtype": "f8"
                  },
                  "yaxis": "y"
                },
                {
                  "hovertemplate": "Country=Netherlands<br>Gdp=%{x}<br>Civic engagement=%{y}<extra></extra>",
                  "legendgroup": "Netherlands",
                  "marker": {
                    "color": "#DFEB6A",
                    "pattern": {
                      "shape": ""
                    }
                  },
                  "name": "Netherlands",
                  "orientation": "v",
                  "showlegend": true,
                  "textposition": "auto",
                  "type": "bar",
                  "x": {
                    "bdata": "7FG4Hmtx8UA=",
                    "dtype": "f8"
                  },
                  "xaxis": "x",
                  "y": {
                    "bdata": "4lNZikPG5j8=",
                    "dtype": "f8"
                  },
                  "yaxis": "y"
                },
                {
                  "hovertemplate": "Country=Chile<br>Gdp=%{x}<br>Civic engagement=%{y}<extra></extra>",
                  "legendgroup": "Chile",
                  "marker": {
                    "color": "#EB2101",
                    "pattern": {
                      "shape": ""
                    }
                  },
                  "name": "Chile",
                  "orientation": "v",
                  "showlegend": true,
                  "textposition": "auto",
                  "type": "bar",
                  "x": {
                    "bdata": "XI/C9ajF3EA=",
                    "dtype": "f8"
                  },
                  "xaxis": "x",
                  "y": {
                    "bdata": "/FSW4pCxpz8=",
                    "dtype": "f8"
                  },
                  "yaxis": "y"
                },
                {
                  "hovertemplate": "Country=Portugal<br>Gdp=%{x}<br>Civic engagement=%{y}<extra></extra>",
                  "legendgroup": "Portugal",
                  "marker": {
                    "color": "#E57A6E",
                    "pattern": {
                      "shape": ""
                    }
                  },
                  "name": "Portugal",
                  "orientation": "v",
                  "showlegend": true,
                  "textposition": "auto",
                  "type": "bar",
                  "x": {
                    "bdata": "w/UoXG9j5EA=",
                    "dtype": "f8"
                  },
                  "xaxis": "x",
                  "y": {
                    "bdata": "YLv8SPcXvj8=",
                    "dtype": "f8"
                  },
                  "yaxis": "y"
                },
                {
                  "hovertemplate": "Country=Japan<br>Gdp=%{x}<br>Civic engagement=%{y}<extra></extra>",
                  "legendgroup": "Japan",
                  "marker": {
                    "color": "#DBA857",
                    "pattern": {
                      "shape": ""
                    }
                  },
                  "name": "Japan",
                  "orientation": "v",
                  "showlegend": true,
                  "textposition": "auto",
                  "type": "bar",
                  "x": {
                    "bdata": "8tJNYrSJ5kA=",
                    "dtype": "f8"
                  },
                  "xaxis": "x",
                  "y": {
                    "bdata": "ku4vfCpLwT8=",
                    "dtype": "f8"
                  },
                  "yaxis": "y"
                },
                {
                  "hovertemplate": "Country=Colombia<br>Gdp=%{x}<br>Civic engagement=%{y}<extra></extra>",
                  "legendgroup": "Colombia",
                  "marker": {
                    "color": "#FF9A01",
                    "pattern": {
                      "shape": ""
                    }
                  },
                  "name": "Colombia",
                  "orientation": "v",
                  "showlegend": true,
                  "textposition": "auto",
                  "type": "bar",
                  "x": {
                    "bdata": "PQrXoxhB0kA=",
                    "dtype": "f8"
                  },
                  "xaxis": "x",
                  "y": {
                    "bdata": "ku4vfCpLwT8=",
                    "dtype": "f8"
                  },
                  "yaxis": "y"
                },
                {
                  "hovertemplate": "Country=Ireland<br>Gdp=%{x}<br>Civic engagement=%{y}<extra></extra>",
                  "legendgroup": "Ireland",
                  "marker": {
                    "color": "#E62DB9",
                    "pattern": {
                      "shape": ""
                    }
                  },
                  "name": "Ireland",
                  "orientation": "v",
                  "showlegend": true,
                  "textposition": "auto",
                  "type": "bar",
                  "x": {
                    "bdata": "16NwPaYO/EA=",
                    "dtype": "f8"
                  },
                  "xaxis": "x",
                  "y": {
                    "bdata": "lqU4ZOy1yz8=",
                    "dtype": "f8"
                  },
                  "yaxis": "y"
                }
              ],
              "layout": {
                "barmode": "relative",
                "legend": {
                  "title": {
                    "text": "Country"
                  },
                  "tracegroupgap": 0
                },
                "margin": {
                  "t": 60
                },
                "template": {
                  "data": {
                    "bar": [
                      {
                        "error_x": {
                          "color": "#2a3f5f"
                        },
                        "error_y": {
                          "color": "#2a3f5f"
                        },
                        "marker": {
                          "line": {
                            "color": "#E5ECF6",
                            "width": 0.5
                          },
                          "pattern": {
                            "fillmode": "overlay",
                            "size": 10,
                            "solidity": 0.2
                          }
                        },
                        "type": "bar"
                      }
                    ],
                    "barpolar": [
                      {
                        "marker": {
                          "line": {
                            "color": "#E5ECF6",
                            "width": 0.5
                          },
                          "pattern": {
                            "fillmode": "overlay",
                            "size": 10,
                            "solidity": 0.2
                          }
                        },
                        "type": "barpolar"
                      }
                    ],
                    "carpet": [
                      {
                        "aaxis": {
                          "endlinecolor": "#2a3f5f",
                          "gridcolor": "white",
                          "linecolor": "white",
                          "minorgridcolor": "white",
                          "startlinecolor": "#2a3f5f"
                        },
                        "baxis": {
                          "endlinecolor": "#2a3f5f",
                          "gridcolor": "white",
                          "linecolor": "white",
                          "minorgridcolor": "white",
                          "startlinecolor": "#2a3f5f"
                        },
                        "type": "carpet"
                      }
                    ],
                    "choropleth": [
                      {
                        "colorbar": {
                          "outlinewidth": 0,
                          "ticks": ""
                        },
                        "type": "choropleth"
                      }
                    ],
                    "contour": [
                      {
                        "colorbar": {
                          "outlinewidth": 0,
                          "ticks": ""
                        },
                        "colorscale": [
                          [
                            0,
                            "#0d0887"
                          ],
                          [
                            0.1111111111111111,
                            "#46039f"
                          ],
                          [
                            0.2222222222222222,
                            "#7201a8"
                          ],
                          [
                            0.3333333333333333,
                            "#9c179e"
                          ],
                          [
                            0.4444444444444444,
                            "#bd3786"
                          ],
                          [
                            0.5555555555555556,
                            "#d8576b"
                          ],
                          [
                            0.6666666666666666,
                            "#ed7953"
                          ],
                          [
                            0.7777777777777778,
                            "#fb9f3a"
                          ],
                          [
                            0.8888888888888888,
                            "#fdca26"
                          ],
                          [
                            1,
                            "#f0f921"
                          ]
                        ],
                        "type": "contour"
                      }
                    ],
                    "contourcarpet": [
                      {
                        "colorbar": {
                          "outlinewidth": 0,
                          "ticks": ""
                        },
                        "type": "contourcarpet"
                      }
                    ],
                    "heatmap": [
                      {
                        "colorbar": {
                          "outlinewidth": 0,
                          "ticks": ""
                        },
                        "colorscale": [
                          [
                            0,
                            "#0d0887"
                          ],
                          [
                            0.1111111111111111,
                            "#46039f"
                          ],
                          [
                            0.2222222222222222,
                            "#7201a8"
                          ],
                          [
                            0.3333333333333333,
                            "#9c179e"
                          ],
                          [
                            0.4444444444444444,
                            "#bd3786"
                          ],
                          [
                            0.5555555555555556,
                            "#d8576b"
                          ],
                          [
                            0.6666666666666666,
                            "#ed7953"
                          ],
                          [
                            0.7777777777777778,
                            "#fb9f3a"
                          ],
                          [
                            0.8888888888888888,
                            "#fdca26"
                          ],
                          [
                            1,
                            "#f0f921"
                          ]
                        ],
                        "type": "heatmap"
                      }
                    ],
                    "histogram": [
                      {
                        "marker": {
                          "pattern": {
                            "fillmode": "overlay",
                            "size": 10,
                            "solidity": 0.2
                          }
                        },
                        "type": "histogram"
                      }
                    ],
                    "histogram2d": [
                      {
                        "colorbar": {
                          "outlinewidth": 0,
                          "ticks": ""
                        },
                        "colorscale": [
                          [
                            0,
                            "#0d0887"
                          ],
                          [
                            0.1111111111111111,
                            "#46039f"
                          ],
                          [
                            0.2222222222222222,
                            "#7201a8"
                          ],
                          [
                            0.3333333333333333,
                            "#9c179e"
                          ],
                          [
                            0.4444444444444444,
                            "#bd3786"
                          ],
                          [
                            0.5555555555555556,
                            "#d8576b"
                          ],
                          [
                            0.6666666666666666,
                            "#ed7953"
                          ],
                          [
                            0.7777777777777778,
                            "#fb9f3a"
                          ],
                          [
                            0.8888888888888888,
                            "#fdca26"
                          ],
                          [
                            1,
                            "#f0f921"
                          ]
                        ],
                        "type": "histogram2d"
                      }
                    ],
                    "histogram2dcontour": [
                      {
                        "colorbar": {
                          "outlinewidth": 0,
                          "ticks": ""
                        },
                        "colorscale": [
                          [
                            0,
                            "#0d0887"
                          ],
                          [
                            0.1111111111111111,
                            "#46039f"
                          ],
                          [
                            0.2222222222222222,
                            "#7201a8"
                          ],
                          [
                            0.3333333333333333,
                            "#9c179e"
                          ],
                          [
                            0.4444444444444444,
                            "#bd3786"
                          ],
                          [
                            0.5555555555555556,
                            "#d8576b"
                          ],
                          [
                            0.6666666666666666,
                            "#ed7953"
                          ],
                          [
                            0.7777777777777778,
                            "#fb9f3a"
                          ],
                          [
                            0.8888888888888888,
                            "#fdca26"
                          ],
                          [
                            1,
                            "#f0f921"
                          ]
                        ],
                        "type": "histogram2dcontour"
                      }
                    ],
                    "mesh3d": [
                      {
                        "colorbar": {
                          "outlinewidth": 0,
                          "ticks": ""
                        },
                        "type": "mesh3d"
                      }
                    ],
                    "parcoords": [
                      {
                        "line": {
                          "colorbar": {
                            "outlinewidth": 0,
                            "ticks": ""
                          }
                        },
                        "type": "parcoords"
                      }
                    ],
                    "pie": [
                      {
                        "automargin": true,
                        "type": "pie"
                      }
                    ],
                    "scatter": [
                      {
                        "fillpattern": {
                          "fillmode": "overlay",
                          "size": 10,
                          "solidity": 0.2
                        },
                        "type": "scatter"
                      }
                    ],
                    "scatter3d": [
                      {
                        "line": {
                          "colorbar": {
                            "outlinewidth": 0,
                            "ticks": ""
                          }
                        },
                        "marker": {
                          "colorbar": {
                            "outlinewidth": 0,
                            "ticks": ""
                          }
                        },
                        "type": "scatter3d"
                      }
                    ],
                    "scattercarpet": [
                      {
                        "marker": {
                          "colorbar": {
                            "outlinewidth": 0,
                            "ticks": ""
                          }
                        },
                        "type": "scattercarpet"
                      }
                    ],
                    "scattergeo": [
                      {
                        "marker": {
                          "colorbar": {
                            "outlinewidth": 0,
                            "ticks": ""
                          }
                        },
                        "type": "scattergeo"
                      }
                    ],
                    "scattergl": [
                      {
                        "marker": {
                          "colorbar": {
                            "outlinewidth": 0,
                            "ticks": ""
                          }
                        },
                        "type": "scattergl"
                      }
                    ],
                    "scattermap": [
                      {
                        "marker": {
                          "colorbar": {
                            "outlinewidth": 0,
                            "ticks": ""
                          }
                        },
                        "type": "scattermap"
                      }
                    ],
                    "scattermapbox": [
                      {
                        "marker": {
                          "colorbar": {
                            "outlinewidth": 0,
                            "ticks": ""
                          }
                        },
                        "type": "scattermapbox"
                      }
                    ],
                    "scatterpolar": [
                      {
                        "marker": {
                          "colorbar": {
                            "outlinewidth": 0,
                            "ticks": ""
                          }
                        },
                        "type": "scatterpolar"
                      }
                    ],
                    "scatterpolargl": [
                      {
                        "marker": {
                          "colorbar": {
                            "outlinewidth": 0,
                            "ticks": ""
                          }
                        },
                        "type": "scatterpolargl"
                      }
                    ],
                    "scatterternary": [
                      {
                        "marker": {
                          "colorbar": {
                            "outlinewidth": 0,
                            "ticks": ""
                          }
                        },
                        "type": "scatterternary"
                      }
                    ],
                    "surface": [
                      {
                        "colorbar": {
                          "outlinewidth": 0,
                          "ticks": ""
                        },
                        "colorscale": [
                          [
                            0,
                            "#0d0887"
                          ],
                          [
                            0.1111111111111111,
                            "#46039f"
                          ],
                          [
                            0.2222222222222222,
                            "#7201a8"
                          ],
                          [
                            0.3333333333333333,
                            "#9c179e"
                          ],
                          [
                            0.4444444444444444,
                            "#bd3786"
                          ],
                          [
                            0.5555555555555556,
                            "#d8576b"
                          ],
                          [
                            0.6666666666666666,
                            "#ed7953"
                          ],
                          [
                            0.7777777777777778,
                            "#fb9f3a"
                          ],
                          [
                            0.8888888888888888,
                            "#fdca26"
                          ],
                          [
                            1,
                            "#f0f921"
                          ]
                        ],
                        "type": "surface"
                      }
                    ],
                    "table": [
                      {
                        "cells": {
                          "fill": {
                            "color": "#EBF0F8"
                          },
                          "line": {
                            "color": "white"
                          }
                        },
                        "header": {
                          "fill": {
                            "color": "#C8D4E3"
                          },
                          "line": {
                            "color": "white"
                          }
                        },
                        "type": "table"
                      }
                    ]
                  },
                  "layout": {
                    "annotationdefaults": {
                      "arrowcolor": "#2a3f5f",
                      "arrowhead": 0,
                      "arrowwidth": 1
                    },
                    "autotypenumbers": "strict",
                    "coloraxis": {
                      "colorbar": {
                        "outlinewidth": 0,
                        "ticks": ""
                      }
                    },
                    "colorscale": {
                      "diverging": [
                        [
                          0,
                          "#8e0152"
                        ],
                        [
                          0.1,
                          "#c51b7d"
                        ],
                        [
                          0.2,
                          "#de77ae"
                        ],
                        [
                          0.3,
                          "#f1b6da"
                        ],
                        [
                          0.4,
                          "#fde0ef"
                        ],
                        [
                          0.5,
                          "#f7f7f7"
                        ],
                        [
                          0.6,
                          "#e6f5d0"
                        ],
                        [
                          0.7,
                          "#b8e186"
                        ],
                        [
                          0.8,
                          "#7fbc41"
                        ],
                        [
                          0.9,
                          "#4d9221"
                        ],
                        [
                          1,
                          "#276419"
                        ]
                      ],
                      "sequential": [
                        [
                          0,
                          "#0d0887"
                        ],
                        [
                          0.1111111111111111,
                          "#46039f"
                        ],
                        [
                          0.2222222222222222,
                          "#7201a8"
                        ],
                        [
                          0.3333333333333333,
                          "#9c179e"
                        ],
                        [
                          0.4444444444444444,
                          "#bd3786"
                        ],
                        [
                          0.5555555555555556,
                          "#d8576b"
                        ],
                        [
                          0.6666666666666666,
                          "#ed7953"
                        ],
                        [
                          0.7777777777777778,
                          "#fb9f3a"
                        ],
                        [
                          0.8888888888888888,
                          "#fdca26"
                        ],
                        [
                          1,
                          "#f0f921"
                        ]
                      ],
                      "sequentialminus": [
                        [
                          0,
                          "#0d0887"
                        ],
                        [
                          0.1111111111111111,
                          "#46039f"
                        ],
                        [
                          0.2222222222222222,
                          "#7201a8"
                        ],
                        [
                          0.3333333333333333,
                          "#9c179e"
                        ],
                        [
                          0.4444444444444444,
                          "#bd3786"
                        ],
                        [
                          0.5555555555555556,
                          "#d8576b"
                        ],
                        [
                          0.6666666666666666,
                          "#ed7953"
                        ],
                        [
                          0.7777777777777778,
                          "#fb9f3a"
                        ],
                        [
                          0.8888888888888888,
                          "#fdca26"
                        ],
                        [
                          1,
                          "#f0f921"
                        ]
                      ]
                    },
                    "colorway": [
                      "#636efa",
                      "#EF553B",
                      "#00cc96",
                      "#ab63fa",
                      "#FFA15A",
                      "#19d3f3",
                      "#FF6692",
                      "#B6E880",
                      "#FF97FF",
                      "#FECB52"
                    ],
                    "font": {
                      "color": "#2a3f5f"
                    },
                    "geo": {
                      "bgcolor": "white",
                      "lakecolor": "white",
                      "landcolor": "#E5ECF6",
                      "showlakes": true,
                      "showland": true,
                      "subunitcolor": "white"
                    },
                    "hoverlabel": {
                      "align": "left"
                    },
                    "hovermode": "closest",
                    "mapbox": {
                      "style": "light"
                    },
                    "paper_bgcolor": "white",
                    "plot_bgcolor": "#E5ECF6",
                    "polar": {
                      "angularaxis": {
                        "gridcolor": "white",
                        "linecolor": "white",
                        "ticks": ""
                      },
                      "bgcolor": "#E5ECF6",
                      "radialaxis": {
                        "gridcolor": "white",
                        "linecolor": "white",
                        "ticks": ""
                      }
                    },
                    "scene": {
                      "xaxis": {
                        "backgroundcolor": "#E5ECF6",
                        "gridcolor": "white",
                        "gridwidth": 2,
                        "linecolor": "white",
                        "showbackground": true,
                        "ticks": "",
                        "zerolinecolor": "white"
                      },
                      "yaxis": {
                        "backgroundcolor": "#E5ECF6",
                        "gridcolor": "white",
                        "gridwidth": 2,
                        "linecolor": "white",
                        "showbackground": true,
                        "ticks": "",
                        "zerolinecolor": "white"
                      },
                      "zaxis": {
                        "backgroundcolor": "#E5ECF6",
                        "gridcolor": "white",
                        "gridwidth": 2,
                        "linecolor": "white",
                        "showbackground": true,
                        "ticks": "",
                        "zerolinecolor": "white"
                      }
                    },
                    "shapedefaults": {
                      "line": {
                        "color": "#2a3f5f"
                      }
                    },
                    "ternary": {
                      "aaxis": {
                        "gridcolor": "white",
                        "linecolor": "white",
                        "ticks": ""
                      },
                      "baxis": {
                        "gridcolor": "white",
                        "linecolor": "white",
                        "ticks": ""
                      },
                      "bgcolor": "#E5ECF6",
                      "caxis": {
                        "gridcolor": "white",
                        "linecolor": "white",
                        "ticks": ""
                      }
                    },
                    "title": {
                      "x": 0.05
                    },
                    "xaxis": {
                      "automargin": true,
                      "gridcolor": "white",
                      "linecolor": "white",
                      "ticks": "",
                      "title": {
                        "standoff": 15
                      },
                      "zerolinecolor": "white",
                      "zerolinewidth": 2
                    },
                    "yaxis": {
                      "automargin": true,
                      "gridcolor": "white",
                      "linecolor": "white",
                      "ticks": "",
                      "title": {
                        "standoff": 15
                      },
                      "zerolinecolor": "white",
                      "zerolinewidth": 2
                    }
                  }
                },
                "title": {
                  "text": "Civic engagement vs Gdp - Top 5 & Worst 5"
                },
                "xaxis": {
                  "anchor": "y",
                  "domain": [
                    0,
                    1
                  ],
                  "title": {
                    "text": "Gdp"
                  },
                  "type": "log"
                },
                "yaxis": {
                  "anchor": "x",
                  "domain": [
                    0,
                    1
                  ],
                  "title": {
                    "text": "Civic engagement"
                  }
                }
              }
            }
          },
          "metadata": {},
          "output_type": "display_data"
        }
      ],
      "source": [
        "# Gráfica de Paulina\n",
        "\n",
        "#Bar plot mejores 5\n",
        "fig = px.bar(top_bottom.query(\"Year==2023\"), x=\"Gdp\", y=\"Civic engagement\", color=\"Country\",\n",
        "           color_discrete_map=color_map, log_x=True)\n",
        "\n",
        "fig.update_layout(\n",
        "    title=\"Civic engagement vs Gdp - Top 5 & Worst 5\")\n",
        "fig.show()"
      ]
    },
    {
      "cell_type": "code",
      "execution_count": 28,
      "metadata": {
        "colab": {
          "base_uri": "https://localhost:8080/",
          "height": 542
        },
        "id": "J3PKmuA0n4hP",
        "outputId": "a3070768-fe16-49c3-c687-9306a81def18"
      },
      "outputs": [
        {
          "data": {
            "application/vnd.plotly.v1+json": {
              "config": {
                "plotlyServerURL": "https://plot.ly"
              },
              "data": [
                {
                  "alignmentgroup": "True",
                  "hovertemplate": "variable=Income<br>Country=%{x}<br>value=%{y}<extra></extra>",
                  "legendgroup": "Income",
                  "marker": {
                    "color": "#DC1841",
                    "pattern": {
                      "shape": ""
                    }
                  },
                  "name": "Income",
                  "offsetgroup": "Income",
                  "orientation": "v",
                  "showlegend": true,
                  "textposition": "auto",
                  "type": "bar",
                  "x": [
                    "Luxembourg",
                    "United States",
                    "New Zealand",
                    "Australia",
                    "United Kingdom"
                  ],
                  "xaxis": "x",
                  "y": {
                    "bdata": "UXxhH4uP7T+E4h6bSjzrP9njJhohb+M/Cp9dsqsY4z9QZxkjhVbhPw==",
                    "dtype": "f8"
                  },
                  "yaxis": "y"
                },
                {
                  "alignmentgroup": "True",
                  "hovertemplate": "variable=Education<br>Country=%{x}<br>value=%{y}<extra></extra>",
                  "legendgroup": "Education",
                  "marker": {
                    "color": "#DB824E",
                    "pattern": {
                      "shape": ""
                    }
                  },
                  "name": "Education",
                  "offsetgroup": "Education",
                  "orientation": "v",
                  "showlegend": true,
                  "textposition": "auto",
                  "type": "bar",
                  "x": [
                    "Luxembourg",
                    "United States",
                    "New Zealand",
                    "Australia",
                    "United Kingdom"
                  ],
                  "xaxis": "x",
                  "y": {
                    "bdata": "/FlfzRx53T/oJNwaRXDnP1imM7sDruc/mDXvcB2A6z8pUwrsbBrmPw==",
                    "dtype": "f8"
                  },
                  "yaxis": "y"
                }
              ],
              "layout": {
                "barmode": "group",
                "legend": {
                  "title": {
                    "text": "variable"
                  },
                  "tracegroupgap": 0
                },
                "template": {
                  "data": {
                    "bar": [
                      {
                        "error_x": {
                          "color": "#2a3f5f"
                        },
                        "error_y": {
                          "color": "#2a3f5f"
                        },
                        "marker": {
                          "line": {
                            "color": "#E5ECF6",
                            "width": 0.5
                          },
                          "pattern": {
                            "fillmode": "overlay",
                            "size": 10,
                            "solidity": 0.2
                          }
                        },
                        "type": "bar"
                      }
                    ],
                    "barpolar": [
                      {
                        "marker": {
                          "line": {
                            "color": "#E5ECF6",
                            "width": 0.5
                          },
                          "pattern": {
                            "fillmode": "overlay",
                            "size": 10,
                            "solidity": 0.2
                          }
                        },
                        "type": "barpolar"
                      }
                    ],
                    "carpet": [
                      {
                        "aaxis": {
                          "endlinecolor": "#2a3f5f",
                          "gridcolor": "white",
                          "linecolor": "white",
                          "minorgridcolor": "white",
                          "startlinecolor": "#2a3f5f"
                        },
                        "baxis": {
                          "endlinecolor": "#2a3f5f",
                          "gridcolor": "white",
                          "linecolor": "white",
                          "minorgridcolor": "white",
                          "startlinecolor": "#2a3f5f"
                        },
                        "type": "carpet"
                      }
                    ],
                    "choropleth": [
                      {
                        "colorbar": {
                          "outlinewidth": 0,
                          "ticks": ""
                        },
                        "type": "choropleth"
                      }
                    ],
                    "contour": [
                      {
                        "colorbar": {
                          "outlinewidth": 0,
                          "ticks": ""
                        },
                        "colorscale": [
                          [
                            0,
                            "#0d0887"
                          ],
                          [
                            0.1111111111111111,
                            "#46039f"
                          ],
                          [
                            0.2222222222222222,
                            "#7201a8"
                          ],
                          [
                            0.3333333333333333,
                            "#9c179e"
                          ],
                          [
                            0.4444444444444444,
                            "#bd3786"
                          ],
                          [
                            0.5555555555555556,
                            "#d8576b"
                          ],
                          [
                            0.6666666666666666,
                            "#ed7953"
                          ],
                          [
                            0.7777777777777778,
                            "#fb9f3a"
                          ],
                          [
                            0.8888888888888888,
                            "#fdca26"
                          ],
                          [
                            1,
                            "#f0f921"
                          ]
                        ],
                        "type": "contour"
                      }
                    ],
                    "contourcarpet": [
                      {
                        "colorbar": {
                          "outlinewidth": 0,
                          "ticks": ""
                        },
                        "type": "contourcarpet"
                      }
                    ],
                    "heatmap": [
                      {
                        "colorbar": {
                          "outlinewidth": 0,
                          "ticks": ""
                        },
                        "colorscale": [
                          [
                            0,
                            "#0d0887"
                          ],
                          [
                            0.1111111111111111,
                            "#46039f"
                          ],
                          [
                            0.2222222222222222,
                            "#7201a8"
                          ],
                          [
                            0.3333333333333333,
                            "#9c179e"
                          ],
                          [
                            0.4444444444444444,
                            "#bd3786"
                          ],
                          [
                            0.5555555555555556,
                            "#d8576b"
                          ],
                          [
                            0.6666666666666666,
                            "#ed7953"
                          ],
                          [
                            0.7777777777777778,
                            "#fb9f3a"
                          ],
                          [
                            0.8888888888888888,
                            "#fdca26"
                          ],
                          [
                            1,
                            "#f0f921"
                          ]
                        ],
                        "type": "heatmap"
                      }
                    ],
                    "histogram": [
                      {
                        "marker": {
                          "pattern": {
                            "fillmode": "overlay",
                            "size": 10,
                            "solidity": 0.2
                          }
                        },
                        "type": "histogram"
                      }
                    ],
                    "histogram2d": [
                      {
                        "colorbar": {
                          "outlinewidth": 0,
                          "ticks": ""
                        },
                        "colorscale": [
                          [
                            0,
                            "#0d0887"
                          ],
                          [
                            0.1111111111111111,
                            "#46039f"
                          ],
                          [
                            0.2222222222222222,
                            "#7201a8"
                          ],
                          [
                            0.3333333333333333,
                            "#9c179e"
                          ],
                          [
                            0.4444444444444444,
                            "#bd3786"
                          ],
                          [
                            0.5555555555555556,
                            "#d8576b"
                          ],
                          [
                            0.6666666666666666,
                            "#ed7953"
                          ],
                          [
                            0.7777777777777778,
                            "#fb9f3a"
                          ],
                          [
                            0.8888888888888888,
                            "#fdca26"
                          ],
                          [
                            1,
                            "#f0f921"
                          ]
                        ],
                        "type": "histogram2d"
                      }
                    ],
                    "histogram2dcontour": [
                      {
                        "colorbar": {
                          "outlinewidth": 0,
                          "ticks": ""
                        },
                        "colorscale": [
                          [
                            0,
                            "#0d0887"
                          ],
                          [
                            0.1111111111111111,
                            "#46039f"
                          ],
                          [
                            0.2222222222222222,
                            "#7201a8"
                          ],
                          [
                            0.3333333333333333,
                            "#9c179e"
                          ],
                          [
                            0.4444444444444444,
                            "#bd3786"
                          ],
                          [
                            0.5555555555555556,
                            "#d8576b"
                          ],
                          [
                            0.6666666666666666,
                            "#ed7953"
                          ],
                          [
                            0.7777777777777778,
                            "#fb9f3a"
                          ],
                          [
                            0.8888888888888888,
                            "#fdca26"
                          ],
                          [
                            1,
                            "#f0f921"
                          ]
                        ],
                        "type": "histogram2dcontour"
                      }
                    ],
                    "mesh3d": [
                      {
                        "colorbar": {
                          "outlinewidth": 0,
                          "ticks": ""
                        },
                        "type": "mesh3d"
                      }
                    ],
                    "parcoords": [
                      {
                        "line": {
                          "colorbar": {
                            "outlinewidth": 0,
                            "ticks": ""
                          }
                        },
                        "type": "parcoords"
                      }
                    ],
                    "pie": [
                      {
                        "automargin": true,
                        "type": "pie"
                      }
                    ],
                    "scatter": [
                      {
                        "fillpattern": {
                          "fillmode": "overlay",
                          "size": 10,
                          "solidity": 0.2
                        },
                        "type": "scatter"
                      }
                    ],
                    "scatter3d": [
                      {
                        "line": {
                          "colorbar": {
                            "outlinewidth": 0,
                            "ticks": ""
                          }
                        },
                        "marker": {
                          "colorbar": {
                            "outlinewidth": 0,
                            "ticks": ""
                          }
                        },
                        "type": "scatter3d"
                      }
                    ],
                    "scattercarpet": [
                      {
                        "marker": {
                          "colorbar": {
                            "outlinewidth": 0,
                            "ticks": ""
                          }
                        },
                        "type": "scattercarpet"
                      }
                    ],
                    "scattergeo": [
                      {
                        "marker": {
                          "colorbar": {
                            "outlinewidth": 0,
                            "ticks": ""
                          }
                        },
                        "type": "scattergeo"
                      }
                    ],
                    "scattergl": [
                      {
                        "marker": {
                          "colorbar": {
                            "outlinewidth": 0,
                            "ticks": ""
                          }
                        },
                        "type": "scattergl"
                      }
                    ],
                    "scattermap": [
                      {
                        "marker": {
                          "colorbar": {
                            "outlinewidth": 0,
                            "ticks": ""
                          }
                        },
                        "type": "scattermap"
                      }
                    ],
                    "scattermapbox": [
                      {
                        "marker": {
                          "colorbar": {
                            "outlinewidth": 0,
                            "ticks": ""
                          }
                        },
                        "type": "scattermapbox"
                      }
                    ],
                    "scatterpolar": [
                      {
                        "marker": {
                          "colorbar": {
                            "outlinewidth": 0,
                            "ticks": ""
                          }
                        },
                        "type": "scatterpolar"
                      }
                    ],
                    "scatterpolargl": [
                      {
                        "marker": {
                          "colorbar": {
                            "outlinewidth": 0,
                            "ticks": ""
                          }
                        },
                        "type": "scatterpolargl"
                      }
                    ],
                    "scatterternary": [
                      {
                        "marker": {
                          "colorbar": {
                            "outlinewidth": 0,
                            "ticks": ""
                          }
                        },
                        "type": "scatterternary"
                      }
                    ],
                    "surface": [
                      {
                        "colorbar": {
                          "outlinewidth": 0,
                          "ticks": ""
                        },
                        "colorscale": [
                          [
                            0,
                            "#0d0887"
                          ],
                          [
                            0.1111111111111111,
                            "#46039f"
                          ],
                          [
                            0.2222222222222222,
                            "#7201a8"
                          ],
                          [
                            0.3333333333333333,
                            "#9c179e"
                          ],
                          [
                            0.4444444444444444,
                            "#bd3786"
                          ],
                          [
                            0.5555555555555556,
                            "#d8576b"
                          ],
                          [
                            0.6666666666666666,
                            "#ed7953"
                          ],
                          [
                            0.7777777777777778,
                            "#fb9f3a"
                          ],
                          [
                            0.8888888888888888,
                            "#fdca26"
                          ],
                          [
                            1,
                            "#f0f921"
                          ]
                        ],
                        "type": "surface"
                      }
                    ],
                    "table": [
                      {
                        "cells": {
                          "fill": {
                            "color": "#EBF0F8"
                          },
                          "line": {
                            "color": "white"
                          }
                        },
                        "header": {
                          "fill": {
                            "color": "#C8D4E3"
                          },
                          "line": {
                            "color": "white"
                          }
                        },
                        "type": "table"
                      }
                    ]
                  },
                  "layout": {
                    "annotationdefaults": {
                      "arrowcolor": "#2a3f5f",
                      "arrowhead": 0,
                      "arrowwidth": 1
                    },
                    "autotypenumbers": "strict",
                    "coloraxis": {
                      "colorbar": {
                        "outlinewidth": 0,
                        "ticks": ""
                      }
                    },
                    "colorscale": {
                      "diverging": [
                        [
                          0,
                          "#8e0152"
                        ],
                        [
                          0.1,
                          "#c51b7d"
                        ],
                        [
                          0.2,
                          "#de77ae"
                        ],
                        [
                          0.3,
                          "#f1b6da"
                        ],
                        [
                          0.4,
                          "#fde0ef"
                        ],
                        [
                          0.5,
                          "#f7f7f7"
                        ],
                        [
                          0.6,
                          "#e6f5d0"
                        ],
                        [
                          0.7,
                          "#b8e186"
                        ],
                        [
                          0.8,
                          "#7fbc41"
                        ],
                        [
                          0.9,
                          "#4d9221"
                        ],
                        [
                          1,
                          "#276419"
                        ]
                      ],
                      "sequential": [
                        [
                          0,
                          "#0d0887"
                        ],
                        [
                          0.1111111111111111,
                          "#46039f"
                        ],
                        [
                          0.2222222222222222,
                          "#7201a8"
                        ],
                        [
                          0.3333333333333333,
                          "#9c179e"
                        ],
                        [
                          0.4444444444444444,
                          "#bd3786"
                        ],
                        [
                          0.5555555555555556,
                          "#d8576b"
                        ],
                        [
                          0.6666666666666666,
                          "#ed7953"
                        ],
                        [
                          0.7777777777777778,
                          "#fb9f3a"
                        ],
                        [
                          0.8888888888888888,
                          "#fdca26"
                        ],
                        [
                          1,
                          "#f0f921"
                        ]
                      ],
                      "sequentialminus": [
                        [
                          0,
                          "#0d0887"
                        ],
                        [
                          0.1111111111111111,
                          "#46039f"
                        ],
                        [
                          0.2222222222222222,
                          "#7201a8"
                        ],
                        [
                          0.3333333333333333,
                          "#9c179e"
                        ],
                        [
                          0.4444444444444444,
                          "#bd3786"
                        ],
                        [
                          0.5555555555555556,
                          "#d8576b"
                        ],
                        [
                          0.6666666666666666,
                          "#ed7953"
                        ],
                        [
                          0.7777777777777778,
                          "#fb9f3a"
                        ],
                        [
                          0.8888888888888888,
                          "#fdca26"
                        ],
                        [
                          1,
                          "#f0f921"
                        ]
                      ]
                    },
                    "colorway": [
                      "#636efa",
                      "#EF553B",
                      "#00cc96",
                      "#ab63fa",
                      "#FFA15A",
                      "#19d3f3",
                      "#FF6692",
                      "#B6E880",
                      "#FF97FF",
                      "#FECB52"
                    ],
                    "font": {
                      "color": "#2a3f5f"
                    },
                    "geo": {
                      "bgcolor": "white",
                      "lakecolor": "white",
                      "landcolor": "#E5ECF6",
                      "showlakes": true,
                      "showland": true,
                      "subunitcolor": "white"
                    },
                    "hoverlabel": {
                      "align": "left"
                    },
                    "hovermode": "closest",
                    "mapbox": {
                      "style": "light"
                    },
                    "paper_bgcolor": "white",
                    "plot_bgcolor": "#E5ECF6",
                    "polar": {
                      "angularaxis": {
                        "gridcolor": "white",
                        "linecolor": "white",
                        "ticks": ""
                      },
                      "bgcolor": "#E5ECF6",
                      "radialaxis": {
                        "gridcolor": "white",
                        "linecolor": "white",
                        "ticks": ""
                      }
                    },
                    "scene": {
                      "xaxis": {
                        "backgroundcolor": "#E5ECF6",
                        "gridcolor": "white",
                        "gridwidth": 2,
                        "linecolor": "white",
                        "showbackground": true,
                        "ticks": "",
                        "zerolinecolor": "white"
                      },
                      "yaxis": {
                        "backgroundcolor": "#E5ECF6",
                        "gridcolor": "white",
                        "gridwidth": 2,
                        "linecolor": "white",
                        "showbackground": true,
                        "ticks": "",
                        "zerolinecolor": "white"
                      },
                      "zaxis": {
                        "backgroundcolor": "#E5ECF6",
                        "gridcolor": "white",
                        "gridwidth": 2,
                        "linecolor": "white",
                        "showbackground": true,
                        "ticks": "",
                        "zerolinecolor": "white"
                      }
                    },
                    "shapedefaults": {
                      "line": {
                        "color": "#2a3f5f"
                      }
                    },
                    "ternary": {
                      "aaxis": {
                        "gridcolor": "white",
                        "linecolor": "white",
                        "ticks": ""
                      },
                      "baxis": {
                        "gridcolor": "white",
                        "linecolor": "white",
                        "ticks": ""
                      },
                      "bgcolor": "#E5ECF6",
                      "caxis": {
                        "gridcolor": "white",
                        "linecolor": "white",
                        "ticks": ""
                      }
                    },
                    "title": {
                      "x": 0.05
                    },
                    "xaxis": {
                      "automargin": true,
                      "gridcolor": "white",
                      "linecolor": "white",
                      "ticks": "",
                      "title": {
                        "standoff": 15
                      },
                      "zerolinecolor": "white",
                      "zerolinewidth": 2
                    },
                    "yaxis": {
                      "automargin": true,
                      "gridcolor": "white",
                      "linecolor": "white",
                      "ticks": "",
                      "title": {
                        "standoff": 15
                      },
                      "zerolinecolor": "white",
                      "zerolinewidth": 2
                    }
                  }
                },
                "title": {
                  "text": "Comparación de Income y Education Level por País"
                },
                "xaxis": {
                  "anchor": "y",
                  "domain": [
                    0,
                    1
                  ],
                  "title": {
                    "text": "Country"
                  }
                },
                "yaxis": {
                  "anchor": "x",
                  "domain": [
                    0,
                    1
                  ],
                  "title": {
                    "text": "value"
                  }
                }
              }
            }
          },
          "metadata": {},
          "output_type": "display_data"
        }
      ],
      "source": [
        "# Gráfica de Santiago\n",
        "\n",
        "fig = px.bar(topIncomeAndEducation, x=\"Country\", y=[\"Income\", \"Education\"],\n",
        "             barmode=\"group\", title=\"Comparación de Income y Education Level por País\",color_discrete_map=color_mapSan)\n",
        "\n",
        "# Mostrar gráfico\n",
        "fig.show()"
      ]
    },
    {
      "cell_type": "code",
      "execution_count": 29,
      "metadata": {
        "colab": {
          "base_uri": "https://localhost:8080/",
          "height": 542
        },
        "id": "oZYfij80191t",
        "outputId": "0c9771b0-2b18-443a-a4ed-e8c1792b738d"
      },
      "outputs": [
        {
          "data": {
            "application/vnd.plotly.v1+json": {
              "config": {
                "plotlyServerURL": "https://plot.ly"
              },
              "data": [
                {
                  "hovertemplate": "Country=%{x}<br>Work Life Balance=%{y}<extra></extra>",
                  "legendgroup": "Italy",
                  "marker": {
                    "color": "#8BDEDB",
                    "pattern": {
                      "shape": ""
                    }
                  },
                  "name": "Italy",
                  "orientation": "v",
                  "showlegend": true,
                  "textposition": "auto",
                  "type": "bar",
                  "x": [
                    "Italy"
                  ],
                  "xaxis": "x",
                  "y": {
                    "bdata": "8oqmVb4Y7j8=",
                    "dtype": "f8"
                  },
                  "yaxis": "y"
                },
                {
                  "hovertemplate": "Country=%{x}<br>Work Life Balance=%{y}<extra></extra>",
                  "legendgroup": "Norway",
                  "marker": {
                    "color": "#50A1E1",
                    "pattern": {
                      "shape": ""
                    }
                  },
                  "name": "Norway",
                  "orientation": "v",
                  "showlegend": true,
                  "textposition": "auto",
                  "type": "bar",
                  "x": [
                    "Norway"
                  ],
                  "xaxis": "x",
                  "y": {
                    "bdata": "UUhonm/T6T8=",
                    "dtype": "f8"
                  },
                  "yaxis": "y"
                },
                {
                  "hovertemplate": "Country=%{x}<br>Work Life Balance=%{y}<extra></extra>",
                  "legendgroup": "Spain",
                  "marker": {
                    "color": "#1370EB",
                    "pattern": {
                      "shape": ""
                    }
                  },
                  "name": "Spain",
                  "orientation": "v",
                  "showlegend": true,
                  "textposition": "auto",
                  "type": "bar",
                  "x": [
                    "Spain"
                  ],
                  "xaxis": "x",
                  "y": {
                    "bdata": "ft5JBDS26T8=",
                    "dtype": "f8"
                  },
                  "yaxis": "y"
                },
                {
                  "hovertemplate": "Country=%{x}<br>Work Life Balance=%{y}<extra></extra>",
                  "legendgroup": "France",
                  "marker": {
                    "color": "#B1FAAA",
                    "pattern": {
                      "shape": ""
                    }
                  },
                  "name": "France",
                  "orientation": "v",
                  "showlegend": true,
                  "textposition": "auto",
                  "type": "bar",
                  "x": [
                    "France"
                  ],
                  "xaxis": "x",
                  "y": {
                    "bdata": "WmbwBCKo6T8=",
                    "dtype": "f8"
                  },
                  "yaxis": "y"
                },
                {
                  "hovertemplate": "Country=%{x}<br>Work Life Balance=%{y}<extra></extra>",
                  "legendgroup": "Netherlands",
                  "marker": {
                    "color": "#DFEB6A",
                    "pattern": {
                      "shape": ""
                    }
                  },
                  "name": "Netherlands",
                  "orientation": "v",
                  "showlegend": true,
                  "textposition": "auto",
                  "type": "bar",
                  "x": [
                    "Netherlands"
                  ],
                  "xaxis": "x",
                  "y": {
                    "bdata": "6hrCBbb+6D8=",
                    "dtype": "f8"
                  },
                  "yaxis": "y"
                },
                {
                  "hovertemplate": "Country=%{x}<br>Work Life Balance=%{y}<extra></extra>",
                  "legendgroup": "Japan",
                  "marker": {
                    "color": "#DBA857",
                    "pattern": {
                      "shape": ""
                    }
                  },
                  "name": "Japan",
                  "orientation": "v",
                  "showlegend": true,
                  "textposition": "auto",
                  "type": "bar",
                  "x": [
                    "Japan"
                  ],
                  "xaxis": "x",
                  "y": {
                    "bdata": "AAAAAAAAAAA=",
                    "dtype": "f8"
                  },
                  "yaxis": "y"
                },
                {
                  "hovertemplate": "Country=%{x}<br>Work Life Balance=%{y}<extra></extra>",
                  "legendgroup": "Mexico",
                  "marker": {
                    "color": "#EB2101",
                    "pattern": {
                      "shape": ""
                    }
                  },
                  "name": "Mexico",
                  "orientation": "v",
                  "showlegend": true,
                  "textposition": "auto",
                  "type": "bar",
                  "x": [
                    "Mexico"
                  ],
                  "xaxis": "x",
                  "y": {
                    "bdata": "AAAAAAAAAAA=",
                    "dtype": "f8"
                  },
                  "yaxis": "y"
                },
                {
                  "hovertemplate": "Country=%{x}<br>Work Life Balance=%{y}<extra></extra>",
                  "legendgroup": "Colombia",
                  "marker": {
                    "color": "#FF9A01",
                    "pattern": {
                      "shape": ""
                    }
                  },
                  "name": "Colombia",
                  "orientation": "v",
                  "showlegend": true,
                  "textposition": "auto",
                  "type": "bar",
                  "x": [
                    "Colombia"
                  ],
                  "xaxis": "x",
                  "y": {
                    "bdata": "cAvEertnrz8=",
                    "dtype": "f8"
                  },
                  "yaxis": "y"
                },
                {
                  "hovertemplate": "Country=%{x}<br>Work Life Balance=%{y}<extra></extra>",
                  "legendgroup": "Costa Rica",
                  "marker": {
                    "color": "#E57A6E",
                    "pattern": {
                      "shape": ""
                    }
                  },
                  "name": "Costa Rica",
                  "orientation": "v",
                  "showlegend": true,
                  "textposition": "auto",
                  "type": "bar",
                  "x": [
                    "Costa Rica"
                  ],
                  "xaxis": "x",
                  "y": {
                    "bdata": "NDde0bTKtz8=",
                    "dtype": "f8"
                  },
                  "yaxis": "y"
                },
                {
                  "hovertemplate": "Country=%{x}<br>Work Life Balance=%{y}<extra></extra>",
                  "legendgroup": "Türkiye",
                  "marker": {
                    "color": "#636efa",
                    "pattern": {
                      "shape": ""
                    }
                  },
                  "name": "Türkiye",
                  "orientation": "v",
                  "showlegend": true,
                  "textposition": "auto",
                  "type": "bar",
                  "x": [
                    "Türkiye"
                  ],
                  "xaxis": "x",
                  "y": {
                    "bdata": "L0AQ6c+Hwj8=",
                    "dtype": "f8"
                  },
                  "yaxis": "y"
                }
              ],
              "layout": {
                "barmode": "relative",
                "legend": {
                  "title": {
                    "text": "Country"
                  },
                  "tracegroupgap": 0
                },
                "template": {
                  "data": {
                    "bar": [
                      {
                        "error_x": {
                          "color": "#2a3f5f"
                        },
                        "error_y": {
                          "color": "#2a3f5f"
                        },
                        "marker": {
                          "line": {
                            "color": "#E5ECF6",
                            "width": 0.5
                          },
                          "pattern": {
                            "fillmode": "overlay",
                            "size": 10,
                            "solidity": 0.2
                          }
                        },
                        "type": "bar"
                      }
                    ],
                    "barpolar": [
                      {
                        "marker": {
                          "line": {
                            "color": "#E5ECF6",
                            "width": 0.5
                          },
                          "pattern": {
                            "fillmode": "overlay",
                            "size": 10,
                            "solidity": 0.2
                          }
                        },
                        "type": "barpolar"
                      }
                    ],
                    "carpet": [
                      {
                        "aaxis": {
                          "endlinecolor": "#2a3f5f",
                          "gridcolor": "white",
                          "linecolor": "white",
                          "minorgridcolor": "white",
                          "startlinecolor": "#2a3f5f"
                        },
                        "baxis": {
                          "endlinecolor": "#2a3f5f",
                          "gridcolor": "white",
                          "linecolor": "white",
                          "minorgridcolor": "white",
                          "startlinecolor": "#2a3f5f"
                        },
                        "type": "carpet"
                      }
                    ],
                    "choropleth": [
                      {
                        "colorbar": {
                          "outlinewidth": 0,
                          "ticks": ""
                        },
                        "type": "choropleth"
                      }
                    ],
                    "contour": [
                      {
                        "colorbar": {
                          "outlinewidth": 0,
                          "ticks": ""
                        },
                        "colorscale": [
                          [
                            0,
                            "#0d0887"
                          ],
                          [
                            0.1111111111111111,
                            "#46039f"
                          ],
                          [
                            0.2222222222222222,
                            "#7201a8"
                          ],
                          [
                            0.3333333333333333,
                            "#9c179e"
                          ],
                          [
                            0.4444444444444444,
                            "#bd3786"
                          ],
                          [
                            0.5555555555555556,
                            "#d8576b"
                          ],
                          [
                            0.6666666666666666,
                            "#ed7953"
                          ],
                          [
                            0.7777777777777778,
                            "#fb9f3a"
                          ],
                          [
                            0.8888888888888888,
                            "#fdca26"
                          ],
                          [
                            1,
                            "#f0f921"
                          ]
                        ],
                        "type": "contour"
                      }
                    ],
                    "contourcarpet": [
                      {
                        "colorbar": {
                          "outlinewidth": 0,
                          "ticks": ""
                        },
                        "type": "contourcarpet"
                      }
                    ],
                    "heatmap": [
                      {
                        "colorbar": {
                          "outlinewidth": 0,
                          "ticks": ""
                        },
                        "colorscale": [
                          [
                            0,
                            "#0d0887"
                          ],
                          [
                            0.1111111111111111,
                            "#46039f"
                          ],
                          [
                            0.2222222222222222,
                            "#7201a8"
                          ],
                          [
                            0.3333333333333333,
                            "#9c179e"
                          ],
                          [
                            0.4444444444444444,
                            "#bd3786"
                          ],
                          [
                            0.5555555555555556,
                            "#d8576b"
                          ],
                          [
                            0.6666666666666666,
                            "#ed7953"
                          ],
                          [
                            0.7777777777777778,
                            "#fb9f3a"
                          ],
                          [
                            0.8888888888888888,
                            "#fdca26"
                          ],
                          [
                            1,
                            "#f0f921"
                          ]
                        ],
                        "type": "heatmap"
                      }
                    ],
                    "histogram": [
                      {
                        "marker": {
                          "pattern": {
                            "fillmode": "overlay",
                            "size": 10,
                            "solidity": 0.2
                          }
                        },
                        "type": "histogram"
                      }
                    ],
                    "histogram2d": [
                      {
                        "colorbar": {
                          "outlinewidth": 0,
                          "ticks": ""
                        },
                        "colorscale": [
                          [
                            0,
                            "#0d0887"
                          ],
                          [
                            0.1111111111111111,
                            "#46039f"
                          ],
                          [
                            0.2222222222222222,
                            "#7201a8"
                          ],
                          [
                            0.3333333333333333,
                            "#9c179e"
                          ],
                          [
                            0.4444444444444444,
                            "#bd3786"
                          ],
                          [
                            0.5555555555555556,
                            "#d8576b"
                          ],
                          [
                            0.6666666666666666,
                            "#ed7953"
                          ],
                          [
                            0.7777777777777778,
                            "#fb9f3a"
                          ],
                          [
                            0.8888888888888888,
                            "#fdca26"
                          ],
                          [
                            1,
                            "#f0f921"
                          ]
                        ],
                        "type": "histogram2d"
                      }
                    ],
                    "histogram2dcontour": [
                      {
                        "colorbar": {
                          "outlinewidth": 0,
                          "ticks": ""
                        },
                        "colorscale": [
                          [
                            0,
                            "#0d0887"
                          ],
                          [
                            0.1111111111111111,
                            "#46039f"
                          ],
                          [
                            0.2222222222222222,
                            "#7201a8"
                          ],
                          [
                            0.3333333333333333,
                            "#9c179e"
                          ],
                          [
                            0.4444444444444444,
                            "#bd3786"
                          ],
                          [
                            0.5555555555555556,
                            "#d8576b"
                          ],
                          [
                            0.6666666666666666,
                            "#ed7953"
                          ],
                          [
                            0.7777777777777778,
                            "#fb9f3a"
                          ],
                          [
                            0.8888888888888888,
                            "#fdca26"
                          ],
                          [
                            1,
                            "#f0f921"
                          ]
                        ],
                        "type": "histogram2dcontour"
                      }
                    ],
                    "mesh3d": [
                      {
                        "colorbar": {
                          "outlinewidth": 0,
                          "ticks": ""
                        },
                        "type": "mesh3d"
                      }
                    ],
                    "parcoords": [
                      {
                        "line": {
                          "colorbar": {
                            "outlinewidth": 0,
                            "ticks": ""
                          }
                        },
                        "type": "parcoords"
                      }
                    ],
                    "pie": [
                      {
                        "automargin": true,
                        "type": "pie"
                      }
                    ],
                    "scatter": [
                      {
                        "fillpattern": {
                          "fillmode": "overlay",
                          "size": 10,
                          "solidity": 0.2
                        },
                        "type": "scatter"
                      }
                    ],
                    "scatter3d": [
                      {
                        "line": {
                          "colorbar": {
                            "outlinewidth": 0,
                            "ticks": ""
                          }
                        },
                        "marker": {
                          "colorbar": {
                            "outlinewidth": 0,
                            "ticks": ""
                          }
                        },
                        "type": "scatter3d"
                      }
                    ],
                    "scattercarpet": [
                      {
                        "marker": {
                          "colorbar": {
                            "outlinewidth": 0,
                            "ticks": ""
                          }
                        },
                        "type": "scattercarpet"
                      }
                    ],
                    "scattergeo": [
                      {
                        "marker": {
                          "colorbar": {
                            "outlinewidth": 0,
                            "ticks": ""
                          }
                        },
                        "type": "scattergeo"
                      }
                    ],
                    "scattergl": [
                      {
                        "marker": {
                          "colorbar": {
                            "outlinewidth": 0,
                            "ticks": ""
                          }
                        },
                        "type": "scattergl"
                      }
                    ],
                    "scattermap": [
                      {
                        "marker": {
                          "colorbar": {
                            "outlinewidth": 0,
                            "ticks": ""
                          }
                        },
                        "type": "scattermap"
                      }
                    ],
                    "scattermapbox": [
                      {
                        "marker": {
                          "colorbar": {
                            "outlinewidth": 0,
                            "ticks": ""
                          }
                        },
                        "type": "scattermapbox"
                      }
                    ],
                    "scatterpolar": [
                      {
                        "marker": {
                          "colorbar": {
                            "outlinewidth": 0,
                            "ticks": ""
                          }
                        },
                        "type": "scatterpolar"
                      }
                    ],
                    "scatterpolargl": [
                      {
                        "marker": {
                          "colorbar": {
                            "outlinewidth": 0,
                            "ticks": ""
                          }
                        },
                        "type": "scatterpolargl"
                      }
                    ],
                    "scatterternary": [
                      {
                        "marker": {
                          "colorbar": {
                            "outlinewidth": 0,
                            "ticks": ""
                          }
                        },
                        "type": "scatterternary"
                      }
                    ],
                    "surface": [
                      {
                        "colorbar": {
                          "outlinewidth": 0,
                          "ticks": ""
                        },
                        "colorscale": [
                          [
                            0,
                            "#0d0887"
                          ],
                          [
                            0.1111111111111111,
                            "#46039f"
                          ],
                          [
                            0.2222222222222222,
                            "#7201a8"
                          ],
                          [
                            0.3333333333333333,
                            "#9c179e"
                          ],
                          [
                            0.4444444444444444,
                            "#bd3786"
                          ],
                          [
                            0.5555555555555556,
                            "#d8576b"
                          ],
                          [
                            0.6666666666666666,
                            "#ed7953"
                          ],
                          [
                            0.7777777777777778,
                            "#fb9f3a"
                          ],
                          [
                            0.8888888888888888,
                            "#fdca26"
                          ],
                          [
                            1,
                            "#f0f921"
                          ]
                        ],
                        "type": "surface"
                      }
                    ],
                    "table": [
                      {
                        "cells": {
                          "fill": {
                            "color": "#EBF0F8"
                          },
                          "line": {
                            "color": "white"
                          }
                        },
                        "header": {
                          "fill": {
                            "color": "#C8D4E3"
                          },
                          "line": {
                            "color": "white"
                          }
                        },
                        "type": "table"
                      }
                    ]
                  },
                  "layout": {
                    "annotationdefaults": {
                      "arrowcolor": "#2a3f5f",
                      "arrowhead": 0,
                      "arrowwidth": 1
                    },
                    "autotypenumbers": "strict",
                    "coloraxis": {
                      "colorbar": {
                        "outlinewidth": 0,
                        "ticks": ""
                      }
                    },
                    "colorscale": {
                      "diverging": [
                        [
                          0,
                          "#8e0152"
                        ],
                        [
                          0.1,
                          "#c51b7d"
                        ],
                        [
                          0.2,
                          "#de77ae"
                        ],
                        [
                          0.3,
                          "#f1b6da"
                        ],
                        [
                          0.4,
                          "#fde0ef"
                        ],
                        [
                          0.5,
                          "#f7f7f7"
                        ],
                        [
                          0.6,
                          "#e6f5d0"
                        ],
                        [
                          0.7,
                          "#b8e186"
                        ],
                        [
                          0.8,
                          "#7fbc41"
                        ],
                        [
                          0.9,
                          "#4d9221"
                        ],
                        [
                          1,
                          "#276419"
                        ]
                      ],
                      "sequential": [
                        [
                          0,
                          "#0d0887"
                        ],
                        [
                          0.1111111111111111,
                          "#46039f"
                        ],
                        [
                          0.2222222222222222,
                          "#7201a8"
                        ],
                        [
                          0.3333333333333333,
                          "#9c179e"
                        ],
                        [
                          0.4444444444444444,
                          "#bd3786"
                        ],
                        [
                          0.5555555555555556,
                          "#d8576b"
                        ],
                        [
                          0.6666666666666666,
                          "#ed7953"
                        ],
                        [
                          0.7777777777777778,
                          "#fb9f3a"
                        ],
                        [
                          0.8888888888888888,
                          "#fdca26"
                        ],
                        [
                          1,
                          "#f0f921"
                        ]
                      ],
                      "sequentialminus": [
                        [
                          0,
                          "#0d0887"
                        ],
                        [
                          0.1111111111111111,
                          "#46039f"
                        ],
                        [
                          0.2222222222222222,
                          "#7201a8"
                        ],
                        [
                          0.3333333333333333,
                          "#9c179e"
                        ],
                        [
                          0.4444444444444444,
                          "#bd3786"
                        ],
                        [
                          0.5555555555555556,
                          "#d8576b"
                        ],
                        [
                          0.6666666666666666,
                          "#ed7953"
                        ],
                        [
                          0.7777777777777778,
                          "#fb9f3a"
                        ],
                        [
                          0.8888888888888888,
                          "#fdca26"
                        ],
                        [
                          1,
                          "#f0f921"
                        ]
                      ]
                    },
                    "colorway": [
                      "#636efa",
                      "#EF553B",
                      "#00cc96",
                      "#ab63fa",
                      "#FFA15A",
                      "#19d3f3",
                      "#FF6692",
                      "#B6E880",
                      "#FF97FF",
                      "#FECB52"
                    ],
                    "font": {
                      "color": "#2a3f5f"
                    },
                    "geo": {
                      "bgcolor": "white",
                      "lakecolor": "white",
                      "landcolor": "#E5ECF6",
                      "showlakes": true,
                      "showland": true,
                      "subunitcolor": "white"
                    },
                    "hoverlabel": {
                      "align": "left"
                    },
                    "hovermode": "closest",
                    "mapbox": {
                      "style": "light"
                    },
                    "paper_bgcolor": "white",
                    "plot_bgcolor": "#E5ECF6",
                    "polar": {
                      "angularaxis": {
                        "gridcolor": "white",
                        "linecolor": "white",
                        "ticks": ""
                      },
                      "bgcolor": "#E5ECF6",
                      "radialaxis": {
                        "gridcolor": "white",
                        "linecolor": "white",
                        "ticks": ""
                      }
                    },
                    "scene": {
                      "xaxis": {
                        "backgroundcolor": "#E5ECF6",
                        "gridcolor": "white",
                        "gridwidth": 2,
                        "linecolor": "white",
                        "showbackground": true,
                        "ticks": "",
                        "zerolinecolor": "white"
                      },
                      "yaxis": {
                        "backgroundcolor": "#E5ECF6",
                        "gridcolor": "white",
                        "gridwidth": 2,
                        "linecolor": "white",
                        "showbackground": true,
                        "ticks": "",
                        "zerolinecolor": "white"
                      },
                      "zaxis": {
                        "backgroundcolor": "#E5ECF6",
                        "gridcolor": "white",
                        "gridwidth": 2,
                        "linecolor": "white",
                        "showbackground": true,
                        "ticks": "",
                        "zerolinecolor": "white"
                      }
                    },
                    "shapedefaults": {
                      "line": {
                        "color": "#2a3f5f"
                      }
                    },
                    "ternary": {
                      "aaxis": {
                        "gridcolor": "white",
                        "linecolor": "white",
                        "ticks": ""
                      },
                      "baxis": {
                        "gridcolor": "white",
                        "linecolor": "white",
                        "ticks": ""
                      },
                      "bgcolor": "#E5ECF6",
                      "caxis": {
                        "gridcolor": "white",
                        "linecolor": "white",
                        "ticks": ""
                      }
                    },
                    "title": {
                      "x": 0.05
                    },
                    "xaxis": {
                      "automargin": true,
                      "gridcolor": "white",
                      "linecolor": "white",
                      "ticks": "",
                      "title": {
                        "standoff": 15
                      },
                      "zerolinecolor": "white",
                      "zerolinewidth": 2
                    },
                    "yaxis": {
                      "automargin": true,
                      "gridcolor": "white",
                      "linecolor": "white",
                      "ticks": "",
                      "title": {
                        "standoff": 15
                      },
                      "zerolinecolor": "white",
                      "zerolinewidth": 2
                    }
                  }
                },
                "title": {
                  "text": "Top & Bottom 5 países según Work Life Balance - 2023"
                },
                "xaxis": {
                  "anchor": "y",
                  "categoryarray": [
                    "Italy",
                    "Norway",
                    "Spain",
                    "France",
                    "Netherlands",
                    "Japan",
                    "Mexico",
                    "Colombia",
                    "Costa Rica",
                    "Türkiye"
                  ],
                  "categoryorder": "array",
                  "domain": [
                    0,
                    1
                  ],
                  "title": {
                    "text": "Country"
                  }
                },
                "yaxis": {
                  "anchor": "x",
                  "domain": [
                    0,
                    1
                  ],
                  "title": {
                    "text": "Work Life Balance"
                  }
                }
              }
            }
          },
          "metadata": {},
          "output_type": "display_data"
        }
      ],
      "source": [
        "# Gráfica de Daniela \n",
        "color_map2 = {\n",
        "    \"Italy\": \"#8BDEDB\",\n",
        "    \"Norway\": \"#50A1E1\",\n",
        "    \"Spain\": \"#1370EB\"  ,\n",
        "    \"France\": \"#B1FAAA\",\n",
        "    \"Netherlands\": \"#DFEB6A\",\n",
        "    \"Mexico\": '#EB2101',\n",
        "    \"Costa Rica\": '#E57A6E',\n",
        "    \"Japan\": '#DBA857',\n",
        "    \"Colombia\": '#FF9A01',\n",
        "    \"Turkiye\":'#E62DB9'\n",
        "\n",
        "}\n",
        "color_mapSan = {\n",
        "    \"Work Life Balance\": \"#DC1841\",\n",
        "}\n",
        "final_2023 = Final[Final[\"Year\"] == 2023]\n",
        "top5 = final_2023.nlargest(5, \"Work Life Balance\")\n",
        "bottom5 = final_2023.nsmallest(5, \"Work Life Balance\")\n",
        "top_bottom_wlb = pd.concat([top5, bottom5])\n",
        "\n",
        "fig = px.bar(\n",
        "    top_bottom_wlb,\n",
        "    x=\"Country\",\n",
        "    y=\"Work Life Balance\",\n",
        "    color=\"Country\",\n",
        "    color_discrete_map=color_map2,\n",
        "    title=\"Top & Bottom 5 países según Work Life Balance - 2023\"\n",
        ")\n",
        "\n",
        "fig.show()"
      ]
    }
  ],
  "metadata": {
    "colab": {
      "provenance": []
    },
    "kernelspec": {
      "display_name": "Analisiscienciadedatos",
      "language": "python",
      "name": "python3"
    },
    "language_info": {
      "codemirror_mode": {
        "name": "ipython",
        "version": 3
      },
      "file_extension": ".py",
      "mimetype": "text/x-python",
      "name": "python",
      "nbconvert_exporter": "python",
      "pygments_lexer": "ipython3",
      "version": "3.12.9"
    }
  },
  "nbformat": 4,
  "nbformat_minor": 0
}
