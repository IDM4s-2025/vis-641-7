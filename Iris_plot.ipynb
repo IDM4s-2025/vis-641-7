{
 "cells": [
  {
   "cell_type": "markdown",
   "metadata": {},
   "source": [
    "## KnowledgeEngine\n",
    "This is the place where all the magic happens.\n",
    "\n",
    "The first step is to make a subclass of it and use Rule to decorate its methods.\n",
    "\n",
    "After that, you can instantiate it, populate it with facts, and finally run it."
   ]
  },
  {
   "cell_type": "code",
   "execution_count": 3,
   "metadata": {},
   "outputs": [
    {
     "name": "stdout",
     "output_type": "stream",
     "text": [
      "Hi daniela! How is the weather in mexico?\n"
     ]
    }
   ],
   "source": [
    "from experta import *\n",
    "\n",
    "class Greetings(KnowledgeEngine):\n",
    "    @DefFacts()\n",
    "    def _initial_action(self):\n",
    "        yield Fact(action=\"greet\")\n",
    "\n",
    "    @Rule(Fact(action='greet'),\n",
    "          NOT(Fact(name=W())))\n",
    "    def ask_name(self):\n",
    "        self.declare(Fact(name=input(\"What's your name? \")))\n",
    "\n",
    "    @Rule(Fact(action='greet'),\n",
    "          NOT(Fact(location=W())))\n",
    "    def ask_location(self):\n",
    "        self.declare(Fact(location=input(\"Where are you? \")))\n",
    "\n",
    "    @Rule(Fact(action='greet'),\n",
    "          Fact(name=MATCH.name),\n",
    "          Fact(location=MATCH.location))\n",
    "    def greet(self, name, location):\n",
    "        print(\"Hi %s! How is the weather in %s?\" % (name, location))\n",
    "\n",
    "engine = Greetings()\n",
    "engine.reset()  # Prepare the engine for the execution.\n",
    "engine.run()  # Run it!"
   ]
  }
 ],
 "metadata": {
  "kernelspec": {
   "display_name": "Analisiscienciadedatos",
   "language": "python",
   "name": "python3"
  },
  "language_info": {
   "codemirror_mode": {
    "name": "ipython",
    "version": 3
   },
   "file_extension": ".py",
   "mimetype": "text/x-python",
   "name": "python",
   "nbconvert_exporter": "python",
   "pygments_lexer": "ipython3",
   "version": "3.12.9"
  }
 },
 "nbformat": 4,
 "nbformat_minor": 2
}
